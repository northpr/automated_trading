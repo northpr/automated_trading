{
 "cells": [
  {
   "cell_type": "markdown",
   "metadata": {},
   "source": [
    "# Coding Exercises"
   ]
  },
  {
   "cell_type": "markdown",
   "metadata": {},
   "source": [
    "Now, you will have the opportunity to analyze your own dataset. <br>\n",
    "__Follow the instructions__ and insert your code! You are either requested to \n",
    "- Complete the Code and __Fill in the gaps__. Gaps are marked with \"__---__\" and are __placeholders__ for your code fragment \n",
    "- Write Code completely __on your own__ "
   ]
  },
  {
   "cell_type": "markdown",
   "metadata": {},
   "source": [
    "In some exercises, you will find questions that can only be answered, if your code is correct and returns the right output! The correct answer is provided below your coding cell. There you can check whether your code is correct."
   ]
  },
  {
   "cell_type": "markdown",
   "metadata": {},
   "source": [
    "### Have Fun!"
   ]
  },
  {
   "cell_type": "markdown",
   "metadata": {},
   "source": [
    "--------------------------------------------------------------------------------------------------------------"
   ]
  },
  {
   "cell_type": "markdown",
   "metadata": {},
   "source": [
    "## Time Series Data in Pandas: Introduction"
   ]
  },
  {
   "cell_type": "markdown",
   "metadata": {},
   "source": [
    "\n",
    "### Exercise 1: Intro to Time Series Data & DatetimeIndex"
   ]
  },
  {
   "cell_type": "code",
   "execution_count": 2,
   "metadata": {},
   "outputs": [],
   "source": [
    "#run the cell!\n",
    "import pandas as pd"
   ]
  },
  {
   "cell_type": "markdown",
   "metadata": {},
   "source": [
    "1. __Import__ the csv-file \"__aapl_fb.csv__\" containing Stock Price Data for Apple and Facebook for the years 2015-2018! Convert the datatype in the column __Date__ to __datetime__ and set the column __Date__ as the __Index__ of the DataFrame! <br>\n",
    "__Save__ the DataFrame in the variable __stocks__! __Fill in the gaps!__ "
   ]
  },
  {
   "cell_type": "code",
   "execution_count": 5,
   "metadata": {},
   "outputs": [],
   "source": [
    "stocks = pd.read_csv(\"aapl_fb.csv\", parse_dates = [\"Date\"], index_col = \"Date\")"
   ]
  },
  {
   "cell_type": "markdown",
   "metadata": {},
   "source": [
    "How many Timestamps does __stocks__ contain? What was the __maximum stock price__ for Facebook in that Period?"
   ]
  },
  {
   "cell_type": "code",
   "execution_count": 6,
   "metadata": {},
   "outputs": [
    {
     "data": {
      "text/html": [
       "<div>\n",
       "<style scoped>\n",
       "    .dataframe tbody tr th:only-of-type {\n",
       "        vertical-align: middle;\n",
       "    }\n",
       "\n",
       "    .dataframe tbody tr th {\n",
       "        vertical-align: top;\n",
       "    }\n",
       "\n",
       "    .dataframe thead th {\n",
       "        text-align: right;\n",
       "    }\n",
       "</style>\n",
       "<table border=\"1\" class=\"dataframe\">\n",
       "  <thead>\n",
       "    <tr style=\"text-align: right;\">\n",
       "      <th></th>\n",
       "      <th>AAPL</th>\n",
       "      <th>FB</th>\n",
       "    </tr>\n",
       "    <tr>\n",
       "      <th>Date</th>\n",
       "      <th></th>\n",
       "      <th></th>\n",
       "    </tr>\n",
       "  </thead>\n",
       "  <tbody>\n",
       "    <tr>\n",
       "      <th>2015-01-02</th>\n",
       "      <td>109.330002</td>\n",
       "      <td>78.449997</td>\n",
       "    </tr>\n",
       "    <tr>\n",
       "      <th>2015-01-05</th>\n",
       "      <td>106.250000</td>\n",
       "      <td>77.190002</td>\n",
       "    </tr>\n",
       "    <tr>\n",
       "      <th>2015-01-06</th>\n",
       "      <td>106.260002</td>\n",
       "      <td>76.150002</td>\n",
       "    </tr>\n",
       "    <tr>\n",
       "      <th>2015-01-07</th>\n",
       "      <td>107.750000</td>\n",
       "      <td>76.150002</td>\n",
       "    </tr>\n",
       "    <tr>\n",
       "      <th>2015-01-08</th>\n",
       "      <td>111.889999</td>\n",
       "      <td>78.180000</td>\n",
       "    </tr>\n",
       "  </tbody>\n",
       "</table>\n",
       "</div>"
      ],
      "text/plain": [
       "                  AAPL         FB\n",
       "Date                             \n",
       "2015-01-02  109.330002  78.449997\n",
       "2015-01-05  106.250000  77.190002\n",
       "2015-01-06  106.260002  76.150002\n",
       "2015-01-07  107.750000  76.150002\n",
       "2015-01-08  111.889999  78.180000"
      ]
     },
     "execution_count": 6,
     "metadata": {},
     "output_type": "execute_result"
    }
   ],
   "source": [
    "# run the cell!\n",
    "stocks.head()"
   ]
  },
  {
   "cell_type": "code",
   "execution_count": 7,
   "metadata": {},
   "outputs": [
    {
     "name": "stdout",
     "output_type": "stream",
     "text": [
      "<class 'pandas.core.frame.DataFrame'>\n",
      "DatetimeIndex: 1005 entries, 2015-01-02 to 2018-12-28\n",
      "Data columns (total 2 columns):\n",
      " #   Column  Non-Null Count  Dtype  \n",
      "---  ------  --------------  -----  \n",
      " 0   AAPL    1005 non-null   float64\n",
      " 1   FB      1005 non-null   float64\n",
      "dtypes: float64(2)\n",
      "memory usage: 23.6 KB\n"
     ]
    }
   ],
   "source": [
    "# run the cell!\n",
    "stocks.info()"
   ]
  },
  {
   "cell_type": "code",
   "execution_count": 8,
   "metadata": {},
   "outputs": [
    {
     "data": {
      "text/html": [
       "<div>\n",
       "<style scoped>\n",
       "    .dataframe tbody tr th:only-of-type {\n",
       "        vertical-align: middle;\n",
       "    }\n",
       "\n",
       "    .dataframe tbody tr th {\n",
       "        vertical-align: top;\n",
       "    }\n",
       "\n",
       "    .dataframe thead th {\n",
       "        text-align: right;\n",
       "    }\n",
       "</style>\n",
       "<table border=\"1\" class=\"dataframe\">\n",
       "  <thead>\n",
       "    <tr style=\"text-align: right;\">\n",
       "      <th></th>\n",
       "      <th>AAPL</th>\n",
       "      <th>FB</th>\n",
       "    </tr>\n",
       "  </thead>\n",
       "  <tbody>\n",
       "    <tr>\n",
       "      <th>count</th>\n",
       "      <td>1005.000000</td>\n",
       "      <td>1005.000000</td>\n",
       "    </tr>\n",
       "    <tr>\n",
       "      <th>mean</th>\n",
       "      <td>140.988338</td>\n",
       "      <td>133.415502</td>\n",
       "    </tr>\n",
       "    <tr>\n",
       "      <th>std</th>\n",
       "      <td>35.082112</td>\n",
       "      <td>35.846003</td>\n",
       "    </tr>\n",
       "    <tr>\n",
       "      <th>min</th>\n",
       "      <td>90.339996</td>\n",
       "      <td>74.050003</td>\n",
       "    </tr>\n",
       "    <tr>\n",
       "      <th>25%</th>\n",
       "      <td>112.120003</td>\n",
       "      <td>105.019997</td>\n",
       "    </tr>\n",
       "    <tr>\n",
       "      <th>50%</th>\n",
       "      <td>129.360001</td>\n",
       "      <td>129.070007</td>\n",
       "    </tr>\n",
       "    <tr>\n",
       "      <th>75%</th>\n",
       "      <td>168.630005</td>\n",
       "      <td>167.410004</td>\n",
       "    </tr>\n",
       "    <tr>\n",
       "      <th>max</th>\n",
       "      <td>232.070007</td>\n",
       "      <td>217.500000</td>\n",
       "    </tr>\n",
       "  </tbody>\n",
       "</table>\n",
       "</div>"
      ],
      "text/plain": [
       "              AAPL           FB\n",
       "count  1005.000000  1005.000000\n",
       "mean    140.988338   133.415502\n",
       "std      35.082112    35.846003\n",
       "min      90.339996    74.050003\n",
       "25%     112.120003   105.019997\n",
       "50%     129.360001   129.070007\n",
       "75%     168.630005   167.410004\n",
       "max     232.070007   217.500000"
      ]
     },
     "execution_count": 8,
     "metadata": {},
     "output_type": "execute_result"
    }
   ],
   "source": [
    "# run the cell!\n",
    "stocks.describe()"
   ]
  },
  {
   "cell_type": "markdown",
   "metadata": {},
   "source": [
    "There are in total ... 1005 Timestamps with stock price data. Facebooks´s maximum stock price was ... 217.50!"
   ]
  },
  {
   "cell_type": "markdown",
   "metadata": {},
   "source": [
    "2. __Select__ the stock prices on __May 13, 2016__! What was the Price for __Apple__?"
   ]
  },
  {
   "cell_type": "code",
   "execution_count": 19,
   "metadata": {},
   "outputs": [
    {
     "data": {
      "text/plain": [
       "90.519997"
      ]
     },
     "execution_count": 19,
     "metadata": {},
     "output_type": "execute_result"
    }
   ],
   "source": [
    "stocks[\"AAPL\"].loc[\"2016-05-13\"]"
   ]
  },
  {
   "cell_type": "markdown",
   "metadata": {},
   "source": [
    "The Apple Stock Price on that day was ... 90.52"
   ]
  },
  {
   "cell_type": "markdown",
   "metadata": {},
   "source": [
    "3. __Select__ all stock prices in __September 2017__ and calculate the __mean__ for both stocks! What was the __mean stock price__ for __Apple__ in __September 2017__?"
   ]
  },
  {
   "cell_type": "code",
   "execution_count": 23,
   "metadata": {
    "scrolled": true
   },
   "outputs": [
    {
     "data": {
      "text/plain": [
       "157.60849994999998"
      ]
     },
     "execution_count": 23,
     "metadata": {},
     "output_type": "execute_result"
    }
   ],
   "source": [
    "stocks[\"AAPL\"].loc[\"2017-09\"].mean()"
   ]
  },
  {
   "cell_type": "markdown",
   "metadata": {},
   "source": [
    "Apple´s monthly mean price for September 2017 is ... 157.61! "
   ]
  },
  {
   "cell_type": "markdown",
   "metadata": {},
   "source": [
    "4. __Create a Timestamp__ for August 10, 2019! (convert __2 alternative date strings__ of your choice) "
   ]
  },
  {
   "cell_type": "code",
   "execution_count": 24,
   "metadata": {},
   "outputs": [
    {
     "data": {
      "text/plain": [
       "Timestamp('2019-08-10 00:00:00')"
      ]
     },
     "execution_count": 24,
     "metadata": {},
     "output_type": "execute_result"
    }
   ],
   "source": [
    "# Alt 1\n",
    "pd.to_datetime(\"2019-08-10\")"
   ]
  },
  {
   "cell_type": "code",
   "execution_count": null,
   "metadata": {
    "scrolled": true
   },
   "outputs": [],
   "source": [
    "# Alt 2\n"
   ]
  },
  {
   "cell_type": "code",
   "execution_count": null,
   "metadata": {},
   "outputs": [],
   "source": []
  },
  {
   "cell_type": "markdown",
   "metadata": {},
   "source": [
    "5. __Change Frequency__ of stocks to __monthly__ (\"Downsampling\") and display the __last__ traded stock price per month! (Hint: The Index should show the last calender day of each month) <br>\n",
    "What is the __last__ traded price for __Facebook__ in __March 2015__?"
   ]
  },
  {
   "cell_type": "code",
   "execution_count": 25,
   "metadata": {
    "scrolled": true
   },
   "outputs": [
    {
     "data": {
      "text/html": [
       "<div>\n",
       "<style scoped>\n",
       "    .dataframe tbody tr th:only-of-type {\n",
       "        vertical-align: middle;\n",
       "    }\n",
       "\n",
       "    .dataframe tbody tr th {\n",
       "        vertical-align: top;\n",
       "    }\n",
       "\n",
       "    .dataframe thead th {\n",
       "        text-align: right;\n",
       "    }\n",
       "</style>\n",
       "<table border=\"1\" class=\"dataframe\">\n",
       "  <thead>\n",
       "    <tr style=\"text-align: right;\">\n",
       "      <th></th>\n",
       "      <th>AAPL</th>\n",
       "      <th>FB</th>\n",
       "    </tr>\n",
       "    <tr>\n",
       "      <th>Date</th>\n",
       "      <th></th>\n",
       "      <th></th>\n",
       "    </tr>\n",
       "  </thead>\n",
       "  <tbody>\n",
       "    <tr>\n",
       "      <th>2015-01-31</th>\n",
       "      <td>117.160004</td>\n",
       "      <td>75.910004</td>\n",
       "    </tr>\n",
       "    <tr>\n",
       "      <th>2015-02-28</th>\n",
       "      <td>128.460007</td>\n",
       "      <td>78.970001</td>\n",
       "    </tr>\n",
       "    <tr>\n",
       "      <th>2015-03-31</th>\n",
       "      <td>124.430000</td>\n",
       "      <td>82.220001</td>\n",
       "    </tr>\n",
       "    <tr>\n",
       "      <th>2015-04-30</th>\n",
       "      <td>125.150002</td>\n",
       "      <td>78.769997</td>\n",
       "    </tr>\n",
       "    <tr>\n",
       "      <th>2015-05-31</th>\n",
       "      <td>130.279999</td>\n",
       "      <td>79.190002</td>\n",
       "    </tr>\n",
       "    <tr>\n",
       "      <th>2015-06-30</th>\n",
       "      <td>125.430000</td>\n",
       "      <td>85.769997</td>\n",
       "    </tr>\n",
       "    <tr>\n",
       "      <th>2015-07-31</th>\n",
       "      <td>121.300003</td>\n",
       "      <td>94.010002</td>\n",
       "    </tr>\n",
       "    <tr>\n",
       "      <th>2015-08-31</th>\n",
       "      <td>112.760002</td>\n",
       "      <td>89.430000</td>\n",
       "    </tr>\n",
       "    <tr>\n",
       "      <th>2015-09-30</th>\n",
       "      <td>110.300003</td>\n",
       "      <td>89.900002</td>\n",
       "    </tr>\n",
       "    <tr>\n",
       "      <th>2015-10-31</th>\n",
       "      <td>119.500000</td>\n",
       "      <td>101.970001</td>\n",
       "    </tr>\n",
       "    <tr>\n",
       "      <th>2015-11-30</th>\n",
       "      <td>118.300003</td>\n",
       "      <td>104.239998</td>\n",
       "    </tr>\n",
       "    <tr>\n",
       "      <th>2015-12-31</th>\n",
       "      <td>105.260002</td>\n",
       "      <td>104.660004</td>\n",
       "    </tr>\n",
       "    <tr>\n",
       "      <th>2016-01-31</th>\n",
       "      <td>97.339996</td>\n",
       "      <td>112.209999</td>\n",
       "    </tr>\n",
       "    <tr>\n",
       "      <th>2016-02-29</th>\n",
       "      <td>96.690002</td>\n",
       "      <td>106.919998</td>\n",
       "    </tr>\n",
       "    <tr>\n",
       "      <th>2016-03-31</th>\n",
       "      <td>108.989998</td>\n",
       "      <td>114.099998</td>\n",
       "    </tr>\n",
       "    <tr>\n",
       "      <th>2016-04-30</th>\n",
       "      <td>93.739998</td>\n",
       "      <td>117.580002</td>\n",
       "    </tr>\n",
       "    <tr>\n",
       "      <th>2016-05-31</th>\n",
       "      <td>99.860001</td>\n",
       "      <td>118.809998</td>\n",
       "    </tr>\n",
       "    <tr>\n",
       "      <th>2016-06-30</th>\n",
       "      <td>95.599998</td>\n",
       "      <td>114.279999</td>\n",
       "    </tr>\n",
       "    <tr>\n",
       "      <th>2016-07-31</th>\n",
       "      <td>104.209999</td>\n",
       "      <td>123.940002</td>\n",
       "    </tr>\n",
       "    <tr>\n",
       "      <th>2016-08-31</th>\n",
       "      <td>106.099998</td>\n",
       "      <td>126.120003</td>\n",
       "    </tr>\n",
       "    <tr>\n",
       "      <th>2016-09-30</th>\n",
       "      <td>113.050003</td>\n",
       "      <td>128.270004</td>\n",
       "    </tr>\n",
       "    <tr>\n",
       "      <th>2016-10-31</th>\n",
       "      <td>113.540001</td>\n",
       "      <td>130.990005</td>\n",
       "    </tr>\n",
       "    <tr>\n",
       "      <th>2016-11-30</th>\n",
       "      <td>110.519997</td>\n",
       "      <td>118.419998</td>\n",
       "    </tr>\n",
       "    <tr>\n",
       "      <th>2016-12-31</th>\n",
       "      <td>115.820000</td>\n",
       "      <td>115.050003</td>\n",
       "    </tr>\n",
       "    <tr>\n",
       "      <th>2017-01-31</th>\n",
       "      <td>121.349998</td>\n",
       "      <td>130.320007</td>\n",
       "    </tr>\n",
       "    <tr>\n",
       "      <th>2017-02-28</th>\n",
       "      <td>136.990005</td>\n",
       "      <td>135.539993</td>\n",
       "    </tr>\n",
       "    <tr>\n",
       "      <th>2017-03-31</th>\n",
       "      <td>143.660004</td>\n",
       "      <td>142.050003</td>\n",
       "    </tr>\n",
       "    <tr>\n",
       "      <th>2017-04-30</th>\n",
       "      <td>143.649994</td>\n",
       "      <td>150.250000</td>\n",
       "    </tr>\n",
       "    <tr>\n",
       "      <th>2017-05-31</th>\n",
       "      <td>152.759995</td>\n",
       "      <td>151.460007</td>\n",
       "    </tr>\n",
       "    <tr>\n",
       "      <th>2017-06-30</th>\n",
       "      <td>144.020004</td>\n",
       "      <td>150.979996</td>\n",
       "    </tr>\n",
       "    <tr>\n",
       "      <th>2017-07-31</th>\n",
       "      <td>148.729996</td>\n",
       "      <td>169.250000</td>\n",
       "    </tr>\n",
       "    <tr>\n",
       "      <th>2017-08-31</th>\n",
       "      <td>164.000000</td>\n",
       "      <td>171.970001</td>\n",
       "    </tr>\n",
       "    <tr>\n",
       "      <th>2017-09-30</th>\n",
       "      <td>154.119995</td>\n",
       "      <td>170.869995</td>\n",
       "    </tr>\n",
       "    <tr>\n",
       "      <th>2017-10-31</th>\n",
       "      <td>169.039993</td>\n",
       "      <td>180.059998</td>\n",
       "    </tr>\n",
       "    <tr>\n",
       "      <th>2017-11-30</th>\n",
       "      <td>171.850006</td>\n",
       "      <td>177.179993</td>\n",
       "    </tr>\n",
       "    <tr>\n",
       "      <th>2017-12-31</th>\n",
       "      <td>169.229996</td>\n",
       "      <td>176.460007</td>\n",
       "    </tr>\n",
       "    <tr>\n",
       "      <th>2018-01-31</th>\n",
       "      <td>167.429993</td>\n",
       "      <td>186.889999</td>\n",
       "    </tr>\n",
       "    <tr>\n",
       "      <th>2018-02-28</th>\n",
       "      <td>178.119995</td>\n",
       "      <td>178.320007</td>\n",
       "    </tr>\n",
       "    <tr>\n",
       "      <th>2018-03-31</th>\n",
       "      <td>167.779999</td>\n",
       "      <td>159.789993</td>\n",
       "    </tr>\n",
       "    <tr>\n",
       "      <th>2018-04-30</th>\n",
       "      <td>165.259995</td>\n",
       "      <td>172.000000</td>\n",
       "    </tr>\n",
       "    <tr>\n",
       "      <th>2018-05-31</th>\n",
       "      <td>186.869995</td>\n",
       "      <td>191.779999</td>\n",
       "    </tr>\n",
       "    <tr>\n",
       "      <th>2018-06-30</th>\n",
       "      <td>185.110001</td>\n",
       "      <td>194.320007</td>\n",
       "    </tr>\n",
       "    <tr>\n",
       "      <th>2018-07-31</th>\n",
       "      <td>190.289993</td>\n",
       "      <td>172.580002</td>\n",
       "    </tr>\n",
       "    <tr>\n",
       "      <th>2018-08-31</th>\n",
       "      <td>227.630005</td>\n",
       "      <td>175.729996</td>\n",
       "    </tr>\n",
       "    <tr>\n",
       "      <th>2018-09-30</th>\n",
       "      <td>225.740005</td>\n",
       "      <td>164.460007</td>\n",
       "    </tr>\n",
       "    <tr>\n",
       "      <th>2018-10-31</th>\n",
       "      <td>218.860001</td>\n",
       "      <td>151.789993</td>\n",
       "    </tr>\n",
       "    <tr>\n",
       "      <th>2018-11-30</th>\n",
       "      <td>178.580002</td>\n",
       "      <td>140.610001</td>\n",
       "    </tr>\n",
       "    <tr>\n",
       "      <th>2018-12-31</th>\n",
       "      <td>156.229996</td>\n",
       "      <td>133.199997</td>\n",
       "    </tr>\n",
       "  </tbody>\n",
       "</table>\n",
       "</div>"
      ],
      "text/plain": [
       "                  AAPL          FB\n",
       "Date                              \n",
       "2015-01-31  117.160004   75.910004\n",
       "2015-02-28  128.460007   78.970001\n",
       "2015-03-31  124.430000   82.220001\n",
       "2015-04-30  125.150002   78.769997\n",
       "2015-05-31  130.279999   79.190002\n",
       "2015-06-30  125.430000   85.769997\n",
       "2015-07-31  121.300003   94.010002\n",
       "2015-08-31  112.760002   89.430000\n",
       "2015-09-30  110.300003   89.900002\n",
       "2015-10-31  119.500000  101.970001\n",
       "2015-11-30  118.300003  104.239998\n",
       "2015-12-31  105.260002  104.660004\n",
       "2016-01-31   97.339996  112.209999\n",
       "2016-02-29   96.690002  106.919998\n",
       "2016-03-31  108.989998  114.099998\n",
       "2016-04-30   93.739998  117.580002\n",
       "2016-05-31   99.860001  118.809998\n",
       "2016-06-30   95.599998  114.279999\n",
       "2016-07-31  104.209999  123.940002\n",
       "2016-08-31  106.099998  126.120003\n",
       "2016-09-30  113.050003  128.270004\n",
       "2016-10-31  113.540001  130.990005\n",
       "2016-11-30  110.519997  118.419998\n",
       "2016-12-31  115.820000  115.050003\n",
       "2017-01-31  121.349998  130.320007\n",
       "2017-02-28  136.990005  135.539993\n",
       "2017-03-31  143.660004  142.050003\n",
       "2017-04-30  143.649994  150.250000\n",
       "2017-05-31  152.759995  151.460007\n",
       "2017-06-30  144.020004  150.979996\n",
       "2017-07-31  148.729996  169.250000\n",
       "2017-08-31  164.000000  171.970001\n",
       "2017-09-30  154.119995  170.869995\n",
       "2017-10-31  169.039993  180.059998\n",
       "2017-11-30  171.850006  177.179993\n",
       "2017-12-31  169.229996  176.460007\n",
       "2018-01-31  167.429993  186.889999\n",
       "2018-02-28  178.119995  178.320007\n",
       "2018-03-31  167.779999  159.789993\n",
       "2018-04-30  165.259995  172.000000\n",
       "2018-05-31  186.869995  191.779999\n",
       "2018-06-30  185.110001  194.320007\n",
       "2018-07-31  190.289993  172.580002\n",
       "2018-08-31  227.630005  175.729996\n",
       "2018-09-30  225.740005  164.460007\n",
       "2018-10-31  218.860001  151.789993\n",
       "2018-11-30  178.580002  140.610001\n",
       "2018-12-31  156.229996  133.199997"
      ]
     },
     "execution_count": 25,
     "metadata": {},
     "output_type": "execute_result"
    }
   ],
   "source": [
    "stocks.resample(\"M\").last()"
   ]
  },
  {
   "cell_type": "markdown",
   "metadata": {},
   "source": [
    "The last traded price is ... 82.22!"
   ]
  },
  {
   "cell_type": "markdown",
   "metadata": {},
   "source": [
    "6. Calculate __monthly average/mean stock prices__ and save the new DataFrame in the variable __stocks_m__!"
   ]
  },
  {
   "cell_type": "code",
   "execution_count": 26,
   "metadata": {},
   "outputs": [
    {
     "data": {
      "text/html": [
       "<div>\n",
       "<style scoped>\n",
       "    .dataframe tbody tr th:only-of-type {\n",
       "        vertical-align: middle;\n",
       "    }\n",
       "\n",
       "    .dataframe tbody tr th {\n",
       "        vertical-align: top;\n",
       "    }\n",
       "\n",
       "    .dataframe thead th {\n",
       "        text-align: right;\n",
       "    }\n",
       "</style>\n",
       "<table border=\"1\" class=\"dataframe\">\n",
       "  <thead>\n",
       "    <tr style=\"text-align: right;\">\n",
       "      <th></th>\n",
       "      <th>AAPL</th>\n",
       "      <th>FB</th>\n",
       "    </tr>\n",
       "    <tr>\n",
       "      <th>Date</th>\n",
       "      <th></th>\n",
       "      <th></th>\n",
       "    </tr>\n",
       "  </thead>\n",
       "  <tbody>\n",
       "    <tr>\n",
       "      <th>2015-01-31</th>\n",
       "      <td>110.641501</td>\n",
       "      <td>76.721500</td>\n",
       "    </tr>\n",
       "    <tr>\n",
       "      <th>2015-02-28</th>\n",
       "      <td>125.432105</td>\n",
       "      <td>76.951053</td>\n",
       "    </tr>\n",
       "    <tr>\n",
       "      <th>2015-03-31</th>\n",
       "      <td>125.970908</td>\n",
       "      <td>81.013183</td>\n",
       "    </tr>\n",
       "    <tr>\n",
       "      <th>2015-04-30</th>\n",
       "      <td>127.291428</td>\n",
       "      <td>82.091428</td>\n",
       "    </tr>\n",
       "    <tr>\n",
       "      <th>2015-05-31</th>\n",
       "      <td>128.761500</td>\n",
       "      <td>79.420000</td>\n",
       "    </tr>\n",
       "    <tr>\n",
       "      <th>2015-06-30</th>\n",
       "      <td>127.806817</td>\n",
       "      <td>83.283637</td>\n",
       "    </tr>\n",
       "    <tr>\n",
       "      <th>2015-07-31</th>\n",
       "      <td>125.335455</td>\n",
       "      <td>92.055000</td>\n",
       "    </tr>\n",
       "    <tr>\n",
       "      <th>2015-08-31</th>\n",
       "      <td>113.394762</td>\n",
       "      <td>91.778572</td>\n",
       "    </tr>\n",
       "    <tr>\n",
       "      <th>2015-09-30</th>\n",
       "      <td>112.797619</td>\n",
       "      <td>91.446191</td>\n",
       "    </tr>\n",
       "    <tr>\n",
       "      <th>2015-10-31</th>\n",
       "      <td>113.360000</td>\n",
       "      <td>97.129545</td>\n",
       "    </tr>\n",
       "    <tr>\n",
       "      <th>2015-11-30</th>\n",
       "      <td>118.162500</td>\n",
       "      <td>105.969000</td>\n",
       "    </tr>\n",
       "    <tr>\n",
       "      <th>2015-12-31</th>\n",
       "      <td>111.726818</td>\n",
       "      <td>105.375000</td>\n",
       "    </tr>\n",
       "    <tr>\n",
       "      <th>2016-01-31</th>\n",
       "      <td>98.428946</td>\n",
       "      <td>98.982106</td>\n",
       "    </tr>\n",
       "    <tr>\n",
       "      <th>2016-02-29</th>\n",
       "      <td>95.746500</td>\n",
       "      <td>105.921000</td>\n",
       "    </tr>\n",
       "    <tr>\n",
       "      <th>2016-03-31</th>\n",
       "      <td>104.267273</td>\n",
       "      <td>110.780454</td>\n",
       "    </tr>\n",
       "    <tr>\n",
       "      <th>2016-04-30</th>\n",
       "      <td>106.739048</td>\n",
       "      <td>111.934285</td>\n",
       "    </tr>\n",
       "    <tr>\n",
       "      <th>2016-05-31</th>\n",
       "      <td>94.974762</td>\n",
       "      <td>118.464761</td>\n",
       "    </tr>\n",
       "    <tr>\n",
       "      <th>2016-06-30</th>\n",
       "      <td>96.622273</td>\n",
       "      <td>115.278637</td>\n",
       "    </tr>\n",
       "    <tr>\n",
       "      <th>2016-07-31</th>\n",
       "      <td>98.556500</td>\n",
       "      <td>119.177500</td>\n",
       "    </tr>\n",
       "    <tr>\n",
       "      <th>2016-08-31</th>\n",
       "      <td>107.665218</td>\n",
       "      <td>124.469131</td>\n",
       "    </tr>\n",
       "    <tr>\n",
       "      <th>2016-09-30</th>\n",
       "      <td>110.857142</td>\n",
       "      <td>128.513334</td>\n",
       "    </tr>\n",
       "    <tr>\n",
       "      <th>2016-10-31</th>\n",
       "      <td>115.707143</td>\n",
       "      <td>129.709525</td>\n",
       "    </tr>\n",
       "    <tr>\n",
       "      <th>2016-11-30</th>\n",
       "      <td>110.154285</td>\n",
       "      <td>120.684761</td>\n",
       "    </tr>\n",
       "    <tr>\n",
       "      <th>2016-12-31</th>\n",
       "      <td>114.335714</td>\n",
       "      <td>118.041904</td>\n",
       "    </tr>\n",
       "    <tr>\n",
       "      <th>2017-01-31</th>\n",
       "      <td>119.570000</td>\n",
       "      <td>126.817499</td>\n",
       "    </tr>\n",
       "    <tr>\n",
       "      <th>2017-02-28</th>\n",
       "      <td>133.714209</td>\n",
       "      <td>133.830525</td>\n",
       "    </tr>\n",
       "    <tr>\n",
       "      <th>2017-03-31</th>\n",
       "      <td>140.617826</td>\n",
       "      <td>139.408261</td>\n",
       "    </tr>\n",
       "    <tr>\n",
       "      <th>2017-04-30</th>\n",
       "      <td>142.886842</td>\n",
       "      <td>142.965263</td>\n",
       "    </tr>\n",
       "    <tr>\n",
       "      <th>2017-05-31</th>\n",
       "      <td>152.227726</td>\n",
       "      <td>150.234093</td>\n",
       "    </tr>\n",
       "    <tr>\n",
       "      <th>2017-06-30</th>\n",
       "      <td>147.831362</td>\n",
       "      <td>152.079545</td>\n",
       "    </tr>\n",
       "    <tr>\n",
       "      <th>2017-07-31</th>\n",
       "      <td>148.299499</td>\n",
       "      <td>160.532499</td>\n",
       "    </tr>\n",
       "    <tr>\n",
       "      <th>2017-08-31</th>\n",
       "      <td>159.021306</td>\n",
       "      <td>169.160000</td>\n",
       "    </tr>\n",
       "    <tr>\n",
       "      <th>2017-09-30</th>\n",
       "      <td>157.608500</td>\n",
       "      <td>170.591000</td>\n",
       "    </tr>\n",
       "    <tr>\n",
       "      <th>2017-10-31</th>\n",
       "      <td>157.817273</td>\n",
       "      <td>173.306820</td>\n",
       "    </tr>\n",
       "    <tr>\n",
       "      <th>2017-11-30</th>\n",
       "      <td>172.406191</td>\n",
       "      <td>179.696667</td>\n",
       "    </tr>\n",
       "    <tr>\n",
       "      <th>2017-12-31</th>\n",
       "      <td>171.891500</td>\n",
       "      <td>177.416500</td>\n",
       "    </tr>\n",
       "    <tr>\n",
       "      <th>2018-01-31</th>\n",
       "      <td>174.005237</td>\n",
       "      <td>184.962856</td>\n",
       "    </tr>\n",
       "    <tr>\n",
       "      <th>2018-02-28</th>\n",
       "      <td>167.638947</td>\n",
       "      <td>180.269474</td>\n",
       "    </tr>\n",
       "    <tr>\n",
       "      <th>2018-03-31</th>\n",
       "      <td>174.496192</td>\n",
       "      <td>173.489522</td>\n",
       "    </tr>\n",
       "    <tr>\n",
       "      <th>2018-04-30</th>\n",
       "      <td>169.834287</td>\n",
       "      <td>163.810476</td>\n",
       "    </tr>\n",
       "    <tr>\n",
       "      <th>2018-05-31</th>\n",
       "      <td>185.536818</td>\n",
       "      <td>182.930000</td>\n",
       "    </tr>\n",
       "    <tr>\n",
       "      <th>2018-06-30</th>\n",
       "      <td>188.621429</td>\n",
       "      <td>195.267619</td>\n",
       "    </tr>\n",
       "    <tr>\n",
       "      <th>2018-07-31</th>\n",
       "      <td>190.311429</td>\n",
       "      <td>199.967142</td>\n",
       "    </tr>\n",
       "    <tr>\n",
       "      <th>2018-08-31</th>\n",
       "      <td>213.346089</td>\n",
       "      <td>177.492172</td>\n",
       "    </tr>\n",
       "    <tr>\n",
       "      <th>2018-09-30</th>\n",
       "      <td>222.073685</td>\n",
       "      <td>164.377368</td>\n",
       "    </tr>\n",
       "    <tr>\n",
       "      <th>2018-10-31</th>\n",
       "      <td>220.845652</td>\n",
       "      <td>154.187826</td>\n",
       "    </tr>\n",
       "    <tr>\n",
       "      <th>2018-11-30</th>\n",
       "      <td>191.235714</td>\n",
       "      <td>141.635715</td>\n",
       "    </tr>\n",
       "    <tr>\n",
       "      <th>2018-12-31</th>\n",
       "      <td>164.628890</td>\n",
       "      <td>137.498333</td>\n",
       "    </tr>\n",
       "  </tbody>\n",
       "</table>\n",
       "</div>"
      ],
      "text/plain": [
       "                  AAPL          FB\n",
       "Date                              \n",
       "2015-01-31  110.641501   76.721500\n",
       "2015-02-28  125.432105   76.951053\n",
       "2015-03-31  125.970908   81.013183\n",
       "2015-04-30  127.291428   82.091428\n",
       "2015-05-31  128.761500   79.420000\n",
       "2015-06-30  127.806817   83.283637\n",
       "2015-07-31  125.335455   92.055000\n",
       "2015-08-31  113.394762   91.778572\n",
       "2015-09-30  112.797619   91.446191\n",
       "2015-10-31  113.360000   97.129545\n",
       "2015-11-30  118.162500  105.969000\n",
       "2015-12-31  111.726818  105.375000\n",
       "2016-01-31   98.428946   98.982106\n",
       "2016-02-29   95.746500  105.921000\n",
       "2016-03-31  104.267273  110.780454\n",
       "2016-04-30  106.739048  111.934285\n",
       "2016-05-31   94.974762  118.464761\n",
       "2016-06-30   96.622273  115.278637\n",
       "2016-07-31   98.556500  119.177500\n",
       "2016-08-31  107.665218  124.469131\n",
       "2016-09-30  110.857142  128.513334\n",
       "2016-10-31  115.707143  129.709525\n",
       "2016-11-30  110.154285  120.684761\n",
       "2016-12-31  114.335714  118.041904\n",
       "2017-01-31  119.570000  126.817499\n",
       "2017-02-28  133.714209  133.830525\n",
       "2017-03-31  140.617826  139.408261\n",
       "2017-04-30  142.886842  142.965263\n",
       "2017-05-31  152.227726  150.234093\n",
       "2017-06-30  147.831362  152.079545\n",
       "2017-07-31  148.299499  160.532499\n",
       "2017-08-31  159.021306  169.160000\n",
       "2017-09-30  157.608500  170.591000\n",
       "2017-10-31  157.817273  173.306820\n",
       "2017-11-30  172.406191  179.696667\n",
       "2017-12-31  171.891500  177.416500\n",
       "2018-01-31  174.005237  184.962856\n",
       "2018-02-28  167.638947  180.269474\n",
       "2018-03-31  174.496192  173.489522\n",
       "2018-04-30  169.834287  163.810476\n",
       "2018-05-31  185.536818  182.930000\n",
       "2018-06-30  188.621429  195.267619\n",
       "2018-07-31  190.311429  199.967142\n",
       "2018-08-31  213.346089  177.492172\n",
       "2018-09-30  222.073685  164.377368\n",
       "2018-10-31  220.845652  154.187826\n",
       "2018-11-30  191.235714  141.635715\n",
       "2018-12-31  164.628890  137.498333"
      ]
     },
     "execution_count": 26,
     "metadata": {},
     "output_type": "execute_result"
    }
   ],
   "source": [
    "stocks_m = stocks.resample(\"M\").mean()\n",
    "stocks_m"
   ]
  },
  {
   "cell_type": "markdown",
   "metadata": {},
   "source": [
    "What was the average stock price for __Facebook__ in __April 2015__?"
   ]
  },
  {
   "cell_type": "code",
   "execution_count": 27,
   "metadata": {},
   "outputs": [
    {
     "data": {
      "text/html": [
       "<div>\n",
       "<style scoped>\n",
       "    .dataframe tbody tr th:only-of-type {\n",
       "        vertical-align: middle;\n",
       "    }\n",
       "\n",
       "    .dataframe tbody tr th {\n",
       "        vertical-align: top;\n",
       "    }\n",
       "\n",
       "    .dataframe thead th {\n",
       "        text-align: right;\n",
       "    }\n",
       "</style>\n",
       "<table border=\"1\" class=\"dataframe\">\n",
       "  <thead>\n",
       "    <tr style=\"text-align: right;\">\n",
       "      <th></th>\n",
       "      <th>AAPL</th>\n",
       "      <th>FB</th>\n",
       "    </tr>\n",
       "    <tr>\n",
       "      <th>Date</th>\n",
       "      <th></th>\n",
       "      <th></th>\n",
       "    </tr>\n",
       "  </thead>\n",
       "  <tbody>\n",
       "    <tr>\n",
       "      <th>2015-01-31</th>\n",
       "      <td>110.641501</td>\n",
       "      <td>76.721500</td>\n",
       "    </tr>\n",
       "    <tr>\n",
       "      <th>2015-02-28</th>\n",
       "      <td>125.432105</td>\n",
       "      <td>76.951053</td>\n",
       "    </tr>\n",
       "    <tr>\n",
       "      <th>2015-03-31</th>\n",
       "      <td>125.970908</td>\n",
       "      <td>81.013183</td>\n",
       "    </tr>\n",
       "    <tr>\n",
       "      <th>2015-04-30</th>\n",
       "      <td>127.291428</td>\n",
       "      <td>82.091428</td>\n",
       "    </tr>\n",
       "    <tr>\n",
       "      <th>2015-05-31</th>\n",
       "      <td>128.761500</td>\n",
       "      <td>79.420000</td>\n",
       "    </tr>\n",
       "  </tbody>\n",
       "</table>\n",
       "</div>"
      ],
      "text/plain": [
       "                  AAPL         FB\n",
       "Date                             \n",
       "2015-01-31  110.641501  76.721500\n",
       "2015-02-28  125.432105  76.951053\n",
       "2015-03-31  125.970908  81.013183\n",
       "2015-04-30  127.291428  82.091428\n",
       "2015-05-31  128.761500  79.420000"
      ]
     },
     "execution_count": 27,
     "metadata": {},
     "output_type": "execute_result"
    }
   ],
   "source": [
    "# run the cell!\n",
    "stocks_m.head()"
   ]
  },
  {
   "cell_type": "markdown",
   "metadata": {},
   "source": [
    "The average price in april is ... 82.09!"
   ]
  },
  {
   "cell_type": "code",
   "execution_count": 29,
   "metadata": {},
   "outputs": [
    {
     "data": {
      "text/plain": [
       "Date\n",
       "2015-04-30    82.091428\n",
       "Freq: M, Name: FB, dtype: float64"
      ]
     },
     "execution_count": 29,
     "metadata": {},
     "output_type": "execute_result"
    }
   ],
   "source": [
    "stocks_m[\"FB\"].loc[\"2015-04\"]"
   ]
  },
  {
   "cell_type": "markdown",
   "metadata": {},
   "source": [
    "7. __Downsample__ stocks to __weekly__ frequency, showing prices on __Fridays__!\n",
    "What was __Facebook´s__ stock price on the __fourth Friday__ in __January 2015__?"
   ]
  },
  {
   "cell_type": "code",
   "execution_count": 31,
   "metadata": {
    "scrolled": true
   },
   "outputs": [
    {
     "data": {
      "text/html": [
       "<div>\n",
       "<style scoped>\n",
       "    .dataframe tbody tr th:only-of-type {\n",
       "        vertical-align: middle;\n",
       "    }\n",
       "\n",
       "    .dataframe tbody tr th {\n",
       "        vertical-align: top;\n",
       "    }\n",
       "\n",
       "    .dataframe thead th {\n",
       "        text-align: right;\n",
       "    }\n",
       "</style>\n",
       "<table border=\"1\" class=\"dataframe\">\n",
       "  <thead>\n",
       "    <tr style=\"text-align: right;\">\n",
       "      <th></th>\n",
       "      <th>AAPL</th>\n",
       "      <th>FB</th>\n",
       "    </tr>\n",
       "    <tr>\n",
       "      <th>Date</th>\n",
       "      <th></th>\n",
       "      <th></th>\n",
       "    </tr>\n",
       "  </thead>\n",
       "  <tbody>\n",
       "    <tr>\n",
       "      <th>2015-01-02</th>\n",
       "      <td>109.330002</td>\n",
       "      <td>78.449997</td>\n",
       "    </tr>\n",
       "    <tr>\n",
       "      <th>2015-01-09</th>\n",
       "      <td>106.250000</td>\n",
       "      <td>77.190002</td>\n",
       "    </tr>\n",
       "    <tr>\n",
       "      <th>2015-01-16</th>\n",
       "      <td>109.250000</td>\n",
       "      <td>76.720001</td>\n",
       "    </tr>\n",
       "    <tr>\n",
       "      <th>2015-01-23</th>\n",
       "      <td>108.720001</td>\n",
       "      <td>76.239998</td>\n",
       "    </tr>\n",
       "    <tr>\n",
       "      <th>2015-01-30</th>\n",
       "      <td>113.099998</td>\n",
       "      <td>77.500000</td>\n",
       "    </tr>\n",
       "    <tr>\n",
       "      <th>...</th>\n",
       "      <td>...</td>\n",
       "      <td>...</td>\n",
       "    </tr>\n",
       "    <tr>\n",
       "      <th>2018-11-30</th>\n",
       "      <td>174.619995</td>\n",
       "      <td>136.380005</td>\n",
       "    </tr>\n",
       "    <tr>\n",
       "      <th>2018-12-07</th>\n",
       "      <td>184.820007</td>\n",
       "      <td>141.089996</td>\n",
       "    </tr>\n",
       "    <tr>\n",
       "      <th>2018-12-14</th>\n",
       "      <td>169.600006</td>\n",
       "      <td>141.850006</td>\n",
       "    </tr>\n",
       "    <tr>\n",
       "      <th>2018-12-21</th>\n",
       "      <td>163.940002</td>\n",
       "      <td>140.190002</td>\n",
       "    </tr>\n",
       "    <tr>\n",
       "      <th>2018-12-28</th>\n",
       "      <td>146.830002</td>\n",
       "      <td>124.059998</td>\n",
       "    </tr>\n",
       "  </tbody>\n",
       "</table>\n",
       "<p>209 rows × 2 columns</p>\n",
       "</div>"
      ],
      "text/plain": [
       "                  AAPL          FB\n",
       "Date                              \n",
       "2015-01-02  109.330002   78.449997\n",
       "2015-01-09  106.250000   77.190002\n",
       "2015-01-16  109.250000   76.720001\n",
       "2015-01-23  108.720001   76.239998\n",
       "2015-01-30  113.099998   77.500000\n",
       "...                ...         ...\n",
       "2018-11-30  174.619995  136.380005\n",
       "2018-12-07  184.820007  141.089996\n",
       "2018-12-14  169.600006  141.850006\n",
       "2018-12-21  163.940002  140.190002\n",
       "2018-12-28  146.830002  124.059998\n",
       "\n",
       "[209 rows x 2 columns]"
      ]
     },
     "execution_count": 31,
     "metadata": {},
     "output_type": "execute_result"
    }
   ],
   "source": [
    "stocks.resample(\"W-Fri\").first()"
   ]
  },
  {
   "cell_type": "markdown",
   "metadata": {},
   "source": [
    "Facebook´s stock price on the fourth Friday in January 2015 was ... 77.83!"
   ]
  },
  {
   "cell_type": "code",
   "execution_count": null,
   "metadata": {},
   "outputs": [],
   "source": []
  },
  {
   "cell_type": "code",
   "execution_count": null,
   "metadata": {},
   "outputs": [],
   "source": []
  },
  {
   "cell_type": "markdown",
   "metadata": {},
   "source": [
    "# Solutions (Stop here if you want to code on your own!)"
   ]
  },
  {
   "cell_type": "markdown",
   "metadata": {},
   "source": [
    "# ++++++++++++++++++++++++++++++++++++++++++++++++++++++++++"
   ]
  },
  {
   "cell_type": "code",
   "execution_count": null,
   "metadata": {},
   "outputs": [],
   "source": []
  },
  {
   "cell_type": "markdown",
   "metadata": {},
   "source": [
    "## Time Series Data in Pandas: Introduction"
   ]
  },
  {
   "cell_type": "markdown",
   "metadata": {},
   "source": [
    "\n",
    "### Exercise 1: Intro to Time Series Data & DatetimeIndex"
   ]
  },
  {
   "cell_type": "code",
   "execution_count": null,
   "metadata": {},
   "outputs": [],
   "source": [
    "#run the cell!\n",
    "import pandas as pd"
   ]
  },
  {
   "cell_type": "markdown",
   "metadata": {},
   "source": [
    "1. __Import__ the csv-file \"__aapl_fb.csv__\" containing Stock Price Data for Apple and Facebook for the years 2015-2018! Convert the datatype in the column __Date__ to __datetime__ and set the column __Date__ as the __Index__ of the DataFrame! <br>\n",
    "__Save__ the DataFrame in the variable __stocks__! __Fill in the gaps!__ "
   ]
  },
  {
   "cell_type": "code",
   "execution_count": null,
   "metadata": {},
   "outputs": [],
   "source": [
    "stocks = pd.read_csv(\"aapl_fb.csv\", parse_dates= [\"Date\"], index_col = \"Date\")"
   ]
  },
  {
   "cell_type": "markdown",
   "metadata": {},
   "source": [
    "How many Timestamps does __stocks__ contain? What was the __maximum stock price__ for Facebook in that Period?"
   ]
  },
  {
   "cell_type": "code",
   "execution_count": null,
   "metadata": {},
   "outputs": [],
   "source": [
    "# run the cell!\n",
    "stocks.head()"
   ]
  },
  {
   "cell_type": "code",
   "execution_count": null,
   "metadata": {},
   "outputs": [],
   "source": [
    "# run the cell!\n",
    "stocks.info()"
   ]
  },
  {
   "cell_type": "code",
   "execution_count": null,
   "metadata": {},
   "outputs": [],
   "source": [
    "# run the cell!\n",
    "stocks.describe()"
   ]
  },
  {
   "cell_type": "markdown",
   "metadata": {},
   "source": [
    "There are in total ... 1005 Timestamps with stock price data. Facebooks´s maximum stock price was ... 217.50!"
   ]
  },
  {
   "cell_type": "markdown",
   "metadata": {},
   "source": [
    "2. __Select__ the stock prices on __May 13, 2016__! What was the Price for __Apple__?"
   ]
  },
  {
   "cell_type": "code",
   "execution_count": null,
   "metadata": {},
   "outputs": [],
   "source": [
    "stocks.loc[\"2016-05-13\"]"
   ]
  },
  {
   "cell_type": "markdown",
   "metadata": {},
   "source": [
    "The Apple Stock Price on that day was ... 90.52"
   ]
  },
  {
   "cell_type": "markdown",
   "metadata": {},
   "source": [
    "3. __Select__ all stock prices in __September 2017__ and calculate the __mean__ for both stocks! What was the __mean stock price__ for __Apple__ in __September 2017__?"
   ]
  },
  {
   "cell_type": "code",
   "execution_count": null,
   "metadata": {
    "scrolled": true
   },
   "outputs": [],
   "source": [
    "stocks.loc[\"2017-09\"].mean()"
   ]
  },
  {
   "cell_type": "markdown",
   "metadata": {},
   "source": [
    "Apple´s monthly mean price for September 2017 is ... 157.61! "
   ]
  },
  {
   "cell_type": "markdown",
   "metadata": {},
   "source": [
    "4. __Create a Timestamp__ for August 10, 2019! (convert __2 alternative date strings__ of your choice) "
   ]
  },
  {
   "cell_type": "code",
   "execution_count": null,
   "metadata": {},
   "outputs": [],
   "source": [
    "# Alt 1\n",
    "pd.to_datetime(\"2019-08-10\")"
   ]
  },
  {
   "cell_type": "code",
   "execution_count": null,
   "metadata": {
    "scrolled": true
   },
   "outputs": [],
   "source": [
    "# Alt 2\n",
    "pd.to_datetime(\"10 Aug 2019\")"
   ]
  },
  {
   "cell_type": "code",
   "execution_count": null,
   "metadata": {},
   "outputs": [],
   "source": []
  },
  {
   "cell_type": "markdown",
   "metadata": {},
   "source": [
    "5. __Change Frequency__ of stocks to __monthly__ (\"Downsampling\") and display the __last__ traded stock price per month! (Hint: The Index should show the last calender day of each month) <br>\n",
    "What is the __last__ traded price for __Facebook__ in __March 2015__?"
   ]
  },
  {
   "cell_type": "code",
   "execution_count": null,
   "metadata": {
    "scrolled": true
   },
   "outputs": [],
   "source": [
    "stocks.resample(\"M\").last()"
   ]
  },
  {
   "cell_type": "markdown",
   "metadata": {},
   "source": [
    "The last traded price is ... 82.22!"
   ]
  },
  {
   "cell_type": "markdown",
   "metadata": {},
   "source": [
    "6. Calculate __monthly average/mean stock prices__ and save the new DataFrame in the variable __stocks_m__!"
   ]
  },
  {
   "cell_type": "code",
   "execution_count": null,
   "metadata": {},
   "outputs": [],
   "source": [
    "stocks_m  = stocks.resample(\"M\").mean()"
   ]
  },
  {
   "cell_type": "markdown",
   "metadata": {},
   "source": [
    "What was the average stock price for __Facebook__ in __April 2015__?"
   ]
  },
  {
   "cell_type": "code",
   "execution_count": null,
   "metadata": {},
   "outputs": [],
   "source": [
    "# run the cell!\n",
    "stocks_m.head()"
   ]
  },
  {
   "cell_type": "markdown",
   "metadata": {},
   "source": [
    "The average price in april is ... 82.09!"
   ]
  },
  {
   "cell_type": "code",
   "execution_count": null,
   "metadata": {},
   "outputs": [],
   "source": []
  },
  {
   "cell_type": "markdown",
   "metadata": {},
   "source": [
    "7. __Downsample__ stocks to __weekly__ frequency, showing prices on __Fridays__!\n",
    "What was __Facebook´s__ stock price on the __fourth Friday__ in __January 2015__?"
   ]
  },
  {
   "cell_type": "code",
   "execution_count": null,
   "metadata": {
    "scrolled": true
   },
   "outputs": [],
   "source": [
    "stocks.resample(\"W-Fri\").last()"
   ]
  },
  {
   "cell_type": "markdown",
   "metadata": {},
   "source": [
    "Facebook´s stock price on the fourth Friday in January 2015 was ... 77.83!"
   ]
  },
  {
   "cell_type": "code",
   "execution_count": null,
   "metadata": {},
   "outputs": [],
   "source": []
  },
  {
   "cell_type": "markdown",
   "metadata": {},
   "source": [
    "# Well Done!"
   ]
  },
  {
   "cell_type": "markdown",
   "metadata": {},
   "source": [
    "-------------------"
   ]
  }
 ],
 "metadata": {
  "kernelspec": {
   "display_name": "Python 3.10.4 ('Berlin_Rental_Deployment')",
   "language": "python",
   "name": "python3"
  },
  "language_info": {
   "codemirror_mode": {
    "name": "ipython",
    "version": 3
   },
   "file_extension": ".py",
   "mimetype": "text/x-python",
   "name": "python",
   "nbconvert_exporter": "python",
   "pygments_lexer": "ipython3",
   "version": "3.10.4"
  },
  "vscode": {
   "interpreter": {
    "hash": "cdf63d718f20d7909d73d14bdb2e6ef1712f53396bffe2e209ca020ffbc47e5a"
   }
  }
 },
 "nbformat": 4,
 "nbformat_minor": 2
}
