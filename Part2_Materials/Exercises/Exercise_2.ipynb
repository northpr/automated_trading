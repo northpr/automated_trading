{
 "cells": [
  {
   "cell_type": "markdown",
   "metadata": {},
   "source": [
    "# Coding Exercises"
   ]
  },
  {
   "cell_type": "markdown",
   "metadata": {},
   "source": [
    "## Financial Data Analysis"
   ]
  },
  {
   "cell_type": "markdown",
   "metadata": {},
   "source": [
    "### Exercise 2: Financial Time Series"
   ]
  },
  {
   "cell_type": "markdown",
   "metadata": {},
   "source": [
    "Now, you will have the opportunity to analyze your own dataset. <br>\n",
    "__Follow the instructions__ and insert your code! You are either requested to \n",
    "- Complete the Code and __Fill in the gaps__. Gaps are marked with \"__---__\" and are __placeholders__ for your code fragment \n",
    "- Write Code completely __on your own__ "
   ]
  },
  {
   "cell_type": "markdown",
   "metadata": {},
   "source": [
    "In some exercises, you will find questions that can only be answered, if your code is correct and returns the right output! The correct answer is provided below your coding cell. There you can check whether your code is correct."
   ]
  },
  {
   "cell_type": "markdown",
   "metadata": {},
   "source": [
    "### Have Fun!"
   ]
  },
  {
   "cell_type": "markdown",
   "metadata": {},
   "source": [
    "--------------------------------------------------------------------------------------------------------------"
   ]
  },
  {
   "cell_type": "markdown",
   "metadata": {},
   "source": [
    "## Option 1: Self_guided"
   ]
  },
  {
   "cell_type": "markdown",
   "metadata": {},
   "source": [
    "Import the us stocks dataset (__us_stocks.csv__) and select the Adjusted Close (__Adj Close__) for all six stocks from __31-12-2015__ (incl.) until __31-12-2018__ (incl.). Save the DataFrame in the variable __stocks__ and work through the next questions with this DataFrame!"
   ]
  },
  {
   "cell_type": "markdown",
   "metadata": {},
   "source": [
    "- __Visualize__ the Adjusted Close of the six stocks __over time__!"
   ]
  },
  {
   "cell_type": "markdown",
   "metadata": {},
   "source": [
    "- __Visualize__ the __normalized__ Adjusted Close of the six stocks __over time__, each starting at a __Base Value of 100__!"
   ]
  },
  {
   "cell_type": "markdown",
   "metadata": {},
   "source": [
    "- Calculate __monthly returns__ for all six stocks and create a new __returns__ DataFrame!"
   ]
  },
  {
   "cell_type": "markdown",
   "metadata": {},
   "source": [
    "- Calculate the __annualized mean return__ and the __annualized standard deviation__ of returns for all six stocks!"
   ]
  },
  {
   "cell_type": "markdown",
   "metadata": {},
   "source": [
    "- __Visualize risk/return__ of all six stocks in a (total) risk / return framework. (annualized std on the x-axis, annualized mean returns on the y-axis). <br>\n",
    "Identify the __best performing__ stock and the __worst performing__ stock (in terms of __risk / return__)"
   ]
  },
  {
   "cell_type": "markdown",
   "metadata": {},
   "source": [
    "- __Visualize__ the __correlation matrix__ of monthly returns with a __Seaborn Heatmap__. Which stocks-pair shows the __highest (positive) correlation__ of monthly returns?"
   ]
  },
  {
   "cell_type": "markdown",
   "metadata": {},
   "source": [
    "__Ticker Symbols__:\n",
    "- AXP : American Express\n",
    "- FB : Facebook\n",
    "- INTC : Intel\n",
    "- MCD : McDonalds \n",
    "- PG : Procter & Gamble\n",
    "- WMT: Walmart"
   ]
  },
  {
   "cell_type": "markdown",
   "metadata": {},
   "source": [
    "------------------------"
   ]
  },
  {
   "cell_type": "markdown",
   "metadata": {},
   "source": [
    "## Option 2: Guided and Instructed"
   ]
  },
  {
   "cell_type": "markdown",
   "metadata": {},
   "source": [
    "# STOP HERE, IF YOU WANT TO DO THE EXERCISE ON YOUR OWN!"
   ]
  },
  {
   "cell_type": "markdown",
   "metadata": {},
   "source": [
    "+++++++++++++++++++++++++++++++++++++++++++++++++++++++++++++++++++++++++++++++++++++++++++++++++++++++++++++++++++++++++"
   ]
  },
  {
   "cell_type": "code",
   "execution_count": 2,
   "metadata": {},
   "outputs": [
    {
     "name": "stderr",
     "output_type": "stream",
     "text": [
      "/var/folders/v1/8d8xn8d954g4r5ckr7569kdh0000gn/T/ipykernel_12773/1567432351.py:5: MatplotlibDeprecationWarning: The seaborn styles shipped by Matplotlib are deprecated since 3.6, as they no longer correspond to the styles shipped by seaborn. However, they will remain available as 'seaborn-v0_8-<style>'. Alternatively, directly use the seaborn API instead.\n",
      "  plt.style.use(\"seaborn\")\n"
     ]
    }
   ],
   "source": [
    "#run the cell!\n",
    "import pandas as pd\n",
    "import numpy as np\n",
    "import matplotlib.pyplot as plt\n",
    "plt.style.use(\"seaborn\")"
   ]
  },
  {
   "cell_type": "markdown",
   "metadata": {},
   "source": [
    "1. __Import__ daily stock price data (__us_stocks.csv__) and __inspect__! Handle the __MultiIndex__! __Fill in the gaps__!"
   ]
  },
  {
   "cell_type": "code",
   "execution_count": 11,
   "metadata": {},
   "outputs": [
    {
     "data": {
      "text/html": [
       "<div>\n",
       "<style scoped>\n",
       "    .dataframe tbody tr th:only-of-type {\n",
       "        vertical-align: middle;\n",
       "    }\n",
       "\n",
       "    .dataframe tbody tr th {\n",
       "        vertical-align: top;\n",
       "    }\n",
       "\n",
       "    .dataframe thead tr th {\n",
       "        text-align: left;\n",
       "    }\n",
       "\n",
       "    .dataframe thead tr:last-of-type th {\n",
       "        text-align: right;\n",
       "    }\n",
       "</style>\n",
       "<table border=\"1\" class=\"dataframe\">\n",
       "  <thead>\n",
       "    <tr>\n",
       "      <th></th>\n",
       "      <th colspan=\"6\" halign=\"left\">Open</th>\n",
       "      <th colspan=\"4\" halign=\"left\">High</th>\n",
       "      <th>...</th>\n",
       "      <th colspan=\"4\" halign=\"left\">Adj Close</th>\n",
       "      <th colspan=\"6\" halign=\"left\">Volume</th>\n",
       "    </tr>\n",
       "    <tr>\n",
       "      <th></th>\n",
       "      <th>AXP</th>\n",
       "      <th>FB</th>\n",
       "      <th>INTC</th>\n",
       "      <th>MCD</th>\n",
       "      <th>PG</th>\n",
       "      <th>WMT</th>\n",
       "      <th>AXP</th>\n",
       "      <th>FB</th>\n",
       "      <th>INTC</th>\n",
       "      <th>MCD</th>\n",
       "      <th>...</th>\n",
       "      <th>INTC</th>\n",
       "      <th>MCD</th>\n",
       "      <th>PG</th>\n",
       "      <th>WMT</th>\n",
       "      <th>AXP</th>\n",
       "      <th>FB</th>\n",
       "      <th>INTC</th>\n",
       "      <th>MCD</th>\n",
       "      <th>PG</th>\n",
       "      <th>WMT</th>\n",
       "    </tr>\n",
       "    <tr>\n",
       "      <th>Date</th>\n",
       "      <th></th>\n",
       "      <th></th>\n",
       "      <th></th>\n",
       "      <th></th>\n",
       "      <th></th>\n",
       "      <th></th>\n",
       "      <th></th>\n",
       "      <th></th>\n",
       "      <th></th>\n",
       "      <th></th>\n",
       "      <th></th>\n",
       "      <th></th>\n",
       "      <th></th>\n",
       "      <th></th>\n",
       "      <th></th>\n",
       "      <th></th>\n",
       "      <th></th>\n",
       "      <th></th>\n",
       "      <th></th>\n",
       "      <th></th>\n",
       "      <th></th>\n",
       "    </tr>\n",
       "  </thead>\n",
       "  <tbody>\n",
       "    <tr>\n",
       "      <th>2009-12-31</th>\n",
       "      <td>40.900002</td>\n",
       "      <td>NaN</td>\n",
       "      <td>20.600000</td>\n",
       "      <td>62.970001</td>\n",
       "      <td>61.520000</td>\n",
       "      <td>54.250000</td>\n",
       "      <td>41.080002</td>\n",
       "      <td>NaN</td>\n",
       "      <td>20.719999</td>\n",
       "      <td>63.070000</td>\n",
       "      <td>...</td>\n",
       "      <td>15.252899</td>\n",
       "      <td>47.055138</td>\n",
       "      <td>45.146072</td>\n",
       "      <td>42.548668</td>\n",
       "      <td>4030500</td>\n",
       "      <td>NaN</td>\n",
       "      <td>26429200</td>\n",
       "      <td>4495300</td>\n",
       "      <td>5942200</td>\n",
       "      <td>9764800</td>\n",
       "    </tr>\n",
       "    <tr>\n",
       "      <th>2010-01-04</th>\n",
       "      <td>40.810001</td>\n",
       "      <td>NaN</td>\n",
       "      <td>20.790001</td>\n",
       "      <td>62.630001</td>\n",
       "      <td>61.110001</td>\n",
       "      <td>53.740002</td>\n",
       "      <td>41.099998</td>\n",
       "      <td>NaN</td>\n",
       "      <td>21.030001</td>\n",
       "      <td>63.070000</td>\n",
       "      <td>...</td>\n",
       "      <td>15.611791</td>\n",
       "      <td>47.311375</td>\n",
       "      <td>45.510941</td>\n",
       "      <td>43.169579</td>\n",
       "      <td>6894300</td>\n",
       "      <td>NaN</td>\n",
       "      <td>47800900</td>\n",
       "      <td>5839300</td>\n",
       "      <td>9190800</td>\n",
       "      <td>20753100</td>\n",
       "    </tr>\n",
       "    <tr>\n",
       "      <th>2010-01-05</th>\n",
       "      <td>40.830002</td>\n",
       "      <td>NaN</td>\n",
       "      <td>20.940001</td>\n",
       "      <td>62.660000</td>\n",
       "      <td>61.130001</td>\n",
       "      <td>54.090000</td>\n",
       "      <td>41.230000</td>\n",
       "      <td>NaN</td>\n",
       "      <td>20.990000</td>\n",
       "      <td>62.750000</td>\n",
       "      <td>...</td>\n",
       "      <td>15.604316</td>\n",
       "      <td>46.949627</td>\n",
       "      <td>45.525822</td>\n",
       "      <td>42.739723</td>\n",
       "      <td>10641200</td>\n",
       "      <td>NaN</td>\n",
       "      <td>52357700</td>\n",
       "      <td>7099000</td>\n",
       "      <td>8649400</td>\n",
       "      <td>15648400</td>\n",
       "    </tr>\n",
       "    <tr>\n",
       "      <th>2010-01-06</th>\n",
       "      <td>41.230000</td>\n",
       "      <td>NaN</td>\n",
       "      <td>20.809999</td>\n",
       "      <td>62.200001</td>\n",
       "      <td>60.939999</td>\n",
       "      <td>53.500000</td>\n",
       "      <td>41.669998</td>\n",
       "      <td>NaN</td>\n",
       "      <td>20.930000</td>\n",
       "      <td>62.410000</td>\n",
       "      <td>...</td>\n",
       "      <td>15.551979</td>\n",
       "      <td>46.309067</td>\n",
       "      <td>45.309883</td>\n",
       "      <td>42.644184</td>\n",
       "      <td>8399400</td>\n",
       "      <td>NaN</td>\n",
       "      <td>40037400</td>\n",
       "      <td>10551300</td>\n",
       "      <td>9908400</td>\n",
       "      <td>12517200</td>\n",
       "    </tr>\n",
       "    <tr>\n",
       "      <th>2010-01-07</th>\n",
       "      <td>41.259998</td>\n",
       "      <td>NaN</td>\n",
       "      <td>20.730000</td>\n",
       "      <td>61.250000</td>\n",
       "      <td>60.580002</td>\n",
       "      <td>53.720001</td>\n",
       "      <td>42.240002</td>\n",
       "      <td>NaN</td>\n",
       "      <td>20.760000</td>\n",
       "      <td>62.340000</td>\n",
       "      <td>...</td>\n",
       "      <td>15.402434</td>\n",
       "      <td>46.648193</td>\n",
       "      <td>45.064171</td>\n",
       "      <td>42.668079</td>\n",
       "      <td>8981700</td>\n",
       "      <td>NaN</td>\n",
       "      <td>54041500</td>\n",
       "      <td>7517700</td>\n",
       "      <td>8972800</td>\n",
       "      <td>10662700</td>\n",
       "    </tr>\n",
       "    <tr>\n",
       "      <th>...</th>\n",
       "      <td>...</td>\n",
       "      <td>...</td>\n",
       "      <td>...</td>\n",
       "      <td>...</td>\n",
       "      <td>...</td>\n",
       "      <td>...</td>\n",
       "      <td>...</td>\n",
       "      <td>...</td>\n",
       "      <td>...</td>\n",
       "      <td>...</td>\n",
       "      <td>...</td>\n",
       "      <td>...</td>\n",
       "      <td>...</td>\n",
       "      <td>...</td>\n",
       "      <td>...</td>\n",
       "      <td>...</td>\n",
       "      <td>...</td>\n",
       "      <td>...</td>\n",
       "      <td>...</td>\n",
       "      <td>...</td>\n",
       "      <td>...</td>\n",
       "    </tr>\n",
       "    <tr>\n",
       "      <th>2018-12-21</th>\n",
       "      <td>95.199997</td>\n",
       "      <td>133.389999</td>\n",
       "      <td>45.750000</td>\n",
       "      <td>173.529999</td>\n",
       "      <td>90.610001</td>\n",
       "      <td>86.870003</td>\n",
       "      <td>96.629997</td>\n",
       "      <td>134.899994</td>\n",
       "      <td>46.650002</td>\n",
       "      <td>177.649994</td>\n",
       "      <td>...</td>\n",
       "      <td>44.557564</td>\n",
       "      <td>174.149994</td>\n",
       "      <td>90.256142</td>\n",
       "      <td>87.129997</td>\n",
       "      <td>11005300</td>\n",
       "      <td>56901500.0</td>\n",
       "      <td>52768300</td>\n",
       "      <td>8536900</td>\n",
       "      <td>24030000</td>\n",
       "      <td>14921500</td>\n",
       "    </tr>\n",
       "    <tr>\n",
       "      <th>2018-12-24</th>\n",
       "      <td>90.739998</td>\n",
       "      <td>123.099998</td>\n",
       "      <td>44.630001</td>\n",
       "      <td>174.240005</td>\n",
       "      <td>90.449997</td>\n",
       "      <td>86.540001</td>\n",
       "      <td>91.550003</td>\n",
       "      <td>129.740005</td>\n",
       "      <td>45.169998</td>\n",
       "      <td>175.270004</td>\n",
       "      <td>...</td>\n",
       "      <td>43.315437</td>\n",
       "      <td>170.279999</td>\n",
       "      <td>86.674469</td>\n",
       "      <td>85.820000</td>\n",
       "      <td>3190900</td>\n",
       "      <td>22066000.0</td>\n",
       "      <td>19241600</td>\n",
       "      <td>2400900</td>\n",
       "      <td>7396300</td>\n",
       "      <td>6110300</td>\n",
       "    </tr>\n",
       "    <tr>\n",
       "      <th>2018-12-26</th>\n",
       "      <td>89.849998</td>\n",
       "      <td>126.000000</td>\n",
       "      <td>44.000000</td>\n",
       "      <td>170.089996</td>\n",
       "      <td>87.419998</td>\n",
       "      <td>86.419998</td>\n",
       "      <td>93.889999</td>\n",
       "      <td>134.240005</td>\n",
       "      <td>46.200001</td>\n",
       "      <td>174.039993</td>\n",
       "      <td>...</td>\n",
       "      <td>45.899059</td>\n",
       "      <td>174.029999</td>\n",
       "      <td>89.383041</td>\n",
       "      <td>90.410004</td>\n",
       "      <td>5383700</td>\n",
       "      <td>39723400.0</td>\n",
       "      <td>28677600</td>\n",
       "      <td>4065500</td>\n",
       "      <td>8630900</td>\n",
       "      <td>10028300</td>\n",
       "    </tr>\n",
       "    <tr>\n",
       "      <th>2018-12-27</th>\n",
       "      <td>92.360001</td>\n",
       "      <td>132.440002</td>\n",
       "      <td>45.619999</td>\n",
       "      <td>173.289993</td>\n",
       "      <td>89.610001</td>\n",
       "      <td>89.750000</td>\n",
       "      <td>94.680000</td>\n",
       "      <td>134.990005</td>\n",
       "      <td>46.380001</td>\n",
       "      <td>175.710007</td>\n",
       "      <td>...</td>\n",
       "      <td>46.067993</td>\n",
       "      <td>175.710007</td>\n",
       "      <td>91.297897</td>\n",
       "      <td>91.589996</td>\n",
       "      <td>4226600</td>\n",
       "      <td>31202500.0</td>\n",
       "      <td>29970700</td>\n",
       "      <td>3934500</td>\n",
       "      <td>11360100</td>\n",
       "      <td>9881500</td>\n",
       "    </tr>\n",
       "    <tr>\n",
       "      <th>2018-12-28</th>\n",
       "      <td>95.400002</td>\n",
       "      <td>135.339996</td>\n",
       "      <td>46.509998</td>\n",
       "      <td>176.300003</td>\n",
       "      <td>92.559998</td>\n",
       "      <td>92.070000</td>\n",
       "      <td>95.650002</td>\n",
       "      <td>135.919998</td>\n",
       "      <td>47.740002</td>\n",
       "      <td>177.500000</td>\n",
       "      <td>...</td>\n",
       "      <td>46.455536</td>\n",
       "      <td>175.559998</td>\n",
       "      <td>90.464493</td>\n",
       "      <td>92.129997</td>\n",
       "      <td>3225100</td>\n",
       "      <td>22627600.0</td>\n",
       "      <td>24758700</td>\n",
       "      <td>2896800</td>\n",
       "      <td>9611800</td>\n",
       "      <td>9874000</td>\n",
       "    </tr>\n",
       "  </tbody>\n",
       "</table>\n",
       "<p>2264 rows × 36 columns</p>\n",
       "</div>"
      ],
      "text/plain": [
       "                 Open                                                \\\n",
       "                  AXP          FB       INTC         MCD         PG   \n",
       "Date                                                                  \n",
       "2009-12-31  40.900002         NaN  20.600000   62.970001  61.520000   \n",
       "2010-01-04  40.810001         NaN  20.790001   62.630001  61.110001   \n",
       "2010-01-05  40.830002         NaN  20.940001   62.660000  61.130001   \n",
       "2010-01-06  41.230000         NaN  20.809999   62.200001  60.939999   \n",
       "2010-01-07  41.259998         NaN  20.730000   61.250000  60.580002   \n",
       "...               ...         ...        ...         ...        ...   \n",
       "2018-12-21  95.199997  133.389999  45.750000  173.529999  90.610001   \n",
       "2018-12-24  90.739998  123.099998  44.630001  174.240005  90.449997   \n",
       "2018-12-26  89.849998  126.000000  44.000000  170.089996  87.419998   \n",
       "2018-12-27  92.360001  132.440002  45.619999  173.289993  89.610001   \n",
       "2018-12-28  95.400002  135.339996  46.509998  176.300003  92.559998   \n",
       "\n",
       "                            High                                     ...  \\\n",
       "                  WMT        AXP          FB       INTC         MCD  ...   \n",
       "Date                                                                 ...   \n",
       "2009-12-31  54.250000  41.080002         NaN  20.719999   63.070000  ...   \n",
       "2010-01-04  53.740002  41.099998         NaN  21.030001   63.070000  ...   \n",
       "2010-01-05  54.090000  41.230000         NaN  20.990000   62.750000  ...   \n",
       "2010-01-06  53.500000  41.669998         NaN  20.930000   62.410000  ...   \n",
       "2010-01-07  53.720001  42.240002         NaN  20.760000   62.340000  ...   \n",
       "...               ...        ...         ...        ...         ...  ...   \n",
       "2018-12-21  86.870003  96.629997  134.899994  46.650002  177.649994  ...   \n",
       "2018-12-24  86.540001  91.550003  129.740005  45.169998  175.270004  ...   \n",
       "2018-12-26  86.419998  93.889999  134.240005  46.200001  174.039993  ...   \n",
       "2018-12-27  89.750000  94.680000  134.990005  46.380001  175.710007  ...   \n",
       "2018-12-28  92.070000  95.650002  135.919998  47.740002  177.500000  ...   \n",
       "\n",
       "            Adj Close                                      Volume              \\\n",
       "                 INTC         MCD         PG        WMT       AXP          FB   \n",
       "Date                                                                            \n",
       "2009-12-31  15.252899   47.055138  45.146072  42.548668   4030500         NaN   \n",
       "2010-01-04  15.611791   47.311375  45.510941  43.169579   6894300         NaN   \n",
       "2010-01-05  15.604316   46.949627  45.525822  42.739723  10641200         NaN   \n",
       "2010-01-06  15.551979   46.309067  45.309883  42.644184   8399400         NaN   \n",
       "2010-01-07  15.402434   46.648193  45.064171  42.668079   8981700         NaN   \n",
       "...               ...         ...        ...        ...       ...         ...   \n",
       "2018-12-21  44.557564  174.149994  90.256142  87.129997  11005300  56901500.0   \n",
       "2018-12-24  43.315437  170.279999  86.674469  85.820000   3190900  22066000.0   \n",
       "2018-12-26  45.899059  174.029999  89.383041  90.410004   5383700  39723400.0   \n",
       "2018-12-27  46.067993  175.710007  91.297897  91.589996   4226600  31202500.0   \n",
       "2018-12-28  46.455536  175.559998  90.464493  92.129997   3225100  22627600.0   \n",
       "\n",
       "                                                    \n",
       "                INTC       MCD        PG       WMT  \n",
       "Date                                                \n",
       "2009-12-31  26429200   4495300   5942200   9764800  \n",
       "2010-01-04  47800900   5839300   9190800  20753100  \n",
       "2010-01-05  52357700   7099000   8649400  15648400  \n",
       "2010-01-06  40037400  10551300   9908400  12517200  \n",
       "2010-01-07  54041500   7517700   8972800  10662700  \n",
       "...              ...       ...       ...       ...  \n",
       "2018-12-21  52768300   8536900  24030000  14921500  \n",
       "2018-12-24  19241600   2400900   7396300   6110300  \n",
       "2018-12-26  28677600   4065500   8630900  10028300  \n",
       "2018-12-27  29970700   3934500  11360100   9881500  \n",
       "2018-12-28  24758700   2896800   9611800   9874000  \n",
       "\n",
       "[2264 rows x 36 columns]"
      ]
     },
     "execution_count": 11,
     "metadata": {},
     "output_type": "execute_result"
    }
   ],
   "source": [
    "stocks = pd.read_csv(\"us_stocks.csv\", header=[0,1], index_col=[0], parse_dates=[0])\n",
    "stocks"
   ]
  },
  {
   "cell_type": "code",
   "execution_count": 12,
   "metadata": {},
   "outputs": [
    {
     "data": {
      "text/html": [
       "<div>\n",
       "<style scoped>\n",
       "    .dataframe tbody tr th:only-of-type {\n",
       "        vertical-align: middle;\n",
       "    }\n",
       "\n",
       "    .dataframe tbody tr th {\n",
       "        vertical-align: top;\n",
       "    }\n",
       "\n",
       "    .dataframe thead tr th {\n",
       "        text-align: left;\n",
       "    }\n",
       "\n",
       "    .dataframe thead tr:last-of-type th {\n",
       "        text-align: right;\n",
       "    }\n",
       "</style>\n",
       "<table border=\"1\" class=\"dataframe\">\n",
       "  <thead>\n",
       "    <tr>\n",
       "      <th></th>\n",
       "      <th colspan=\"6\" halign=\"left\">Open</th>\n",
       "      <th colspan=\"4\" halign=\"left\">High</th>\n",
       "      <th>...</th>\n",
       "      <th colspan=\"4\" halign=\"left\">Adj Close</th>\n",
       "      <th colspan=\"6\" halign=\"left\">Volume</th>\n",
       "    </tr>\n",
       "    <tr>\n",
       "      <th></th>\n",
       "      <th>AXP</th>\n",
       "      <th>FB</th>\n",
       "      <th>INTC</th>\n",
       "      <th>MCD</th>\n",
       "      <th>PG</th>\n",
       "      <th>WMT</th>\n",
       "      <th>AXP</th>\n",
       "      <th>FB</th>\n",
       "      <th>INTC</th>\n",
       "      <th>MCD</th>\n",
       "      <th>...</th>\n",
       "      <th>INTC</th>\n",
       "      <th>MCD</th>\n",
       "      <th>PG</th>\n",
       "      <th>WMT</th>\n",
       "      <th>AXP</th>\n",
       "      <th>FB</th>\n",
       "      <th>INTC</th>\n",
       "      <th>MCD</th>\n",
       "      <th>PG</th>\n",
       "      <th>WMT</th>\n",
       "    </tr>\n",
       "    <tr>\n",
       "      <th>Date</th>\n",
       "      <th></th>\n",
       "      <th></th>\n",
       "      <th></th>\n",
       "      <th></th>\n",
       "      <th></th>\n",
       "      <th></th>\n",
       "      <th></th>\n",
       "      <th></th>\n",
       "      <th></th>\n",
       "      <th></th>\n",
       "      <th></th>\n",
       "      <th></th>\n",
       "      <th></th>\n",
       "      <th></th>\n",
       "      <th></th>\n",
       "      <th></th>\n",
       "      <th></th>\n",
       "      <th></th>\n",
       "      <th></th>\n",
       "      <th></th>\n",
       "      <th></th>\n",
       "    </tr>\n",
       "  </thead>\n",
       "  <tbody>\n",
       "    <tr>\n",
       "      <th>2009-12-31</th>\n",
       "      <td>40.900002</td>\n",
       "      <td>NaN</td>\n",
       "      <td>20.600000</td>\n",
       "      <td>62.970001</td>\n",
       "      <td>61.520000</td>\n",
       "      <td>54.250000</td>\n",
       "      <td>41.080002</td>\n",
       "      <td>NaN</td>\n",
       "      <td>20.719999</td>\n",
       "      <td>63.07</td>\n",
       "      <td>...</td>\n",
       "      <td>15.252899</td>\n",
       "      <td>47.055138</td>\n",
       "      <td>45.146072</td>\n",
       "      <td>42.548668</td>\n",
       "      <td>4030500</td>\n",
       "      <td>NaN</td>\n",
       "      <td>26429200</td>\n",
       "      <td>4495300</td>\n",
       "      <td>5942200</td>\n",
       "      <td>9764800</td>\n",
       "    </tr>\n",
       "    <tr>\n",
       "      <th>2010-01-04</th>\n",
       "      <td>40.810001</td>\n",
       "      <td>NaN</td>\n",
       "      <td>20.790001</td>\n",
       "      <td>62.630001</td>\n",
       "      <td>61.110001</td>\n",
       "      <td>53.740002</td>\n",
       "      <td>41.099998</td>\n",
       "      <td>NaN</td>\n",
       "      <td>21.030001</td>\n",
       "      <td>63.07</td>\n",
       "      <td>...</td>\n",
       "      <td>15.611791</td>\n",
       "      <td>47.311375</td>\n",
       "      <td>45.510941</td>\n",
       "      <td>43.169579</td>\n",
       "      <td>6894300</td>\n",
       "      <td>NaN</td>\n",
       "      <td>47800900</td>\n",
       "      <td>5839300</td>\n",
       "      <td>9190800</td>\n",
       "      <td>20753100</td>\n",
       "    </tr>\n",
       "    <tr>\n",
       "      <th>2010-01-05</th>\n",
       "      <td>40.830002</td>\n",
       "      <td>NaN</td>\n",
       "      <td>20.940001</td>\n",
       "      <td>62.660000</td>\n",
       "      <td>61.130001</td>\n",
       "      <td>54.090000</td>\n",
       "      <td>41.230000</td>\n",
       "      <td>NaN</td>\n",
       "      <td>20.990000</td>\n",
       "      <td>62.75</td>\n",
       "      <td>...</td>\n",
       "      <td>15.604316</td>\n",
       "      <td>46.949627</td>\n",
       "      <td>45.525822</td>\n",
       "      <td>42.739723</td>\n",
       "      <td>10641200</td>\n",
       "      <td>NaN</td>\n",
       "      <td>52357700</td>\n",
       "      <td>7099000</td>\n",
       "      <td>8649400</td>\n",
       "      <td>15648400</td>\n",
       "    </tr>\n",
       "    <tr>\n",
       "      <th>2010-01-06</th>\n",
       "      <td>41.230000</td>\n",
       "      <td>NaN</td>\n",
       "      <td>20.809999</td>\n",
       "      <td>62.200001</td>\n",
       "      <td>60.939999</td>\n",
       "      <td>53.500000</td>\n",
       "      <td>41.669998</td>\n",
       "      <td>NaN</td>\n",
       "      <td>20.930000</td>\n",
       "      <td>62.41</td>\n",
       "      <td>...</td>\n",
       "      <td>15.551979</td>\n",
       "      <td>46.309067</td>\n",
       "      <td>45.309883</td>\n",
       "      <td>42.644184</td>\n",
       "      <td>8399400</td>\n",
       "      <td>NaN</td>\n",
       "      <td>40037400</td>\n",
       "      <td>10551300</td>\n",
       "      <td>9908400</td>\n",
       "      <td>12517200</td>\n",
       "    </tr>\n",
       "    <tr>\n",
       "      <th>2010-01-07</th>\n",
       "      <td>41.259998</td>\n",
       "      <td>NaN</td>\n",
       "      <td>20.730000</td>\n",
       "      <td>61.250000</td>\n",
       "      <td>60.580002</td>\n",
       "      <td>53.720001</td>\n",
       "      <td>42.240002</td>\n",
       "      <td>NaN</td>\n",
       "      <td>20.760000</td>\n",
       "      <td>62.34</td>\n",
       "      <td>...</td>\n",
       "      <td>15.402434</td>\n",
       "      <td>46.648193</td>\n",
       "      <td>45.064171</td>\n",
       "      <td>42.668079</td>\n",
       "      <td>8981700</td>\n",
       "      <td>NaN</td>\n",
       "      <td>54041500</td>\n",
       "      <td>7517700</td>\n",
       "      <td>8972800</td>\n",
       "      <td>10662700</td>\n",
       "    </tr>\n",
       "  </tbody>\n",
       "</table>\n",
       "<p>5 rows × 36 columns</p>\n",
       "</div>"
      ],
      "text/plain": [
       "                 Open                                                  \\\n",
       "                  AXP  FB       INTC        MCD         PG        WMT   \n",
       "Date                                                                    \n",
       "2009-12-31  40.900002 NaN  20.600000  62.970001  61.520000  54.250000   \n",
       "2010-01-04  40.810001 NaN  20.790001  62.630001  61.110001  53.740002   \n",
       "2010-01-05  40.830002 NaN  20.940001  62.660000  61.130001  54.090000   \n",
       "2010-01-06  41.230000 NaN  20.809999  62.200001  60.939999  53.500000   \n",
       "2010-01-07  41.259998 NaN  20.730000  61.250000  60.580002  53.720001   \n",
       "\n",
       "                 High                        ...  Adj Close             \\\n",
       "                  AXP  FB       INTC    MCD  ...       INTC        MCD   \n",
       "Date                                         ...                         \n",
       "2009-12-31  41.080002 NaN  20.719999  63.07  ...  15.252899  47.055138   \n",
       "2010-01-04  41.099998 NaN  21.030001  63.07  ...  15.611791  47.311375   \n",
       "2010-01-05  41.230000 NaN  20.990000  62.75  ...  15.604316  46.949627   \n",
       "2010-01-06  41.669998 NaN  20.930000  62.41  ...  15.551979  46.309067   \n",
       "2010-01-07  42.240002 NaN  20.760000  62.34  ...  15.402434  46.648193   \n",
       "\n",
       "                                    Volume                                   \\\n",
       "                   PG        WMT       AXP  FB      INTC       MCD       PG   \n",
       "Date                                                                          \n",
       "2009-12-31  45.146072  42.548668   4030500 NaN  26429200   4495300  5942200   \n",
       "2010-01-04  45.510941  43.169579   6894300 NaN  47800900   5839300  9190800   \n",
       "2010-01-05  45.525822  42.739723  10641200 NaN  52357700   7099000  8649400   \n",
       "2010-01-06  45.309883  42.644184   8399400 NaN  40037400  10551300  9908400   \n",
       "2010-01-07  45.064171  42.668079   8981700 NaN  54041500   7517700  8972800   \n",
       "\n",
       "                      \n",
       "                 WMT  \n",
       "Date                  \n",
       "2009-12-31   9764800  \n",
       "2010-01-04  20753100  \n",
       "2010-01-05  15648400  \n",
       "2010-01-06  12517200  \n",
       "2010-01-07  10662700  \n",
       "\n",
       "[5 rows x 36 columns]"
      ]
     },
     "execution_count": 12,
     "metadata": {},
     "output_type": "execute_result"
    }
   ],
   "source": [
    "# run the cell!\n",
    "stocks.head()"
   ]
  },
  {
   "cell_type": "markdown",
   "metadata": {},
   "source": [
    "Ticker Symbols:\n",
    "- AXP : American Express\n",
    "- FB : Facebook\n",
    "- INTC : Intel\n",
    "- MCD : McDonalds \n",
    "- PG : Procter & Gamble\n",
    "- WMT: Walmart"
   ]
  },
  {
   "cell_type": "markdown",
   "metadata": {},
   "source": [
    "2. __Select__ the Adjusted Close (__Adj Close__) for all six stocks from __31-12-2015__ (incl.) until __31-12-2018__ (incl.)! __Overwrite__ stocks! <br>\n",
    "__How many Timestamps__ / Days are in the DataFrame now?"
   ]
  },
  {
   "cell_type": "code",
   "execution_count": 14,
   "metadata": {
    "scrolled": true
   },
   "outputs": [],
   "source": [
    "stocks = stocks.loc[\"2015-12-31\":\"2018-12-31\",\"Adj Close\"]"
   ]
  },
  {
   "cell_type": "code",
   "execution_count": 15,
   "metadata": {},
   "outputs": [
    {
     "data": {
      "text/html": [
       "<div>\n",
       "<style scoped>\n",
       "    .dataframe tbody tr th:only-of-type {\n",
       "        vertical-align: middle;\n",
       "    }\n",
       "\n",
       "    .dataframe tbody tr th {\n",
       "        vertical-align: top;\n",
       "    }\n",
       "\n",
       "    .dataframe thead th {\n",
       "        text-align: right;\n",
       "    }\n",
       "</style>\n",
       "<table border=\"1\" class=\"dataframe\">\n",
       "  <thead>\n",
       "    <tr style=\"text-align: right;\">\n",
       "      <th></th>\n",
       "      <th>AXP</th>\n",
       "      <th>FB</th>\n",
       "      <th>INTC</th>\n",
       "      <th>MCD</th>\n",
       "      <th>PG</th>\n",
       "      <th>WMT</th>\n",
       "    </tr>\n",
       "    <tr>\n",
       "      <th>Date</th>\n",
       "      <th></th>\n",
       "      <th></th>\n",
       "      <th></th>\n",
       "      <th></th>\n",
       "      <th></th>\n",
       "      <th></th>\n",
       "    </tr>\n",
       "  </thead>\n",
       "  <tbody>\n",
       "    <tr>\n",
       "      <th>2015-12-31</th>\n",
       "      <td>65.910294</td>\n",
       "      <td>104.660004</td>\n",
       "      <td>31.437597</td>\n",
       "      <td>108.968636</td>\n",
       "      <td>71.450706</td>\n",
       "      <td>56.722713</td>\n",
       "    </tr>\n",
       "    <tr>\n",
       "      <th>2016-01-04</th>\n",
       "      <td>64.052849</td>\n",
       "      <td>102.220001</td>\n",
       "      <td>31.017828</td>\n",
       "      <td>108.452126</td>\n",
       "      <td>70.514938</td>\n",
       "      <td>56.870766</td>\n",
       "    </tr>\n",
       "    <tr>\n",
       "      <th>2016-01-05</th>\n",
       "      <td>63.067310</td>\n",
       "      <td>102.730003</td>\n",
       "      <td>30.871820</td>\n",
       "      <td>109.946350</td>\n",
       "      <td>70.739891</td>\n",
       "      <td>58.221748</td>\n",
       "    </tr>\n",
       "    <tr>\n",
       "      <th>2016-01-06</th>\n",
       "      <td>61.315948</td>\n",
       "      <td>102.970001</td>\n",
       "      <td>30.187403</td>\n",
       "      <td>109.208458</td>\n",
       "      <td>70.056053</td>\n",
       "      <td>58.804699</td>\n",
       "    </tr>\n",
       "    <tr>\n",
       "      <th>2016-01-07</th>\n",
       "      <td>60.763893</td>\n",
       "      <td>97.919998</td>\n",
       "      <td>29.055828</td>\n",
       "      <td>106.681190</td>\n",
       "      <td>69.444221</td>\n",
       "      <td>60.174198</td>\n",
       "    </tr>\n",
       "  </tbody>\n",
       "</table>\n",
       "</div>"
      ],
      "text/plain": [
       "                  AXP          FB       INTC         MCD         PG        WMT\n",
       "Date                                                                          \n",
       "2015-12-31  65.910294  104.660004  31.437597  108.968636  71.450706  56.722713\n",
       "2016-01-04  64.052849  102.220001  31.017828  108.452126  70.514938  56.870766\n",
       "2016-01-05  63.067310  102.730003  30.871820  109.946350  70.739891  58.221748\n",
       "2016-01-06  61.315948  102.970001  30.187403  109.208458  70.056053  58.804699\n",
       "2016-01-07  60.763893   97.919998  29.055828  106.681190  69.444221  60.174198"
      ]
     },
     "execution_count": 15,
     "metadata": {},
     "output_type": "execute_result"
    }
   ],
   "source": [
    "# run the cell!\n",
    "stocks.head()"
   ]
  },
  {
   "cell_type": "code",
   "execution_count": 16,
   "metadata": {},
   "outputs": [
    {
     "name": "stdout",
     "output_type": "stream",
     "text": [
      "<class 'pandas.core.frame.DataFrame'>\n",
      "DatetimeIndex: 754 entries, 2015-12-31 to 2018-12-28\n",
      "Data columns (total 6 columns):\n",
      " #   Column  Non-Null Count  Dtype  \n",
      "---  ------  --------------  -----  \n",
      " 0   AXP     754 non-null    float64\n",
      " 1   FB      754 non-null    float64\n",
      " 2   INTC    754 non-null    float64\n",
      " 3   MCD     754 non-null    float64\n",
      " 4   PG      754 non-null    float64\n",
      " 5   WMT     754 non-null    float64\n",
      "dtypes: float64(6)\n",
      "memory usage: 41.2 KB\n"
     ]
    }
   ],
   "source": [
    "# run the cell!\n",
    "stocks.info()"
   ]
  },
  {
   "cell_type": "markdown",
   "metadata": {},
   "source": [
    "We have ... 754 Days."
   ]
  },
  {
   "cell_type": "markdown",
   "metadata": {},
   "source": [
    "3. __Plot__ stocks (figsize (12, 8)!"
   ]
  },
  {
   "cell_type": "code",
   "execution_count": 19,
   "metadata": {},
   "outputs": [
    {
     "data": {
      "image/png": "[encoded data removed]",
      "text/plain": [
       "<Figure size 1000x700 with 1 Axes>"
      ]
     },
     "metadata": {},
     "output_type": "display_data"
    }
   ],
   "source": [
    "stocks.plot(figsize=(10,7), title=\"Stocks plot\");\n",
    "plt.show();"
   ]
  },
  {
   "cell_type": "markdown",
   "metadata": {},
   "source": [
    "4. __Bring__ the six stocks to the __same Base Value__ (100) and __plot__ again! __Fill in the gaps!__"
   ]
  },
  {
   "cell_type": "code",
   "execution_count": null,
   "metadata": {},
   "outputs": [],
   "source": [
    "stocks.---(stocks.iloc[0]).---(figsize = (12,8))\n",
    "plt.show()"
   ]
  },
  {
   "cell_type": "markdown",
   "metadata": {},
   "source": [
    "Still hard to compare performance, right?"
   ]
  },
  {
   "cell_type": "markdown",
   "metadata": {},
   "source": [
    "5. __Resample__ stocks to __monthly__ frequency (__last__ trading price of each month, index should show last calender day)!<br> __Save__ the resampled Dataframe in the variable __stocks_m__!"
   ]
  },
  {
   "cell_type": "code",
   "execution_count": null,
   "metadata": {},
   "outputs": [],
   "source": []
  },
  {
   "cell_type": "code",
   "execution_count": null,
   "metadata": {
    "scrolled": true
   },
   "outputs": [],
   "source": [
    "# run the cell!\n",
    "stocks_m.head()"
   ]
  },
  {
   "cell_type": "markdown",
   "metadata": {},
   "source": [
    "6. Calculate __monthly returns__ and __save__ the result in the variable __ret__! (drop NaN Values!)"
   ]
  },
  {
   "cell_type": "code",
   "execution_count": null,
   "metadata": {},
   "outputs": [],
   "source": []
  },
  {
   "cell_type": "code",
   "execution_count": null,
   "metadata": {
    "scrolled": true
   },
   "outputs": [],
   "source": [
    "#run the cell!\n",
    "ret"
   ]
  },
  {
   "cell_type": "markdown",
   "metadata": {},
   "source": [
    "7. Calculate __mean__ and  __standard deviation__ of monthly returns! __Save__ the result in the variable __summary__!<br>\n",
    "__Fill in the gaps!__"
   ]
  },
  {
   "cell_type": "code",
   "execution_count": null,
   "metadata": {},
   "outputs": [],
   "source": [
    "summary = ret.describe().T.loc[:, [---, ---]]"
   ]
  },
  {
   "cell_type": "code",
   "execution_count": null,
   "metadata": {},
   "outputs": [],
   "source": [
    "#run the cell!\n",
    "summary"
   ]
  },
  {
   "cell_type": "markdown",
   "metadata": {},
   "source": [
    "8. __Annualize__ mean and standard deviation of returns! __Fill in the gaps!__"
   ]
  },
  {
   "cell_type": "code",
   "execution_count": null,
   "metadata": {},
   "outputs": [],
   "source": [
    "summary[\"mean\"] = summary[\"mean\"]*---\n",
    "summary[\"std\"] = summary[\"std\"]*---(---)"
   ]
  },
  {
   "cell_type": "code",
   "execution_count": null,
   "metadata": {},
   "outputs": [],
   "source": [
    "#run the cell!\n",
    "summary"
   ]
  },
  {
   "cell_type": "markdown",
   "metadata": {},
   "source": [
    "9. __Plot__ and __compare__ the performance of the six stocks in a __(total) risk / return__ framework! __Fill in the gaps__! <br>\n",
    "Can you identify the __best performing__ stock and the __worst performing__ stock (in terms of __risk / return__)?"
   ]
  },
  {
   "cell_type": "code",
   "execution_count": null,
   "metadata": {},
   "outputs": [],
   "source": [
    "summary.plot(kind = \"---\", x = \"---\", y = \"---\", figsize = (12, 8), s = 50, fontsize = 15, xlim = (0.1, 0.3), ylim = (0, 0.25))\n",
    "for i in summary.index:\n",
    "    plt.annotate(i, xy=(summary.loc[i, \"std\"]+0.002, summary.loc[i, \"mean\"]+0.002), size = 15)\n",
    "plt.xlabel(\"ann. Risk(std)\", fontsize = 15)\n",
    "plt.ylabel(\"ann. Return\", fontsize = 15)\n",
    "plt.title(\"Risk/Return\", fontsize = 20)\n",
    "plt.show()"
   ]
  },
  {
   "cell_type": "markdown",
   "metadata": {},
   "source": [
    "In a (total) risk / return framework, McDonalds (most likely) showed the best performance (upper left) and facebook the worst performance (lower right)!"
   ]
  },
  {
   "cell_type": "markdown",
   "metadata": {},
   "source": [
    "10. Prepare the __correlation matrix__ of monthly returns. Which stocks-pair shows the __highest (positive) correlation__ of monthly returns? "
   ]
  },
  {
   "cell_type": "code",
   "execution_count": null,
   "metadata": {},
   "outputs": [],
   "source": []
  },
  {
   "cell_type": "markdown",
   "metadata": {},
   "source": [
    "The highest positive correlation of returns is between ... Walmart and McDonalds."
   ]
  },
  {
   "cell_type": "markdown",
   "metadata": {},
   "source": [
    "11. __Visualize__ the correlation matrix with a __Seaborn Heatmap__! __Fill in the gaps!__"
   ]
  },
  {
   "cell_type": "code",
   "execution_count": null,
   "metadata": {},
   "outputs": [],
   "source": [
    "# run the cell!\n",
    "import seaborn as sns"
   ]
  },
  {
   "cell_type": "code",
   "execution_count": null,
   "metadata": {
    "scrolled": true
   },
   "outputs": [],
   "source": [
    "plt.figure(figsize=(12,8))\n",
    "sns.set(font_scale=1.0)\n",
    "sns.---(---, cmap = \"RdYlGn\", annot = True, vmin = -0.5, vmax = 0.6, center = 0)\n",
    "plt.show()"
   ]
  },
  {
   "cell_type": "code",
   "execution_count": null,
   "metadata": {},
   "outputs": [],
   "source": []
  },
  {
   "cell_type": "markdown",
   "metadata": {},
   "source": [
    "# Solutions (Stop here if you want to code on your own!)"
   ]
  },
  {
   "cell_type": "markdown",
   "metadata": {},
   "source": [
    "# ++++++++++++++++++++++++++++++++++++++++++++++++++++++++++"
   ]
  },
  {
   "cell_type": "code",
   "execution_count": null,
   "metadata": {},
   "outputs": [],
   "source": []
  },
  {
   "cell_type": "code",
   "execution_count": null,
   "metadata": {},
   "outputs": [],
   "source": [
    "#run the cell!\n",
    "import pandas as pd\n",
    "import numpy as np\n",
    "import matplotlib.pyplot as plt\n",
    "plt.style.use(\"seaborn\")"
   ]
  },
  {
   "cell_type": "markdown",
   "metadata": {},
   "source": [
    "1. __Import__ daily stock price data (__us_stocks.csv__) and __inspect__! Handle the __MultiIndex__! __Fill in the gaps__!"
   ]
  },
  {
   "cell_type": "code",
   "execution_count": null,
   "metadata": {},
   "outputs": [],
   "source": [
    "stocks = pd.read_csv(\"us_stocks.csv\", header = [0,1], index_col= [0], parse_dates= [0])"
   ]
  },
  {
   "cell_type": "code",
   "execution_count": null,
   "metadata": {},
   "outputs": [],
   "source": [
    "# run the cell!\n",
    "stocks.head()"
   ]
  },
  {
   "cell_type": "markdown",
   "metadata": {},
   "source": [
    "Ticker Symbols:\n",
    "- AXP : American Express\n",
    "- FB : Facebook\n",
    "- INTC : Intel\n",
    "- MCD : McDonalds \n",
    "- PG : Procter & Gamble\n",
    "- WMT: Walmart"
   ]
  },
  {
   "cell_type": "markdown",
   "metadata": {},
   "source": [
    "2. __Select__ the Adjusted Close (__Adj Close__) for all six stocks from __31-12-2015__ (incl.) until __31-12-2018__ (incl.)! __Overwrite__ stocks! <br>\n",
    "__How many Timestamps__ / Days are in the DataFrame now?"
   ]
  },
  {
   "cell_type": "code",
   "execution_count": null,
   "metadata": {
    "scrolled": true
   },
   "outputs": [],
   "source": [
    "stocks = stocks.loc[\"31-12-2015\":\"31-12-2018\", \"Adj Close\"]"
   ]
  },
  {
   "cell_type": "code",
   "execution_count": null,
   "metadata": {},
   "outputs": [],
   "source": [
    "# run the cell!\n",
    "stocks.head()"
   ]
  },
  {
   "cell_type": "code",
   "execution_count": null,
   "metadata": {},
   "outputs": [],
   "source": [
    "# run the cell!\n",
    "stocks.info()"
   ]
  },
  {
   "cell_type": "markdown",
   "metadata": {},
   "source": [
    "We have ... 754 Days."
   ]
  },
  {
   "cell_type": "markdown",
   "metadata": {},
   "source": [
    "3. __Plot__ stocks (figsize (12, 8)!"
   ]
  },
  {
   "cell_type": "code",
   "execution_count": null,
   "metadata": {},
   "outputs": [],
   "source": [
    "stocks.plot(figsize = (12,8))\n",
    "plt.show()"
   ]
  },
  {
   "cell_type": "markdown",
   "metadata": {},
   "source": [
    "4. __Bring__ the six stocks to the __same Base Value__ (100) and __plot__ again! __Fill in the gaps!__"
   ]
  },
  {
   "cell_type": "code",
   "execution_count": null,
   "metadata": {},
   "outputs": [],
   "source": [
    "stocks.div(stocks.iloc[0]).mul(100).plot(figsize = (12,8))\n",
    "plt.show()"
   ]
  },
  {
   "cell_type": "markdown",
   "metadata": {},
   "source": [
    "Still hard to compare performance, right?"
   ]
  },
  {
   "cell_type": "markdown",
   "metadata": {},
   "source": [
    "5. __Resample__ stocks to __monthly__ frequency (__last__ trading price of each month, index should show last calender day)!<br> __Save__ the resampled Dataframe in the variable __stocks_m__!"
   ]
  },
  {
   "cell_type": "code",
   "execution_count": null,
   "metadata": {},
   "outputs": [],
   "source": [
    "stocks_m = stocks.resample(\"M\").last()"
   ]
  },
  {
   "cell_type": "code",
   "execution_count": null,
   "metadata": {
    "scrolled": true
   },
   "outputs": [],
   "source": [
    "# run the cell!\n",
    "stocks_m.head()"
   ]
  },
  {
   "cell_type": "markdown",
   "metadata": {},
   "source": [
    "6. Calculate __monthly returns__ and __save__ the result in the variable __ret__! (drop NaN Values!)"
   ]
  },
  {
   "cell_type": "code",
   "execution_count": null,
   "metadata": {},
   "outputs": [],
   "source": [
    "ret = stocks_m.pct_change().dropna()"
   ]
  },
  {
   "cell_type": "code",
   "execution_count": null,
   "metadata": {
    "scrolled": true
   },
   "outputs": [],
   "source": [
    "#run the cell!\n",
    "ret"
   ]
  },
  {
   "cell_type": "markdown",
   "metadata": {},
   "source": [
    "7. Calculate __mean__ and  __standard deviation__ of monthly returns! __Save__ the result in the variable __summary__!<br>\n",
    "__Fill in the gaps!__"
   ]
  },
  {
   "cell_type": "code",
   "execution_count": null,
   "metadata": {},
   "outputs": [],
   "source": [
    "summary = ret.describe().T.loc[:, [\"mean\", \"std\"]]"
   ]
  },
  {
   "cell_type": "code",
   "execution_count": null,
   "metadata": {},
   "outputs": [],
   "source": [
    "#run the cell!\n",
    "summary"
   ]
  },
  {
   "cell_type": "markdown",
   "metadata": {},
   "source": [
    "8. __Annualize__ mean and standard deviation of returns! __Fill in the gaps!__"
   ]
  },
  {
   "cell_type": "code",
   "execution_count": null,
   "metadata": {},
   "outputs": [],
   "source": [
    "summary[\"mean\"] = summary[\"mean\"]*12\n",
    "summary[\"std\"] = summary[\"std\"]*np.sqrt(12)"
   ]
  },
  {
   "cell_type": "code",
   "execution_count": null,
   "metadata": {},
   "outputs": [],
   "source": [
    "#run the cell!\n",
    "summary"
   ]
  },
  {
   "cell_type": "markdown",
   "metadata": {},
   "source": [
    "9. __Plot__ and __compare__ the performance of the six stocks in a __(total) risk / return__ framework! __Fill in the gaps__! <br>\n",
    "Can you identify the __best performing__ stock and the __worst performing__ stock (in terms of __risk / return__)?"
   ]
  },
  {
   "cell_type": "code",
   "execution_count": null,
   "metadata": {},
   "outputs": [],
   "source": [
    "summary.plot(kind = \"scatter\", x = \"std\", y = \"mean\", figsize = (12, 8), s = 50, fontsize = 15, xlim = (0.1, 0.3), ylim = (0, 0.25))\n",
    "for i in summary.index:\n",
    "    plt.annotate(i, xy=(summary.loc[i, \"std\"]+0.002, summary.loc[i, \"mean\"]+0.002), size = 15)\n",
    "plt.xlabel(\"ann. Risk(std)\", fontsize = 15)\n",
    "plt.ylabel(\"ann. Return\", fontsize = 15)\n",
    "plt.title(\"Risk/Return\", fontsize = 20)\n",
    "plt.show()"
   ]
  },
  {
   "cell_type": "markdown",
   "metadata": {},
   "source": [
    "In a (total) risk / return framework, McDonalds (most likely) showed the best performance (upper left) and facebook the worst performance (lower right)!"
   ]
  },
  {
   "cell_type": "markdown",
   "metadata": {},
   "source": [
    "10. Prepare the __correlation matrix__ of monthly returns. Which stocks-pair shows the __highest (positive) correlation__ of monthly returns? "
   ]
  },
  {
   "cell_type": "code",
   "execution_count": null,
   "metadata": {},
   "outputs": [],
   "source": [
    "ret.corr()"
   ]
  },
  {
   "cell_type": "markdown",
   "metadata": {},
   "source": [
    "The highest positive correlation of returns is between ... Walmart and McDonalds."
   ]
  },
  {
   "cell_type": "markdown",
   "metadata": {},
   "source": [
    "11. __Visualize__ the correlation matrix with a __Seaborn Heatmap__! __Fill in the gaps!__"
   ]
  },
  {
   "cell_type": "code",
   "execution_count": null,
   "metadata": {},
   "outputs": [],
   "source": [
    "# run the cell!\n",
    "import seaborn as sns"
   ]
  },
  {
   "cell_type": "code",
   "execution_count": null,
   "metadata": {
    "scrolled": false
   },
   "outputs": [],
   "source": [
    "plt.figure(figsize=(12,8))\n",
    "sns.set(font_scale=1.0)\n",
    "sns.heatmap(ret.corr(), cmap = \"RdYlGn\", annot = True, vmin = -0.5, vmax = 0.6, center = 0)\n",
    "plt.show()"
   ]
  },
  {
   "cell_type": "markdown",
   "metadata": {},
   "source": [
    "# Well Done!"
   ]
  },
  {
   "cell_type": "markdown",
   "metadata": {},
   "source": [
    "-------------------"
   ]
  },
  {
   "cell_type": "code",
   "execution_count": null,
   "metadata": {},
   "outputs": [],
   "source": []
  }
 ],
 "metadata": {
  "kernelspec": {
   "display_name": "Python 3.10.8 ('automated_trading')",
   "language": "python",
   "name": "python3"
  },
  "language_info": {
   "codemirror_mode": {
    "name": "ipython",
    "version": 3
   },
   "file_extension": ".py",
   "mimetype": "text/x-python",
   "name": "python",
   "nbconvert_exporter": "python",
   "pygments_lexer": "ipython3",
   "version": "3.10.8"
  },
  "vscode": {
   "interpreter": {
    "hash": "4db4ef9610b39630b33bb0653bf3e60f15a2722a2707efc3b74f613b861c281d"
   }
  }
 },
 "nbformat": 4,
 "nbformat_minor": 2
}
