{
 "cells": [
  {
   "cell_type": "code",
   "execution_count": 63,
   "id": "3a315b15",
   "metadata": {},
   "outputs": [],
   "source": [
    "import pandas as pd\n",
    "import numpy as np"
   ]
  },
  {
   "cell_type": "code",
   "execution_count": 88,
   "id": "9fee46ee",
   "metadata": {},
   "outputs": [],
   "source": [
    "df = pd.read_csv(\"Part2_Materials/Exercises/aapl_fb.csv\")"
   ]
  },
  {
   "cell_type": "code",
   "execution_count": 89,
   "id": "979470ae",
   "metadata": {},
   "outputs": [
    {
     "data": {
      "text/html": [
       "<div>\n",
       "<style scoped>\n",
       "    .dataframe tbody tr th:only-of-type {\n",
       "        vertical-align: middle;\n",
       "    }\n",
       "\n",
       "    .dataframe tbody tr th {\n",
       "        vertical-align: top;\n",
       "    }\n",
       "\n",
       "    .dataframe thead th {\n",
       "        text-align: right;\n",
       "    }\n",
       "</style>\n",
       "<table border=\"1\" class=\"dataframe\">\n",
       "  <thead>\n",
       "    <tr style=\"text-align: right;\">\n",
       "      <th></th>\n",
       "      <th>Date</th>\n",
       "      <th>AAPL</th>\n",
       "      <th>FB</th>\n",
       "    </tr>\n",
       "  </thead>\n",
       "  <tbody>\n",
       "    <tr>\n",
       "      <th>0</th>\n",
       "      <td>2015-01-02</td>\n",
       "      <td>109.330002</td>\n",
       "      <td>78.449997</td>\n",
       "    </tr>\n",
       "    <tr>\n",
       "      <th>1</th>\n",
       "      <td>2015-01-05</td>\n",
       "      <td>106.250000</td>\n",
       "      <td>77.190002</td>\n",
       "    </tr>\n",
       "    <tr>\n",
       "      <th>2</th>\n",
       "      <td>2015-01-06</td>\n",
       "      <td>106.260002</td>\n",
       "      <td>76.150002</td>\n",
       "    </tr>\n",
       "    <tr>\n",
       "      <th>3</th>\n",
       "      <td>2015-01-07</td>\n",
       "      <td>107.750000</td>\n",
       "      <td>76.150002</td>\n",
       "    </tr>\n",
       "    <tr>\n",
       "      <th>4</th>\n",
       "      <td>2015-01-08</td>\n",
       "      <td>111.889999</td>\n",
       "      <td>78.180000</td>\n",
       "    </tr>\n",
       "  </tbody>\n",
       "</table>\n",
       "</div>"
      ],
      "text/plain": [
       "         Date        AAPL         FB\n",
       "0  2015-01-02  109.330002  78.449997\n",
       "1  2015-01-05  106.250000  77.190002\n",
       "2  2015-01-06  106.260002  76.150002\n",
       "3  2015-01-07  107.750000  76.150002\n",
       "4  2015-01-08  111.889999  78.180000"
      ]
     },
     "execution_count": 89,
     "metadata": {},
     "output_type": "execute_result"
    }
   ],
   "source": [
    "df.head()"
   ]
  },
  {
   "cell_type": "code",
   "execution_count": 92,
   "id": "ec9c7605",
   "metadata": {},
   "outputs": [],
   "source": [
    "df[\"Date\"] = pd.to_datetime(df[\"Date\"])"
   ]
  },
  {
   "cell_type": "code",
   "execution_count": 95,
   "id": "9223a60a",
   "metadata": {},
   "outputs": [],
   "source": [
    "df = df.set_index('Date')"
   ]
  },
  {
   "cell_type": "code",
   "execution_count": 102,
   "id": "fa9e3b85",
   "metadata": {},
   "outputs": [
    {
     "data": {
      "text/plain": [
       "90.519997"
      ]
     },
     "execution_count": 102,
     "metadata": {},
     "output_type": "execute_result"
    }
   ],
   "source": [
    "# 2. \n",
    "df[\"AAPL\"].loc[\"13 May 2016\"]"
   ]
  },
  {
   "cell_type": "code",
   "execution_count": 110,
   "id": "1f966e18",
   "metadata": {},
   "outputs": [],
   "source": [
    "# 3.\n",
    "apple_stock_price = df[\"AAPL\"].loc[\"September 2017\"].mean()\n",
    "\n",
    "both_mean = df.loc[\"September 2017\"].mean()"
   ]
  },
  {
   "cell_type": "code",
   "execution_count": 120,
   "id": "457b9030",
   "metadata": {},
   "outputs": [
    {
     "data": {
      "text/plain": [
       "Date\n",
       "2015-01-31     75.910004\n",
       "2015-02-28     78.970001\n",
       "2015-03-31     82.220001\n",
       "2015-04-30     78.769997\n",
       "2015-05-31     79.190002\n",
       "2015-06-30     85.769997\n",
       "2015-07-31     94.010002\n",
       "2015-08-31     89.430000\n",
       "2015-09-30     89.900002\n",
       "2015-10-31    101.970001\n",
       "2015-11-30    104.239998\n",
       "2015-12-31    104.660004\n",
       "2016-01-31    112.209999\n",
       "2016-02-29    106.919998\n",
       "2016-03-31    114.099998\n",
       "2016-04-30    117.580002\n",
       "2016-05-31    118.809998\n",
       "2016-06-30    114.279999\n",
       "2016-07-31    123.940002\n",
       "2016-08-31    126.120003\n",
       "2016-09-30    128.270004\n",
       "2016-10-31    130.990005\n",
       "2016-11-30    118.419998\n",
       "2016-12-31    115.050003\n",
       "2017-01-31    130.320007\n",
       "2017-02-28    135.539993\n",
       "2017-03-31    142.050003\n",
       "2017-04-30    150.250000\n",
       "2017-05-31    151.460007\n",
       "2017-06-30    150.979996\n",
       "2017-07-31    169.250000\n",
       "2017-08-31    171.970001\n",
       "2017-09-30    170.869995\n",
       "2017-10-31    180.059998\n",
       "2017-11-30    177.179993\n",
       "2017-12-31    176.460007\n",
       "2018-01-31    186.889999\n",
       "2018-02-28    178.320007\n",
       "2018-03-31    159.789993\n",
       "2018-04-30    172.000000\n",
       "2018-05-31    191.779999\n",
       "2018-06-30    194.320007\n",
       "2018-07-31    172.580002\n",
       "2018-08-31    175.729996\n",
       "2018-09-30    164.460007\n",
       "2018-10-31    151.789993\n",
       "2018-11-30    140.610001\n",
       "2018-12-31    133.199997\n",
       "Freq: M, Name: FB, dtype: float64"
      ]
     },
     "execution_count": 120,
     "metadata": {},
     "output_type": "execute_result"
    }
   ],
   "source": [
    "df[\"FB\"].resample(\"M\").last()"
   ]
  },
  {
   "cell_type": "code",
   "execution_count": 123,
   "id": "680935d5",
   "metadata": {},
   "outputs": [
    {
     "data": {
      "text/html": [
       "<div>\n",
       "<style scoped>\n",
       "    .dataframe tbody tr th:only-of-type {\n",
       "        vertical-align: middle;\n",
       "    }\n",
       "\n",
       "    .dataframe tbody tr th {\n",
       "        vertical-align: top;\n",
       "    }\n",
       "\n",
       "    .dataframe thead th {\n",
       "        text-align: right;\n",
       "    }\n",
       "</style>\n",
       "<table border=\"1\" class=\"dataframe\">\n",
       "  <thead>\n",
       "    <tr style=\"text-align: right;\">\n",
       "      <th></th>\n",
       "      <th>AAPL</th>\n",
       "      <th>FB</th>\n",
       "    </tr>\n",
       "    <tr>\n",
       "      <th>Date</th>\n",
       "      <th></th>\n",
       "      <th></th>\n",
       "    </tr>\n",
       "  </thead>\n",
       "  <tbody>\n",
       "    <tr>\n",
       "      <th>2015-01-31</th>\n",
       "      <td>110.641501</td>\n",
       "      <td>76.721500</td>\n",
       "    </tr>\n",
       "    <tr>\n",
       "      <th>2015-02-28</th>\n",
       "      <td>125.432105</td>\n",
       "      <td>76.951053</td>\n",
       "    </tr>\n",
       "    <tr>\n",
       "      <th>2015-03-31</th>\n",
       "      <td>125.970908</td>\n",
       "      <td>81.013183</td>\n",
       "    </tr>\n",
       "    <tr>\n",
       "      <th>2015-04-30</th>\n",
       "      <td>127.291428</td>\n",
       "      <td>82.091428</td>\n",
       "    </tr>\n",
       "    <tr>\n",
       "      <th>2015-05-31</th>\n",
       "      <td>128.761500</td>\n",
       "      <td>79.420000</td>\n",
       "    </tr>\n",
       "  </tbody>\n",
       "</table>\n",
       "</div>"
      ],
      "text/plain": [
       "                  AAPL         FB\n",
       "Date                             \n",
       "2015-01-31  110.641501  76.721500\n",
       "2015-02-28  125.432105  76.951053\n",
       "2015-03-31  125.970908  81.013183\n",
       "2015-04-30  127.291428  82.091428\n",
       "2015-05-31  128.761500  79.420000"
      ]
     },
     "execution_count": 123,
     "metadata": {},
     "output_type": "execute_result"
    }
   ],
   "source": [
    "df_month_mean = df.resample(\"M\").mean()\n",
    "df_month_mean.head()"
   ]
  },
  {
   "cell_type": "code",
   "execution_count": 124,
   "id": "61f85306",
   "metadata": {},
   "outputs": [
    {
     "data": {
      "text/html": [
       "<div>\n",
       "<style scoped>\n",
       "    .dataframe tbody tr th:only-of-type {\n",
       "        vertical-align: middle;\n",
       "    }\n",
       "\n",
       "    .dataframe tbody tr th {\n",
       "        vertical-align: top;\n",
       "    }\n",
       "\n",
       "    .dataframe thead th {\n",
       "        text-align: right;\n",
       "    }\n",
       "</style>\n",
       "<table border=\"1\" class=\"dataframe\">\n",
       "  <thead>\n",
       "    <tr style=\"text-align: right;\">\n",
       "      <th></th>\n",
       "      <th>AAPL</th>\n",
       "      <th>FB</th>\n",
       "    </tr>\n",
       "    <tr>\n",
       "      <th>Date</th>\n",
       "      <th></th>\n",
       "      <th></th>\n",
       "    </tr>\n",
       "  </thead>\n",
       "  <tbody>\n",
       "    <tr>\n",
       "      <th>2015-04-30</th>\n",
       "      <td>127.291428</td>\n",
       "      <td>82.091428</td>\n",
       "    </tr>\n",
       "  </tbody>\n",
       "</table>\n",
       "</div>"
      ],
      "text/plain": [
       "                  AAPL         FB\n",
       "Date                             \n",
       "2015-04-30  127.291428  82.091428"
      ]
     },
     "execution_count": 124,
     "metadata": {},
     "output_type": "execute_result"
    }
   ],
   "source": [
    "df_month_mean.loc[\"April 2015\"]"
   ]
  },
  {
   "cell_type": "code",
   "execution_count": 125,
   "id": "821c88e8",
   "metadata": {},
   "outputs": [
    {
     "data": {
      "text/html": [
       "<div>\n",
       "<style scoped>\n",
       "    .dataframe tbody tr th:only-of-type {\n",
       "        vertical-align: middle;\n",
       "    }\n",
       "\n",
       "    .dataframe tbody tr th {\n",
       "        vertical-align: top;\n",
       "    }\n",
       "\n",
       "    .dataframe thead th {\n",
       "        text-align: right;\n",
       "    }\n",
       "</style>\n",
       "<table border=\"1\" class=\"dataframe\">\n",
       "  <thead>\n",
       "    <tr style=\"text-align: right;\">\n",
       "      <th></th>\n",
       "      <th>AAPL</th>\n",
       "      <th>FB</th>\n",
       "    </tr>\n",
       "    <tr>\n",
       "      <th>Date</th>\n",
       "      <th></th>\n",
       "      <th></th>\n",
       "    </tr>\n",
       "  </thead>\n",
       "  <tbody>\n",
       "    <tr>\n",
       "      <th>2015-01-02</th>\n",
       "      <td>109.330002</td>\n",
       "      <td>78.449997</td>\n",
       "    </tr>\n",
       "    <tr>\n",
       "      <th>2015-01-09</th>\n",
       "      <td>112.010002</td>\n",
       "      <td>77.739998</td>\n",
       "    </tr>\n",
       "    <tr>\n",
       "      <th>2015-01-16</th>\n",
       "      <td>105.989998</td>\n",
       "      <td>75.180000</td>\n",
       "    </tr>\n",
       "    <tr>\n",
       "      <th>2015-01-23</th>\n",
       "      <td>112.980003</td>\n",
       "      <td>77.830002</td>\n",
       "    </tr>\n",
       "    <tr>\n",
       "      <th>2015-01-30</th>\n",
       "      <td>117.160004</td>\n",
       "      <td>75.910004</td>\n",
       "    </tr>\n",
       "    <tr>\n",
       "      <th>...</th>\n",
       "      <td>...</td>\n",
       "      <td>...</td>\n",
       "    </tr>\n",
       "    <tr>\n",
       "      <th>2018-11-30</th>\n",
       "      <td>178.580002</td>\n",
       "      <td>140.610001</td>\n",
       "    </tr>\n",
       "    <tr>\n",
       "      <th>2018-12-07</th>\n",
       "      <td>168.490005</td>\n",
       "      <td>137.419998</td>\n",
       "    </tr>\n",
       "    <tr>\n",
       "      <th>2018-12-14</th>\n",
       "      <td>165.479996</td>\n",
       "      <td>144.059998</td>\n",
       "    </tr>\n",
       "    <tr>\n",
       "      <th>2018-12-21</th>\n",
       "      <td>150.729996</td>\n",
       "      <td>124.949997</td>\n",
       "    </tr>\n",
       "    <tr>\n",
       "      <th>2018-12-28</th>\n",
       "      <td>156.229996</td>\n",
       "      <td>133.199997</td>\n",
       "    </tr>\n",
       "  </tbody>\n",
       "</table>\n",
       "<p>209 rows × 2 columns</p>\n",
       "</div>"
      ],
      "text/plain": [
       "                  AAPL          FB\n",
       "Date                              \n",
       "2015-01-02  109.330002   78.449997\n",
       "2015-01-09  112.010002   77.739998\n",
       "2015-01-16  105.989998   75.180000\n",
       "2015-01-23  112.980003   77.830002\n",
       "2015-01-30  117.160004   75.910004\n",
       "...                ...         ...\n",
       "2018-11-30  178.580002  140.610001\n",
       "2018-12-07  168.490005  137.419998\n",
       "2018-12-14  165.479996  144.059998\n",
       "2018-12-21  150.729996  124.949997\n",
       "2018-12-28  156.229996  133.199997\n",
       "\n",
       "[209 rows x 2 columns]"
      ]
     },
     "execution_count": 125,
     "metadata": {},
     "output_type": "execute_result"
    }
   ],
   "source": [
    "df.resample(\"W-Fri\").last()"
   ]
  },
  {
   "cell_type": "code",
   "execution_count": null,
   "id": "ed859e0a",
   "metadata": {},
   "outputs": [],
   "source": []
  }
 ],
 "metadata": {
  "kernelspec": {
   "display_name": "Python 3 (ipykernel)",
   "language": "python",
   "name": "python3"
  },
  "language_info": {
   "codemirror_mode": {
    "name": "ipython",
    "version": 3
   },
   "file_extension": ".py",
   "mimetype": "text/x-python",
   "name": "python",
   "nbconvert_exporter": "python",
   "pygments_lexer": "ipython3",
   "version": "3.8.12"
  },
  "toc": {
   "base_numbering": 1,
   "nav_menu": {},
   "number_sections": true,
   "sideBar": true,
   "skip_h1_title": false,
   "title_cell": "Table of Contents",
   "title_sidebar": "Contents",
   "toc_cell": false,
   "toc_position": {},
   "toc_section_display": true,
   "toc_window_display": false
  }
 },
 "nbformat": 4,
 "nbformat_minor": 5
}
