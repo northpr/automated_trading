{
 "cells": [
  {
   "cell_type": "code",
   "execution_count": 62,
   "id": "d1ac25cc",
   "metadata": {},
   "outputs": [],
   "source": [
    "import pandas as pd\n",
    "import yfinance as yf\n",
    "import numpy as np\n",
    "import matplotlib.pyplot as plt"
   ]
  },
  {
   "cell_type": "code",
   "execution_count": 63,
   "id": "bc5631c1",
   "metadata": {},
   "outputs": [],
   "source": [
    "ticker = [\"AAPL\", \"BA\", \"KO\", \"IBM\", \"DIS\", \"MSFT\"]"
   ]
  },
  {
   "cell_type": "code",
   "execution_count": 64,
   "id": "5027fa52",
   "metadata": {},
   "outputs": [
    {
     "name": "stdout",
     "output_type": "stream",
     "text": [
      "[*********************100%***********************]  6 of 6 completed\n"
     ]
    }
   ],
   "source": [
    "stocks = yf.download(ticker, start=\"2010-01-01\", end =\"2019-02-06\")"
   ]
  },
  {
   "cell_type": "code",
   "execution_count": 65,
   "id": "6d6c475d",
   "metadata": {},
   "outputs": [
    {
     "data": {
      "text/html": [
       "<div>\n",
       "<style scoped>\n",
       "    .dataframe tbody tr th:only-of-type {\n",
       "        vertical-align: middle;\n",
       "    }\n",
       "\n",
       "    .dataframe tbody tr th {\n",
       "        vertical-align: top;\n",
       "    }\n",
       "\n",
       "    .dataframe thead tr th {\n",
       "        text-align: left;\n",
       "    }\n",
       "\n",
       "    .dataframe thead tr:last-of-type th {\n",
       "        text-align: right;\n",
       "    }\n",
       "</style>\n",
       "<table border=\"1\" class=\"dataframe\">\n",
       "  <thead>\n",
       "    <tr>\n",
       "      <th></th>\n",
       "      <th colspan=\"6\" halign=\"left\">Adj Close</th>\n",
       "      <th colspan=\"4\" halign=\"left\">Close</th>\n",
       "      <th>...</th>\n",
       "      <th colspan=\"4\" halign=\"left\">Open</th>\n",
       "      <th colspan=\"6\" halign=\"left\">Volume</th>\n",
       "    </tr>\n",
       "    <tr>\n",
       "      <th></th>\n",
       "      <th>AAPL</th>\n",
       "      <th>BA</th>\n",
       "      <th>DIS</th>\n",
       "      <th>IBM</th>\n",
       "      <th>KO</th>\n",
       "      <th>MSFT</th>\n",
       "      <th>AAPL</th>\n",
       "      <th>BA</th>\n",
       "      <th>DIS</th>\n",
       "      <th>IBM</th>\n",
       "      <th>...</th>\n",
       "      <th>DIS</th>\n",
       "      <th>IBM</th>\n",
       "      <th>KO</th>\n",
       "      <th>MSFT</th>\n",
       "      <th>AAPL</th>\n",
       "      <th>BA</th>\n",
       "      <th>DIS</th>\n",
       "      <th>IBM</th>\n",
       "      <th>KO</th>\n",
       "      <th>MSFT</th>\n",
       "    </tr>\n",
       "    <tr>\n",
       "      <th>Date</th>\n",
       "      <th></th>\n",
       "      <th></th>\n",
       "      <th></th>\n",
       "      <th></th>\n",
       "      <th></th>\n",
       "      <th></th>\n",
       "      <th></th>\n",
       "      <th></th>\n",
       "      <th></th>\n",
       "      <th></th>\n",
       "      <th></th>\n",
       "      <th></th>\n",
       "      <th></th>\n",
       "      <th></th>\n",
       "      <th></th>\n",
       "      <th></th>\n",
       "      <th></th>\n",
       "      <th></th>\n",
       "      <th></th>\n",
       "      <th></th>\n",
       "      <th></th>\n",
       "    </tr>\n",
       "  </thead>\n",
       "  <tbody>\n",
       "    <tr>\n",
       "      <th>2009-12-31</th>\n",
       "      <td>6.415357</td>\n",
       "      <td>42.180111</td>\n",
       "      <td>28.090706</td>\n",
       "      <td>80.363136</td>\n",
       "      <td>19.203465</td>\n",
       "      <td>23.323421</td>\n",
       "      <td>7.526071</td>\n",
       "      <td>54.130001</td>\n",
       "      <td>32.25</td>\n",
       "      <td>125.143402</td>\n",
       "      <td>...</td>\n",
       "      <td>32.27</td>\n",
       "      <td>126.586998</td>\n",
       "      <td>28.790001</td>\n",
       "      <td>30.980000</td>\n",
       "      <td>352410800</td>\n",
       "      <td>2189400</td>\n",
       "      <td>19651700</td>\n",
       "      <td>4417676</td>\n",
       "      <td>10848800</td>\n",
       "      <td>31929700</td>\n",
       "    </tr>\n",
       "    <tr>\n",
       "      <th>2010-01-04</th>\n",
       "      <td>6.515211</td>\n",
       "      <td>43.777550</td>\n",
       "      <td>27.933922</td>\n",
       "      <td>81.314728</td>\n",
       "      <td>19.216951</td>\n",
       "      <td>23.683071</td>\n",
       "      <td>7.643214</td>\n",
       "      <td>56.180000</td>\n",
       "      <td>32.07</td>\n",
       "      <td>126.625237</td>\n",
       "      <td>...</td>\n",
       "      <td>32.50</td>\n",
       "      <td>125.411087</td>\n",
       "      <td>28.580000</td>\n",
       "      <td>30.620001</td>\n",
       "      <td>493729600</td>\n",
       "      <td>6186700</td>\n",
       "      <td>13700400</td>\n",
       "      <td>6438444</td>\n",
       "      <td>13870400</td>\n",
       "      <td>38409100</td>\n",
       "    </tr>\n",
       "    <tr>\n",
       "      <th>2010-01-05</th>\n",
       "      <td>6.526476</td>\n",
       "      <td>45.211346</td>\n",
       "      <td>27.864239</td>\n",
       "      <td>80.332443</td>\n",
       "      <td>18.984484</td>\n",
       "      <td>23.690716</td>\n",
       "      <td>7.656429</td>\n",
       "      <td>58.020000</td>\n",
       "      <td>31.99</td>\n",
       "      <td>125.095604</td>\n",
       "      <td>...</td>\n",
       "      <td>32.07</td>\n",
       "      <td>125.889099</td>\n",
       "      <td>28.424999</td>\n",
       "      <td>30.850000</td>\n",
       "      <td>601904800</td>\n",
       "      <td>8867800</td>\n",
       "      <td>10307700</td>\n",
       "      <td>7156104</td>\n",
       "      <td>23172400</td>\n",
       "      <td>49749600</td>\n",
       "    </tr>\n",
       "    <tr>\n",
       "      <th>2010-01-06</th>\n",
       "      <td>6.422666</td>\n",
       "      <td>46.582794</td>\n",
       "      <td>27.716164</td>\n",
       "      <td>79.810616</td>\n",
       "      <td>18.977747</td>\n",
       "      <td>23.545330</td>\n",
       "      <td>7.534643</td>\n",
       "      <td>59.779999</td>\n",
       "      <td>31.82</td>\n",
       "      <td>124.282982</td>\n",
       "      <td>...</td>\n",
       "      <td>31.90</td>\n",
       "      <td>124.933075</td>\n",
       "      <td>28.174999</td>\n",
       "      <td>30.879999</td>\n",
       "      <td>552160000</td>\n",
       "      <td>8836500</td>\n",
       "      <td>10709500</td>\n",
       "      <td>5863144</td>\n",
       "      <td>19264600</td>\n",
       "      <td>58182400</td>\n",
       "    </tr>\n",
       "    <tr>\n",
       "      <th>2010-01-07</th>\n",
       "      <td>6.410790</td>\n",
       "      <td>48.468567</td>\n",
       "      <td>27.724876</td>\n",
       "      <td>79.534325</td>\n",
       "      <td>18.930576</td>\n",
       "      <td>23.300472</td>\n",
       "      <td>7.520714</td>\n",
       "      <td>62.200001</td>\n",
       "      <td>31.83</td>\n",
       "      <td>123.852776</td>\n",
       "      <td>...</td>\n",
       "      <td>31.77</td>\n",
       "      <td>124.158699</td>\n",
       "      <td>28.165001</td>\n",
       "      <td>30.629999</td>\n",
       "      <td>477131200</td>\n",
       "      <td>14379100</td>\n",
       "      <td>8202100</td>\n",
       "      <td>6109268</td>\n",
       "      <td>13234600</td>\n",
       "      <td>50559700</td>\n",
       "    </tr>\n",
       "  </tbody>\n",
       "</table>\n",
       "<p>5 rows × 36 columns</p>\n",
       "</div>"
      ],
      "text/plain": [
       "           Adj Close                                                         \\\n",
       "                AAPL         BA        DIS        IBM         KO       MSFT   \n",
       "Date                                                                          \n",
       "2009-12-31  6.415357  42.180111  28.090706  80.363136  19.203465  23.323421   \n",
       "2010-01-04  6.515211  43.777550  27.933922  81.314728  19.216951  23.683071   \n",
       "2010-01-05  6.526476  45.211346  27.864239  80.332443  18.984484  23.690716   \n",
       "2010-01-06  6.422666  46.582794  27.716164  79.810616  18.977747  23.545330   \n",
       "2010-01-07  6.410790  48.468567  27.724876  79.534325  18.930576  23.300472   \n",
       "\n",
       "               Close                                ...   Open              \\\n",
       "                AAPL         BA    DIS         IBM  ...    DIS         IBM   \n",
       "Date                                                ...                      \n",
       "2009-12-31  7.526071  54.130001  32.25  125.143402  ...  32.27  126.586998   \n",
       "2010-01-04  7.643214  56.180000  32.07  126.625237  ...  32.50  125.411087   \n",
       "2010-01-05  7.656429  58.020000  31.99  125.095604  ...  32.07  125.889099   \n",
       "2010-01-06  7.534643  59.779999  31.82  124.282982  ...  31.90  124.933075   \n",
       "2010-01-07  7.520714  62.200001  31.83  123.852776  ...  31.77  124.158699   \n",
       "\n",
       "                                     Volume                               \\\n",
       "                   KO       MSFT       AAPL        BA       DIS      IBM   \n",
       "Date                                                                       \n",
       "2009-12-31  28.790001  30.980000  352410800   2189400  19651700  4417676   \n",
       "2010-01-04  28.580000  30.620001  493729600   6186700  13700400  6438444   \n",
       "2010-01-05  28.424999  30.850000  601904800   8867800  10307700  7156104   \n",
       "2010-01-06  28.174999  30.879999  552160000   8836500  10709500  5863144   \n",
       "2010-01-07  28.165001  30.629999  477131200  14379100   8202100  6109268   \n",
       "\n",
       "                                \n",
       "                  KO      MSFT  \n",
       "Date                            \n",
       "2009-12-31  10848800  31929700  \n",
       "2010-01-04  13870400  38409100  \n",
       "2010-01-05  23172400  49749600  \n",
       "2010-01-06  19264600  58182400  \n",
       "2010-01-07  13234600  50559700  \n",
       "\n",
       "[5 rows x 36 columns]"
      ]
     },
     "execution_count": 65,
     "metadata": {},
     "output_type": "execute_result"
    }
   ],
   "source": [
    "stocks.head()"
   ]
  },
  {
   "cell_type": "code",
   "execution_count": 66,
   "id": "414bd35c",
   "metadata": {},
   "outputs": [],
   "source": [
    "stocks.to_csv(\"stocks.csv\")"
   ]
  },
  {
   "cell_type": "code",
   "execution_count": 67,
   "id": "1ef847ee",
   "metadata": {},
   "outputs": [
    {
     "data": {
      "text/html": [
       "<div>\n",
       "<style scoped>\n",
       "    .dataframe tbody tr th:only-of-type {\n",
       "        vertical-align: middle;\n",
       "    }\n",
       "\n",
       "    .dataframe tbody tr th {\n",
       "        vertical-align: top;\n",
       "    }\n",
       "\n",
       "    .dataframe thead tr th {\n",
       "        text-align: left;\n",
       "    }\n",
       "\n",
       "    .dataframe thead tr:last-of-type th {\n",
       "        text-align: right;\n",
       "    }\n",
       "</style>\n",
       "<table border=\"1\" class=\"dataframe\">\n",
       "  <thead>\n",
       "    <tr>\n",
       "      <th></th>\n",
       "      <th colspan=\"6\" halign=\"left\">Adj Close</th>\n",
       "      <th colspan=\"4\" halign=\"left\">Close</th>\n",
       "      <th>...</th>\n",
       "      <th colspan=\"4\" halign=\"left\">Open</th>\n",
       "      <th colspan=\"6\" halign=\"left\">Volume</th>\n",
       "    </tr>\n",
       "    <tr>\n",
       "      <th></th>\n",
       "      <th>AAPL</th>\n",
       "      <th>BA</th>\n",
       "      <th>DIS</th>\n",
       "      <th>IBM</th>\n",
       "      <th>KO</th>\n",
       "      <th>MSFT</th>\n",
       "      <th>AAPL</th>\n",
       "      <th>BA</th>\n",
       "      <th>DIS</th>\n",
       "      <th>IBM</th>\n",
       "      <th>...</th>\n",
       "      <th>DIS</th>\n",
       "      <th>IBM</th>\n",
       "      <th>KO</th>\n",
       "      <th>MSFT</th>\n",
       "      <th>AAPL</th>\n",
       "      <th>BA</th>\n",
       "      <th>DIS</th>\n",
       "      <th>IBM</th>\n",
       "      <th>KO</th>\n",
       "      <th>MSFT</th>\n",
       "    </tr>\n",
       "    <tr>\n",
       "      <th>Date</th>\n",
       "      <th></th>\n",
       "      <th></th>\n",
       "      <th></th>\n",
       "      <th></th>\n",
       "      <th></th>\n",
       "      <th></th>\n",
       "      <th></th>\n",
       "      <th></th>\n",
       "      <th></th>\n",
       "      <th></th>\n",
       "      <th></th>\n",
       "      <th></th>\n",
       "      <th></th>\n",
       "      <th></th>\n",
       "      <th></th>\n",
       "      <th></th>\n",
       "      <th></th>\n",
       "      <th></th>\n",
       "      <th></th>\n",
       "      <th></th>\n",
       "      <th></th>\n",
       "    </tr>\n",
       "  </thead>\n",
       "  <tbody>\n",
       "    <tr>\n",
       "      <th>2009-12-31</th>\n",
       "      <td>6.415359</td>\n",
       "      <td>42.180111</td>\n",
       "      <td>28.090704</td>\n",
       "      <td>80.363129</td>\n",
       "      <td>19.203474</td>\n",
       "      <td>23.323427</td>\n",
       "      <td>7.526071</td>\n",
       "      <td>54.130001</td>\n",
       "      <td>32.25</td>\n",
       "      <td>125.143402</td>\n",
       "      <td>...</td>\n",
       "      <td>32.27</td>\n",
       "      <td>126.586998</td>\n",
       "      <td>28.790001</td>\n",
       "      <td>30.980000</td>\n",
       "      <td>352410800</td>\n",
       "      <td>2189400</td>\n",
       "      <td>19651700</td>\n",
       "      <td>4417676</td>\n",
       "      <td>10848800</td>\n",
       "      <td>31929700</td>\n",
       "    </tr>\n",
       "    <tr>\n",
       "      <th>2010-01-04</th>\n",
       "      <td>6.515212</td>\n",
       "      <td>43.777550</td>\n",
       "      <td>27.933920</td>\n",
       "      <td>81.314713</td>\n",
       "      <td>19.216942</td>\n",
       "      <td>23.683073</td>\n",
       "      <td>7.643214</td>\n",
       "      <td>56.180000</td>\n",
       "      <td>32.07</td>\n",
       "      <td>126.625237</td>\n",
       "      <td>...</td>\n",
       "      <td>32.50</td>\n",
       "      <td>125.411087</td>\n",
       "      <td>28.580000</td>\n",
       "      <td>30.620001</td>\n",
       "      <td>493729600</td>\n",
       "      <td>6186700</td>\n",
       "      <td>13700400</td>\n",
       "      <td>6438444</td>\n",
       "      <td>13870400</td>\n",
       "      <td>38409100</td>\n",
       "    </tr>\n",
       "    <tr>\n",
       "      <th>2010-01-05</th>\n",
       "      <td>6.526477</td>\n",
       "      <td>45.211346</td>\n",
       "      <td>27.864237</td>\n",
       "      <td>80.332443</td>\n",
       "      <td>18.984484</td>\n",
       "      <td>23.690720</td>\n",
       "      <td>7.656429</td>\n",
       "      <td>58.020000</td>\n",
       "      <td>31.99</td>\n",
       "      <td>125.095604</td>\n",
       "      <td>...</td>\n",
       "      <td>32.07</td>\n",
       "      <td>125.889099</td>\n",
       "      <td>28.424999</td>\n",
       "      <td>30.850000</td>\n",
       "      <td>601904800</td>\n",
       "      <td>8867800</td>\n",
       "      <td>10307700</td>\n",
       "      <td>7156104</td>\n",
       "      <td>23172400</td>\n",
       "      <td>49749600</td>\n",
       "    </tr>\n",
       "    <tr>\n",
       "      <th>2010-01-06</th>\n",
       "      <td>6.422665</td>\n",
       "      <td>46.582802</td>\n",
       "      <td>27.716166</td>\n",
       "      <td>79.810631</td>\n",
       "      <td>18.977745</td>\n",
       "      <td>23.545340</td>\n",
       "      <td>7.534643</td>\n",
       "      <td>59.779999</td>\n",
       "      <td>31.82</td>\n",
       "      <td>124.282982</td>\n",
       "      <td>...</td>\n",
       "      <td>31.90</td>\n",
       "      <td>124.933075</td>\n",
       "      <td>28.174999</td>\n",
       "      <td>30.879999</td>\n",
       "      <td>552160000</td>\n",
       "      <td>8836500</td>\n",
       "      <td>10709500</td>\n",
       "      <td>5863144</td>\n",
       "      <td>19264600</td>\n",
       "      <td>58182400</td>\n",
       "    </tr>\n",
       "    <tr>\n",
       "      <th>2010-01-07</th>\n",
       "      <td>6.410792</td>\n",
       "      <td>48.468559</td>\n",
       "      <td>27.724874</td>\n",
       "      <td>79.534340</td>\n",
       "      <td>18.930574</td>\n",
       "      <td>23.300468</td>\n",
       "      <td>7.520714</td>\n",
       "      <td>62.200001</td>\n",
       "      <td>31.83</td>\n",
       "      <td>123.852776</td>\n",
       "      <td>...</td>\n",
       "      <td>31.77</td>\n",
       "      <td>124.158699</td>\n",
       "      <td>28.165001</td>\n",
       "      <td>30.629999</td>\n",
       "      <td>477131200</td>\n",
       "      <td>14379100</td>\n",
       "      <td>8202100</td>\n",
       "      <td>6109268</td>\n",
       "      <td>13234600</td>\n",
       "      <td>50559700</td>\n",
       "    </tr>\n",
       "  </tbody>\n",
       "</table>\n",
       "<p>5 rows × 36 columns</p>\n",
       "</div>"
      ],
      "text/plain": [
       "           Adj Close                                                         \\\n",
       "                AAPL         BA        DIS        IBM         KO       MSFT   \n",
       "Date                                                                          \n",
       "2009-12-31  6.415359  42.180111  28.090704  80.363129  19.203474  23.323427   \n",
       "2010-01-04  6.515212  43.777550  27.933920  81.314713  19.216942  23.683073   \n",
       "2010-01-05  6.526477  45.211346  27.864237  80.332443  18.984484  23.690720   \n",
       "2010-01-06  6.422665  46.582802  27.716166  79.810631  18.977745  23.545340   \n",
       "2010-01-07  6.410792  48.468559  27.724874  79.534340  18.930574  23.300468   \n",
       "\n",
       "               Close                                ...   Open              \\\n",
       "                AAPL         BA    DIS         IBM  ...    DIS         IBM   \n",
       "Date                                                ...                      \n",
       "2009-12-31  7.526071  54.130001  32.25  125.143402  ...  32.27  126.586998   \n",
       "2010-01-04  7.643214  56.180000  32.07  126.625237  ...  32.50  125.411087   \n",
       "2010-01-05  7.656429  58.020000  31.99  125.095604  ...  32.07  125.889099   \n",
       "2010-01-06  7.534643  59.779999  31.82  124.282982  ...  31.90  124.933075   \n",
       "2010-01-07  7.520714  62.200001  31.83  123.852776  ...  31.77  124.158699   \n",
       "\n",
       "                                     Volume                               \\\n",
       "                   KO       MSFT       AAPL        BA       DIS      IBM   \n",
       "Date                                                                       \n",
       "2009-12-31  28.790001  30.980000  352410800   2189400  19651700  4417676   \n",
       "2010-01-04  28.580000  30.620001  493729600   6186700  13700400  6438444   \n",
       "2010-01-05  28.424999  30.850000  601904800   8867800  10307700  7156104   \n",
       "2010-01-06  28.174999  30.879999  552160000   8836500  10709500  5863144   \n",
       "2010-01-07  28.165001  30.629999  477131200  14379100   8202100  6109268   \n",
       "\n",
       "                                \n",
       "                  KO      MSFT  \n",
       "Date                            \n",
       "2009-12-31  10848800  31929700  \n",
       "2010-01-04  13870400  38409100  \n",
       "2010-01-05  23172400  49749600  \n",
       "2010-01-06  19264600  58182400  \n",
       "2010-01-07  13234600  50559700  \n",
       "\n",
       "[5 rows x 36 columns]"
      ]
     },
     "execution_count": 67,
     "metadata": {},
     "output_type": "execute_result"
    }
   ],
   "source": [
    "stocks = pd.read_csv(\"data/stocks.csv\", header=[0,1], index_col=[0], parse_dates=[0])\n",
    "stocks.head()"
   ]
  },
  {
   "cell_type": "code",
   "execution_count": 68,
   "id": "d5186e40",
   "metadata": {},
   "outputs": [
    {
     "name": "stdout",
     "output_type": "stream",
     "text": [
      "<class 'pandas.core.frame.DataFrame'>\n",
      "DatetimeIndex: 2289 entries, 2009-12-31 to 2019-02-05\n",
      "Data columns (total 36 columns):\n",
      " #   Column             Non-Null Count  Dtype  \n",
      "---  ------             --------------  -----  \n",
      " 0   (Adj Close, AAPL)  2289 non-null   float64\n",
      " 1   (Adj Close, BA)    2289 non-null   float64\n",
      " 2   (Adj Close, DIS)   2289 non-null   float64\n",
      " 3   (Adj Close, IBM)   2289 non-null   float64\n",
      " 4   (Adj Close, KO)    2289 non-null   float64\n",
      " 5   (Adj Close, MSFT)  2289 non-null   float64\n",
      " 6   (Close, AAPL)      2289 non-null   float64\n",
      " 7   (Close, BA)        2289 non-null   float64\n",
      " 8   (Close, DIS)       2289 non-null   float64\n",
      " 9   (Close, IBM)       2289 non-null   float64\n",
      " 10  (Close, KO)        2289 non-null   float64\n",
      " 11  (Close, MSFT)      2289 non-null   float64\n",
      " 12  (High, AAPL)       2289 non-null   float64\n",
      " 13  (High, BA)         2289 non-null   float64\n",
      " 14  (High, DIS)        2289 non-null   float64\n",
      " 15  (High, IBM)        2289 non-null   float64\n",
      " 16  (High, KO)         2289 non-null   float64\n",
      " 17  (High, MSFT)       2289 non-null   float64\n",
      " 18  (Low, AAPL)        2289 non-null   float64\n",
      " 19  (Low, BA)          2289 non-null   float64\n",
      " 20  (Low, DIS)         2289 non-null   float64\n",
      " 21  (Low, IBM)         2289 non-null   float64\n",
      " 22  (Low, KO)          2289 non-null   float64\n",
      " 23  (Low, MSFT)        2289 non-null   float64\n",
      " 24  (Open, AAPL)       2289 non-null   float64\n",
      " 25  (Open, BA)         2289 non-null   float64\n",
      " 26  (Open, DIS)        2289 non-null   float64\n",
      " 27  (Open, IBM)        2289 non-null   float64\n",
      " 28  (Open, KO)         2289 non-null   float64\n",
      " 29  (Open, MSFT)       2289 non-null   float64\n",
      " 30  (Volume, AAPL)     2289 non-null   int64  \n",
      " 31  (Volume, BA)       2289 non-null   int64  \n",
      " 32  (Volume, DIS)      2289 non-null   int64  \n",
      " 33  (Volume, IBM)      2289 non-null   int64  \n",
      " 34  (Volume, KO)       2289 non-null   int64  \n",
      " 35  (Volume, MSFT)     2289 non-null   int64  \n",
      "dtypes: float64(30), int64(6)\n",
      "memory usage: 661.7 KB\n"
     ]
    }
   ],
   "source": [
    "stocks.info()"
   ]
  },
  {
   "cell_type": "code",
   "execution_count": 69,
   "id": "d1ab1c64",
   "metadata": {},
   "outputs": [],
   "source": [
    "close = stocks.loc[:,\"Close\"].copy()"
   ]
  },
  {
   "cell_type": "code",
   "execution_count": 70,
   "id": "bc27579b",
   "metadata": {},
   "outputs": [
    {
     "data": {
      "text/html": [
       "<div>\n",
       "<style scoped>\n",
       "    .dataframe tbody tr th:only-of-type {\n",
       "        vertical-align: middle;\n",
       "    }\n",
       "\n",
       "    .dataframe tbody tr th {\n",
       "        vertical-align: top;\n",
       "    }\n",
       "\n",
       "    .dataframe thead th {\n",
       "        text-align: right;\n",
       "    }\n",
       "</style>\n",
       "<table border=\"1\" class=\"dataframe\">\n",
       "  <thead>\n",
       "    <tr style=\"text-align: right;\">\n",
       "      <th></th>\n",
       "      <th>AAPL</th>\n",
       "      <th>BA</th>\n",
       "      <th>DIS</th>\n",
       "      <th>IBM</th>\n",
       "      <th>KO</th>\n",
       "      <th>MSFT</th>\n",
       "    </tr>\n",
       "    <tr>\n",
       "      <th>Date</th>\n",
       "      <th></th>\n",
       "      <th></th>\n",
       "      <th></th>\n",
       "      <th></th>\n",
       "      <th></th>\n",
       "      <th></th>\n",
       "    </tr>\n",
       "  </thead>\n",
       "  <tbody>\n",
       "    <tr>\n",
       "      <th>2009-12-31</th>\n",
       "      <td>7.526071</td>\n",
       "      <td>54.130001</td>\n",
       "      <td>32.25</td>\n",
       "      <td>125.143402</td>\n",
       "      <td>28.500000</td>\n",
       "      <td>30.480000</td>\n",
       "    </tr>\n",
       "    <tr>\n",
       "      <th>2010-01-04</th>\n",
       "      <td>7.643214</td>\n",
       "      <td>56.180000</td>\n",
       "      <td>32.07</td>\n",
       "      <td>126.625237</td>\n",
       "      <td>28.520000</td>\n",
       "      <td>30.950001</td>\n",
       "    </tr>\n",
       "    <tr>\n",
       "      <th>2010-01-05</th>\n",
       "      <td>7.656429</td>\n",
       "      <td>58.020000</td>\n",
       "      <td>31.99</td>\n",
       "      <td>125.095604</td>\n",
       "      <td>28.174999</td>\n",
       "      <td>30.959999</td>\n",
       "    </tr>\n",
       "    <tr>\n",
       "      <th>2010-01-06</th>\n",
       "      <td>7.534643</td>\n",
       "      <td>59.779999</td>\n",
       "      <td>31.82</td>\n",
       "      <td>124.282982</td>\n",
       "      <td>28.165001</td>\n",
       "      <td>30.770000</td>\n",
       "    </tr>\n",
       "    <tr>\n",
       "      <th>2010-01-07</th>\n",
       "      <td>7.520714</td>\n",
       "      <td>62.200001</td>\n",
       "      <td>31.83</td>\n",
       "      <td>123.852776</td>\n",
       "      <td>28.094999</td>\n",
       "      <td>30.450001</td>\n",
       "    </tr>\n",
       "  </tbody>\n",
       "</table>\n",
       "</div>"
      ],
      "text/plain": [
       "                AAPL         BA    DIS         IBM         KO       MSFT\n",
       "Date                                                                    \n",
       "2009-12-31  7.526071  54.130001  32.25  125.143402  28.500000  30.480000\n",
       "2010-01-04  7.643214  56.180000  32.07  126.625237  28.520000  30.950001\n",
       "2010-01-05  7.656429  58.020000  31.99  125.095604  28.174999  30.959999\n",
       "2010-01-06  7.534643  59.779999  31.82  124.282982  28.165001  30.770000\n",
       "2010-01-07  7.520714  62.200001  31.83  123.852776  28.094999  30.450001"
      ]
     },
     "execution_count": 70,
     "metadata": {},
     "output_type": "execute_result"
    }
   ],
   "source": [
    "close.head()"
   ]
  },
  {
   "cell_type": "code",
   "execution_count": 71,
   "id": "f7eafb73",
   "metadata": {},
   "outputs": [
    {
     "name": "stderr",
     "output_type": "stream",
     "text": [
      "/var/folders/v1/8d8xn8d954g4r5ckr7569kdh0000gn/T/ipykernel_67781/1490283864.py:1: MatplotlibDeprecationWarning: The seaborn styles shipped by Matplotlib are deprecated since 3.6, as they no longer correspond to the styles shipped by seaborn. However, they will remain available as 'seaborn-v0_8-<style>'. Alternatively, directly use the seaborn API instead.\n",
      "  plt.style.use(\"seaborn\")\n"
     ]
    }
   ],
   "source": [
    "plt.style.use(\"seaborn\")"
   ]
  },
  {
   "cell_type": "code",
   "execution_count": 72,
   "id": "660535cf",
   "metadata": {},
   "outputs": [
    {
     "data": {
      "image/png": "[encoded data removed]",
      "text/plain": [
       "<Figure size 1500x800 with 1 Axes>"
      ]
     },
     "metadata": {},
     "output_type": "display_data"
    }
   ],
   "source": [
    "close.plot(figsize = (15,8), fontsize=13)\n",
    "plt.legend(fontsize=15)\n",
    "plt.show()"
   ]
  },
  {
   "cell_type": "markdown",
   "id": "6fa3bc85",
   "metadata": {},
   "source": [
    "## Normalizing Time Series to a Base Value"
   ]
  },
  {
   "cell_type": "code",
   "execution_count": 73,
   "id": "b838db88",
   "metadata": {},
   "outputs": [
    {
     "data": {
      "text/html": [
       "<div>\n",
       "<style scoped>\n",
       "    .dataframe tbody tr th:only-of-type {\n",
       "        vertical-align: middle;\n",
       "    }\n",
       "\n",
       "    .dataframe tbody tr th {\n",
       "        vertical-align: top;\n",
       "    }\n",
       "\n",
       "    .dataframe thead th {\n",
       "        text-align: right;\n",
       "    }\n",
       "</style>\n",
       "<table border=\"1\" class=\"dataframe\">\n",
       "  <thead>\n",
       "    <tr style=\"text-align: right;\">\n",
       "      <th></th>\n",
       "      <th>AAPL</th>\n",
       "      <th>BA</th>\n",
       "      <th>DIS</th>\n",
       "      <th>IBM</th>\n",
       "      <th>KO</th>\n",
       "      <th>MSFT</th>\n",
       "    </tr>\n",
       "    <tr>\n",
       "      <th>Date</th>\n",
       "      <th></th>\n",
       "      <th></th>\n",
       "      <th></th>\n",
       "      <th></th>\n",
       "      <th></th>\n",
       "      <th></th>\n",
       "    </tr>\n",
       "  </thead>\n",
       "  <tbody>\n",
       "    <tr>\n",
       "      <th>2009-12-31</th>\n",
       "      <td>7.526071</td>\n",
       "      <td>54.130001</td>\n",
       "      <td>32.25</td>\n",
       "      <td>125.143402</td>\n",
       "      <td>28.500000</td>\n",
       "      <td>30.480000</td>\n",
       "    </tr>\n",
       "    <tr>\n",
       "      <th>2010-01-04</th>\n",
       "      <td>7.643214</td>\n",
       "      <td>56.180000</td>\n",
       "      <td>32.07</td>\n",
       "      <td>126.625237</td>\n",
       "      <td>28.520000</td>\n",
       "      <td>30.950001</td>\n",
       "    </tr>\n",
       "    <tr>\n",
       "      <th>2010-01-05</th>\n",
       "      <td>7.656429</td>\n",
       "      <td>58.020000</td>\n",
       "      <td>31.99</td>\n",
       "      <td>125.095604</td>\n",
       "      <td>28.174999</td>\n",
       "      <td>30.959999</td>\n",
       "    </tr>\n",
       "    <tr>\n",
       "      <th>2010-01-06</th>\n",
       "      <td>7.534643</td>\n",
       "      <td>59.779999</td>\n",
       "      <td>31.82</td>\n",
       "      <td>124.282982</td>\n",
       "      <td>28.165001</td>\n",
       "      <td>30.770000</td>\n",
       "    </tr>\n",
       "    <tr>\n",
       "      <th>2010-01-07</th>\n",
       "      <td>7.520714</td>\n",
       "      <td>62.200001</td>\n",
       "      <td>31.83</td>\n",
       "      <td>123.852776</td>\n",
       "      <td>28.094999</td>\n",
       "      <td>30.450001</td>\n",
       "    </tr>\n",
       "  </tbody>\n",
       "</table>\n",
       "</div>"
      ],
      "text/plain": [
       "                AAPL         BA    DIS         IBM         KO       MSFT\n",
       "Date                                                                    \n",
       "2009-12-31  7.526071  54.130001  32.25  125.143402  28.500000  30.480000\n",
       "2010-01-04  7.643214  56.180000  32.07  126.625237  28.520000  30.950001\n",
       "2010-01-05  7.656429  58.020000  31.99  125.095604  28.174999  30.959999\n",
       "2010-01-06  7.534643  59.779999  31.82  124.282982  28.165001  30.770000\n",
       "2010-01-07  7.520714  62.200001  31.83  123.852776  28.094999  30.450001"
      ]
     },
     "execution_count": 73,
     "metadata": {},
     "output_type": "execute_result"
    }
   ],
   "source": [
    "close.head()"
   ]
  },
  {
   "cell_type": "code",
   "execution_count": 74,
   "id": "dcda1067",
   "metadata": {},
   "outputs": [
    {
     "data": {
      "text/plain": [
       "7.526071071624756"
      ]
     },
     "execution_count": 74,
     "metadata": {},
     "output_type": "execute_result"
    }
   ],
   "source": [
    "close.iloc[0,0]"
   ]
  },
  {
   "cell_type": "code",
   "execution_count": 75,
   "id": "50300c3d",
   "metadata": {},
   "outputs": [
    {
     "data": {
      "text/plain": [
       "Date\n",
       "2009-12-31    100.000000\n",
       "2010-01-04    101.556498\n",
       "2010-01-05    101.732082\n",
       "2010-01-06    100.113899\n",
       "2010-01-07     99.928817\n",
       "                 ...    \n",
       "2019-01-30    548.925191\n",
       "2019-01-31    552.878125\n",
       "2019-02-01    553.143874\n",
       "2019-02-04    568.855909\n",
       "2019-02-05    578.588719\n",
       "Name: AAPL, Length: 2289, dtype: float64"
      ]
     },
     "execution_count": 75,
     "metadata": {},
     "output_type": "execute_result"
    }
   ],
   "source": [
    "close[\"AAPL\"].div(close.iloc[0,0]).mul(100)"
   ]
  },
  {
   "cell_type": "code",
   "execution_count": 76,
   "id": "762e3770",
   "metadata": {},
   "outputs": [
    {
     "data": {
      "text/html": [
       "<div>\n",
       "<style scoped>\n",
       "    .dataframe tbody tr th:only-of-type {\n",
       "        vertical-align: middle;\n",
       "    }\n",
       "\n",
       "    .dataframe tbody tr th {\n",
       "        vertical-align: top;\n",
       "    }\n",
       "\n",
       "    .dataframe thead th {\n",
       "        text-align: right;\n",
       "    }\n",
       "</style>\n",
       "<table border=\"1\" class=\"dataframe\">\n",
       "  <thead>\n",
       "    <tr style=\"text-align: right;\">\n",
       "      <th></th>\n",
       "      <th>AAPL</th>\n",
       "      <th>BA</th>\n",
       "      <th>DIS</th>\n",
       "      <th>IBM</th>\n",
       "      <th>KO</th>\n",
       "      <th>MSFT</th>\n",
       "    </tr>\n",
       "    <tr>\n",
       "      <th>Date</th>\n",
       "      <th></th>\n",
       "      <th></th>\n",
       "      <th></th>\n",
       "      <th></th>\n",
       "      <th></th>\n",
       "      <th></th>\n",
       "    </tr>\n",
       "  </thead>\n",
       "  <tbody>\n",
       "    <tr>\n",
       "      <th>2009-12-31</th>\n",
       "      <td>100.000000</td>\n",
       "      <td>100.000000</td>\n",
       "      <td>100.000000</td>\n",
       "      <td>100.000000</td>\n",
       "      <td>100.000000</td>\n",
       "      <td>100.000000</td>\n",
       "    </tr>\n",
       "    <tr>\n",
       "      <th>2010-01-04</th>\n",
       "      <td>101.556498</td>\n",
       "      <td>103.787178</td>\n",
       "      <td>99.441860</td>\n",
       "      <td>101.184109</td>\n",
       "      <td>100.070177</td>\n",
       "      <td>101.541999</td>\n",
       "    </tr>\n",
       "    <tr>\n",
       "      <th>2010-01-05</th>\n",
       "      <td>101.732082</td>\n",
       "      <td>107.186402</td>\n",
       "      <td>99.193798</td>\n",
       "      <td>99.961805</td>\n",
       "      <td>98.859646</td>\n",
       "      <td>101.574802</td>\n",
       "    </tr>\n",
       "    <tr>\n",
       "      <th>2010-01-06</th>\n",
       "      <td>100.113899</td>\n",
       "      <td>110.437830</td>\n",
       "      <td>98.666666</td>\n",
       "      <td>99.312453</td>\n",
       "      <td>98.824565</td>\n",
       "      <td>100.951447</td>\n",
       "    </tr>\n",
       "    <tr>\n",
       "      <th>2010-01-07</th>\n",
       "      <td>99.928817</td>\n",
       "      <td>114.908553</td>\n",
       "      <td>98.697674</td>\n",
       "      <td>98.968682</td>\n",
       "      <td>98.578945</td>\n",
       "      <td>99.901579</td>\n",
       "    </tr>\n",
       "  </tbody>\n",
       "</table>\n",
       "</div>"
      ],
      "text/plain": [
       "                  AAPL          BA         DIS         IBM          KO  \\\n",
       "Date                                                                     \n",
       "2009-12-31  100.000000  100.000000  100.000000  100.000000  100.000000   \n",
       "2010-01-04  101.556498  103.787178   99.441860  101.184109  100.070177   \n",
       "2010-01-05  101.732082  107.186402   99.193798   99.961805   98.859646   \n",
       "2010-01-06  100.113899  110.437830   98.666666   99.312453   98.824565   \n",
       "2010-01-07   99.928817  114.908553   98.697674   98.968682   98.578945   \n",
       "\n",
       "                  MSFT  \n",
       "Date                    \n",
       "2009-12-31  100.000000  \n",
       "2010-01-04  101.541999  \n",
       "2010-01-05  101.574802  \n",
       "2010-01-06  100.951447  \n",
       "2010-01-07   99.901579  "
      ]
     },
     "execution_count": 76,
     "metadata": {},
     "output_type": "execute_result"
    }
   ],
   "source": [
    "norm = close.div(close.iloc[0]).mul(100)\n",
    "norm.head()"
   ]
  },
  {
   "cell_type": "code",
   "execution_count": 77,
   "id": "a8a9636c",
   "metadata": {},
   "outputs": [
    {
     "data": {
      "text/plain": [
       "<matplotlib.legend.Legend at 0x7f9f084b7cd0>"
      ]
     },
     "execution_count": 77,
     "metadata": {},
     "output_type": "execute_result"
    },
    {
     "data": {
      "image/png": "[encoded data removed]",
      "text/plain": [
       "<Figure size 1000x700 with 1 Axes>"
      ]
     },
     "metadata": {},
     "output_type": "display_data"
    }
   ],
   "source": [
    "norm.plot(figsize=(10,7), fontsize=10)\n",
    "plt.legend(fontsize=10)"
   ]
  },
  {
   "cell_type": "markdown",
   "id": "4a37fe0e",
   "metadata": {},
   "source": [
    "## Shift method()"
   ]
  },
  {
   "cell_type": "code",
   "execution_count": 78,
   "id": "f87f8cb6",
   "metadata": {},
   "outputs": [
    {
     "data": {
      "text/html": [
       "<div>\n",
       "<style scoped>\n",
       "    .dataframe tbody tr th:only-of-type {\n",
       "        vertical-align: middle;\n",
       "    }\n",
       "\n",
       "    .dataframe tbody tr th {\n",
       "        vertical-align: top;\n",
       "    }\n",
       "\n",
       "    .dataframe thead th {\n",
       "        text-align: right;\n",
       "    }\n",
       "</style>\n",
       "<table border=\"1\" class=\"dataframe\">\n",
       "  <thead>\n",
       "    <tr style=\"text-align: right;\">\n",
       "      <th></th>\n",
       "      <th>AAPL</th>\n",
       "      <th>BA</th>\n",
       "      <th>DIS</th>\n",
       "      <th>IBM</th>\n",
       "      <th>KO</th>\n",
       "      <th>MSFT</th>\n",
       "    </tr>\n",
       "    <tr>\n",
       "      <th>Date</th>\n",
       "      <th></th>\n",
       "      <th></th>\n",
       "      <th></th>\n",
       "      <th></th>\n",
       "      <th></th>\n",
       "      <th></th>\n",
       "    </tr>\n",
       "  </thead>\n",
       "  <tbody>\n",
       "    <tr>\n",
       "      <th>2009-12-31</th>\n",
       "      <td>7.526071</td>\n",
       "      <td>54.130001</td>\n",
       "      <td>32.25</td>\n",
       "      <td>125.143402</td>\n",
       "      <td>28.500000</td>\n",
       "      <td>30.480000</td>\n",
       "    </tr>\n",
       "    <tr>\n",
       "      <th>2010-01-04</th>\n",
       "      <td>7.643214</td>\n",
       "      <td>56.180000</td>\n",
       "      <td>32.07</td>\n",
       "      <td>126.625237</td>\n",
       "      <td>28.520000</td>\n",
       "      <td>30.950001</td>\n",
       "    </tr>\n",
       "    <tr>\n",
       "      <th>2010-01-05</th>\n",
       "      <td>7.656429</td>\n",
       "      <td>58.020000</td>\n",
       "      <td>31.99</td>\n",
       "      <td>125.095604</td>\n",
       "      <td>28.174999</td>\n",
       "      <td>30.959999</td>\n",
       "    </tr>\n",
       "    <tr>\n",
       "      <th>2010-01-06</th>\n",
       "      <td>7.534643</td>\n",
       "      <td>59.779999</td>\n",
       "      <td>31.82</td>\n",
       "      <td>124.282982</td>\n",
       "      <td>28.165001</td>\n",
       "      <td>30.770000</td>\n",
       "    </tr>\n",
       "    <tr>\n",
       "      <th>2010-01-07</th>\n",
       "      <td>7.520714</td>\n",
       "      <td>62.200001</td>\n",
       "      <td>31.83</td>\n",
       "      <td>123.852776</td>\n",
       "      <td>28.094999</td>\n",
       "      <td>30.450001</td>\n",
       "    </tr>\n",
       "  </tbody>\n",
       "</table>\n",
       "</div>"
      ],
      "text/plain": [
       "                AAPL         BA    DIS         IBM         KO       MSFT\n",
       "Date                                                                    \n",
       "2009-12-31  7.526071  54.130001  32.25  125.143402  28.500000  30.480000\n",
       "2010-01-04  7.643214  56.180000  32.07  126.625237  28.520000  30.950001\n",
       "2010-01-05  7.656429  58.020000  31.99  125.095604  28.174999  30.959999\n",
       "2010-01-06  7.534643  59.779999  31.82  124.282982  28.165001  30.770000\n",
       "2010-01-07  7.520714  62.200001  31.83  123.852776  28.094999  30.450001"
      ]
     },
     "execution_count": 78,
     "metadata": {},
     "output_type": "execute_result"
    }
   ],
   "source": [
    "close.head()"
   ]
  },
  {
   "cell_type": "code",
   "execution_count": 79,
   "id": "5d3770ce",
   "metadata": {},
   "outputs": [],
   "source": [
    "aapl = close[\"AAPL\"].copy().to_frame()"
   ]
  },
  {
   "cell_type": "code",
   "execution_count": 80,
   "id": "b231daee",
   "metadata": {},
   "outputs": [
    {
     "data": {
      "text/html": [
       "<div>\n",
       "<style scoped>\n",
       "    .dataframe tbody tr th:only-of-type {\n",
       "        vertical-align: middle;\n",
       "    }\n",
       "\n",
       "    .dataframe tbody tr th {\n",
       "        vertical-align: top;\n",
       "    }\n",
       "\n",
       "    .dataframe thead th {\n",
       "        text-align: right;\n",
       "    }\n",
       "</style>\n",
       "<table border=\"1\" class=\"dataframe\">\n",
       "  <thead>\n",
       "    <tr style=\"text-align: right;\">\n",
       "      <th></th>\n",
       "      <th>AAPL</th>\n",
       "    </tr>\n",
       "    <tr>\n",
       "      <th>Date</th>\n",
       "      <th></th>\n",
       "    </tr>\n",
       "  </thead>\n",
       "  <tbody>\n",
       "    <tr>\n",
       "      <th>2009-12-31</th>\n",
       "      <td>7.526071</td>\n",
       "    </tr>\n",
       "    <tr>\n",
       "      <th>2010-01-04</th>\n",
       "      <td>7.643214</td>\n",
       "    </tr>\n",
       "    <tr>\n",
       "      <th>2010-01-05</th>\n",
       "      <td>7.656429</td>\n",
       "    </tr>\n",
       "    <tr>\n",
       "      <th>2010-01-06</th>\n",
       "      <td>7.534643</td>\n",
       "    </tr>\n",
       "    <tr>\n",
       "      <th>2010-01-07</th>\n",
       "      <td>7.520714</td>\n",
       "    </tr>\n",
       "  </tbody>\n",
       "</table>\n",
       "</div>"
      ],
      "text/plain": [
       "                AAPL\n",
       "Date                \n",
       "2009-12-31  7.526071\n",
       "2010-01-04  7.643214\n",
       "2010-01-05  7.656429\n",
       "2010-01-06  7.534643\n",
       "2010-01-07  7.520714"
      ]
     },
     "execution_count": 80,
     "metadata": {},
     "output_type": "execute_result"
    }
   ],
   "source": [
    "aapl.head()"
   ]
  },
  {
   "cell_type": "code",
   "execution_count": 81,
   "id": "0c0ba9d8",
   "metadata": {},
   "outputs": [],
   "source": [
    "aapl[\"lag1\"] = aapl.shift(periods=1)"
   ]
  },
  {
   "cell_type": "code",
   "execution_count": 82,
   "id": "a815ac46",
   "metadata": {},
   "outputs": [
    {
     "data": {
      "text/html": [
       "<div>\n",
       "<style scoped>\n",
       "    .dataframe tbody tr th:only-of-type {\n",
       "        vertical-align: middle;\n",
       "    }\n",
       "\n",
       "    .dataframe tbody tr th {\n",
       "        vertical-align: top;\n",
       "    }\n",
       "\n",
       "    .dataframe thead th {\n",
       "        text-align: right;\n",
       "    }\n",
       "</style>\n",
       "<table border=\"1\" class=\"dataframe\">\n",
       "  <thead>\n",
       "    <tr style=\"text-align: right;\">\n",
       "      <th></th>\n",
       "      <th>AAPL</th>\n",
       "      <th>lag1</th>\n",
       "    </tr>\n",
       "    <tr>\n",
       "      <th>Date</th>\n",
       "      <th></th>\n",
       "      <th></th>\n",
       "    </tr>\n",
       "  </thead>\n",
       "  <tbody>\n",
       "    <tr>\n",
       "      <th>2009-12-31</th>\n",
       "      <td>7.526071</td>\n",
       "      <td>NaN</td>\n",
       "    </tr>\n",
       "    <tr>\n",
       "      <th>2010-01-04</th>\n",
       "      <td>7.643214</td>\n",
       "      <td>7.526071</td>\n",
       "    </tr>\n",
       "    <tr>\n",
       "      <th>2010-01-05</th>\n",
       "      <td>7.656429</td>\n",
       "      <td>7.643214</td>\n",
       "    </tr>\n",
       "    <tr>\n",
       "      <th>2010-01-06</th>\n",
       "      <td>7.534643</td>\n",
       "      <td>7.656429</td>\n",
       "    </tr>\n",
       "    <tr>\n",
       "      <th>2010-01-07</th>\n",
       "      <td>7.520714</td>\n",
       "      <td>7.534643</td>\n",
       "    </tr>\n",
       "  </tbody>\n",
       "</table>\n",
       "</div>"
      ],
      "text/plain": [
       "                AAPL      lag1\n",
       "Date                          \n",
       "2009-12-31  7.526071       NaN\n",
       "2010-01-04  7.643214  7.526071\n",
       "2010-01-05  7.656429  7.643214\n",
       "2010-01-06  7.534643  7.656429\n",
       "2010-01-07  7.520714  7.534643"
      ]
     },
     "execution_count": 82,
     "metadata": {},
     "output_type": "execute_result"
    }
   ],
   "source": [
    "aapl.head()"
   ]
  },
  {
   "cell_type": "code",
   "execution_count": 83,
   "id": "60d502d1",
   "metadata": {},
   "outputs": [],
   "source": [
    "aapl[\"diff\"] = aapl[\"AAPL\"].sub(aapl[\"lag1\"])"
   ]
  },
  {
   "cell_type": "code",
   "execution_count": 84,
   "id": "a292c48a",
   "metadata": {},
   "outputs": [
    {
     "data": {
      "text/html": [
       "<div>\n",
       "<style scoped>\n",
       "    .dataframe tbody tr th:only-of-type {\n",
       "        vertical-align: middle;\n",
       "    }\n",
       "\n",
       "    .dataframe tbody tr th {\n",
       "        vertical-align: top;\n",
       "    }\n",
       "\n",
       "    .dataframe thead th {\n",
       "        text-align: right;\n",
       "    }\n",
       "</style>\n",
       "<table border=\"1\" class=\"dataframe\">\n",
       "  <thead>\n",
       "    <tr style=\"text-align: right;\">\n",
       "      <th></th>\n",
       "      <th>AAPL</th>\n",
       "      <th>lag1</th>\n",
       "      <th>diff</th>\n",
       "    </tr>\n",
       "    <tr>\n",
       "      <th>Date</th>\n",
       "      <th></th>\n",
       "      <th></th>\n",
       "      <th></th>\n",
       "    </tr>\n",
       "  </thead>\n",
       "  <tbody>\n",
       "    <tr>\n",
       "      <th>2009-12-31</th>\n",
       "      <td>7.526071</td>\n",
       "      <td>NaN</td>\n",
       "      <td>NaN</td>\n",
       "    </tr>\n",
       "    <tr>\n",
       "      <th>2010-01-04</th>\n",
       "      <td>7.643214</td>\n",
       "      <td>7.526071</td>\n",
       "      <td>0.117143</td>\n",
       "    </tr>\n",
       "    <tr>\n",
       "      <th>2010-01-05</th>\n",
       "      <td>7.656429</td>\n",
       "      <td>7.643214</td>\n",
       "      <td>0.013215</td>\n",
       "    </tr>\n",
       "    <tr>\n",
       "      <th>2010-01-06</th>\n",
       "      <td>7.534643</td>\n",
       "      <td>7.656429</td>\n",
       "      <td>-0.121786</td>\n",
       "    </tr>\n",
       "    <tr>\n",
       "      <th>2010-01-07</th>\n",
       "      <td>7.520714</td>\n",
       "      <td>7.534643</td>\n",
       "      <td>-0.013929</td>\n",
       "    </tr>\n",
       "  </tbody>\n",
       "</table>\n",
       "</div>"
      ],
      "text/plain": [
       "                AAPL      lag1      diff\n",
       "Date                                    \n",
       "2009-12-31  7.526071       NaN       NaN\n",
       "2010-01-04  7.643214  7.526071  0.117143\n",
       "2010-01-05  7.656429  7.643214  0.013215\n",
       "2010-01-06  7.534643  7.656429 -0.121786\n",
       "2010-01-07  7.520714  7.534643 -0.013929"
      ]
     },
     "execution_count": 84,
     "metadata": {},
     "output_type": "execute_result"
    }
   ],
   "source": [
    "aapl.head()"
   ]
  },
  {
   "cell_type": "code",
   "execution_count": 85,
   "id": "dcc90995",
   "metadata": {},
   "outputs": [],
   "source": [
    "aapl[\"pct_change\"] = aapl[\"AAPL\"].div(aapl[\"lag1\"]).sub(1).mul(100)"
   ]
  },
  {
   "cell_type": "code",
   "execution_count": 86,
   "id": "54fa3851",
   "metadata": {},
   "outputs": [
    {
     "data": {
      "text/html": [
       "<div>\n",
       "<style scoped>\n",
       "    .dataframe tbody tr th:only-of-type {\n",
       "        vertical-align: middle;\n",
       "    }\n",
       "\n",
       "    .dataframe tbody tr th {\n",
       "        vertical-align: top;\n",
       "    }\n",
       "\n",
       "    .dataframe thead th {\n",
       "        text-align: right;\n",
       "    }\n",
       "</style>\n",
       "<table border=\"1\" class=\"dataframe\">\n",
       "  <thead>\n",
       "    <tr style=\"text-align: right;\">\n",
       "      <th></th>\n",
       "      <th>AAPL</th>\n",
       "      <th>lag1</th>\n",
       "      <th>diff</th>\n",
       "      <th>pct_change</th>\n",
       "    </tr>\n",
       "    <tr>\n",
       "      <th>Date</th>\n",
       "      <th></th>\n",
       "      <th></th>\n",
       "      <th></th>\n",
       "      <th></th>\n",
       "    </tr>\n",
       "  </thead>\n",
       "  <tbody>\n",
       "    <tr>\n",
       "      <th>2009-12-31</th>\n",
       "      <td>7.526071</td>\n",
       "      <td>NaN</td>\n",
       "      <td>NaN</td>\n",
       "      <td>NaN</td>\n",
       "    </tr>\n",
       "    <tr>\n",
       "      <th>2010-01-04</th>\n",
       "      <td>7.643214</td>\n",
       "      <td>7.526071</td>\n",
       "      <td>0.117143</td>\n",
       "      <td>1.556498</td>\n",
       "    </tr>\n",
       "    <tr>\n",
       "      <th>2010-01-05</th>\n",
       "      <td>7.656429</td>\n",
       "      <td>7.643214</td>\n",
       "      <td>0.013215</td>\n",
       "      <td>0.172893</td>\n",
       "    </tr>\n",
       "    <tr>\n",
       "      <th>2010-01-06</th>\n",
       "      <td>7.534643</td>\n",
       "      <td>7.656429</td>\n",
       "      <td>-0.121786</td>\n",
       "      <td>-1.590632</td>\n",
       "    </tr>\n",
       "    <tr>\n",
       "      <th>2010-01-07</th>\n",
       "      <td>7.520714</td>\n",
       "      <td>7.534643</td>\n",
       "      <td>-0.013929</td>\n",
       "      <td>-0.184871</td>\n",
       "    </tr>\n",
       "  </tbody>\n",
       "</table>\n",
       "</div>"
      ],
      "text/plain": [
       "                AAPL      lag1      diff  pct_change\n",
       "Date                                                \n",
       "2009-12-31  7.526071       NaN       NaN         NaN\n",
       "2010-01-04  7.643214  7.526071  0.117143    1.556498\n",
       "2010-01-05  7.656429  7.643214  0.013215    0.172893\n",
       "2010-01-06  7.534643  7.656429 -0.121786   -1.590632\n",
       "2010-01-07  7.520714  7.534643 -0.013929   -0.184871"
      ]
     },
     "execution_count": 86,
     "metadata": {},
     "output_type": "execute_result"
    }
   ],
   "source": [
    "aapl.head()"
   ]
  },
  {
   "cell_type": "markdown",
   "id": "e21776fb",
   "metadata": {},
   "source": [
    "## Methods diff() and pct_change()"
   ]
  },
  {
   "cell_type": "code",
   "execution_count": 87,
   "id": "28218c9b",
   "metadata": {},
   "outputs": [
    {
     "data": {
      "text/html": [
       "<div>\n",
       "<style scoped>\n",
       "    .dataframe tbody tr th:only-of-type {\n",
       "        vertical-align: middle;\n",
       "    }\n",
       "\n",
       "    .dataframe tbody tr th {\n",
       "        vertical-align: top;\n",
       "    }\n",
       "\n",
       "    .dataframe thead th {\n",
       "        text-align: right;\n",
       "    }\n",
       "</style>\n",
       "<table border=\"1\" class=\"dataframe\">\n",
       "  <thead>\n",
       "    <tr style=\"text-align: right;\">\n",
       "      <th></th>\n",
       "      <th>AAPL</th>\n",
       "      <th>lag1</th>\n",
       "      <th>diff</th>\n",
       "      <th>pct_change</th>\n",
       "    </tr>\n",
       "    <tr>\n",
       "      <th>Date</th>\n",
       "      <th></th>\n",
       "      <th></th>\n",
       "      <th></th>\n",
       "      <th></th>\n",
       "    </tr>\n",
       "  </thead>\n",
       "  <tbody>\n",
       "    <tr>\n",
       "      <th>2009-12-31</th>\n",
       "      <td>7.526071</td>\n",
       "      <td>NaN</td>\n",
       "      <td>NaN</td>\n",
       "      <td>NaN</td>\n",
       "    </tr>\n",
       "    <tr>\n",
       "      <th>2010-01-04</th>\n",
       "      <td>7.643214</td>\n",
       "      <td>7.526071</td>\n",
       "      <td>0.117143</td>\n",
       "      <td>1.556498</td>\n",
       "    </tr>\n",
       "    <tr>\n",
       "      <th>2010-01-05</th>\n",
       "      <td>7.656429</td>\n",
       "      <td>7.643214</td>\n",
       "      <td>0.013215</td>\n",
       "      <td>0.172893</td>\n",
       "    </tr>\n",
       "    <tr>\n",
       "      <th>2010-01-06</th>\n",
       "      <td>7.534643</td>\n",
       "      <td>7.656429</td>\n",
       "      <td>-0.121786</td>\n",
       "      <td>-1.590632</td>\n",
       "    </tr>\n",
       "    <tr>\n",
       "      <th>2010-01-07</th>\n",
       "      <td>7.520714</td>\n",
       "      <td>7.534643</td>\n",
       "      <td>-0.013929</td>\n",
       "      <td>-0.184871</td>\n",
       "    </tr>\n",
       "  </tbody>\n",
       "</table>\n",
       "</div>"
      ],
      "text/plain": [
       "                AAPL      lag1      diff  pct_change\n",
       "Date                                                \n",
       "2009-12-31  7.526071       NaN       NaN         NaN\n",
       "2010-01-04  7.643214  7.526071  0.117143    1.556498\n",
       "2010-01-05  7.656429  7.643214  0.013215    0.172893\n",
       "2010-01-06  7.534643  7.656429 -0.121786   -1.590632\n",
       "2010-01-07  7.520714  7.534643 -0.013929   -0.184871"
      ]
     },
     "execution_count": 87,
     "metadata": {},
     "output_type": "execute_result"
    }
   ],
   "source": [
    "aapl.head()"
   ]
  },
  {
   "cell_type": "code",
   "execution_count": 88,
   "id": "8de8bb3f",
   "metadata": {},
   "outputs": [
    {
     "data": {
      "text/plain": [
       "Date\n",
       "2009-12-31         NaN\n",
       "2010-01-04    0.117143\n",
       "2010-01-05    0.013215\n",
       "2010-01-06   -0.121786\n",
       "2010-01-07   -0.013929\n",
       "                ...   \n",
       "2019-01-30    2.642502\n",
       "2019-01-31    0.297501\n",
       "2019-02-01    0.020000\n",
       "2019-02-04    1.182499\n",
       "2019-02-05    0.732498\n",
       "Name: AAPL, Length: 2289, dtype: float64"
      ]
     },
     "execution_count": 88,
     "metadata": {},
     "output_type": "execute_result"
    }
   ],
   "source": [
    "aapl[\"AAPL\"].diff(periods=1)"
   ]
  },
  {
   "cell_type": "code",
   "execution_count": 89,
   "id": "fd8de949",
   "metadata": {},
   "outputs": [],
   "source": [
    "aapl[\"diff2\"] = aapl[\"AAPL\"].diff(periods=1)"
   ]
  },
  {
   "cell_type": "code",
   "execution_count": 90,
   "id": "3c471720",
   "metadata": {},
   "outputs": [
    {
     "data": {
      "text/html": [
       "<div>\n",
       "<style scoped>\n",
       "    .dataframe tbody tr th:only-of-type {\n",
       "        vertical-align: middle;\n",
       "    }\n",
       "\n",
       "    .dataframe tbody tr th {\n",
       "        vertical-align: top;\n",
       "    }\n",
       "\n",
       "    .dataframe thead th {\n",
       "        text-align: right;\n",
       "    }\n",
       "</style>\n",
       "<table border=\"1\" class=\"dataframe\">\n",
       "  <thead>\n",
       "    <tr style=\"text-align: right;\">\n",
       "      <th></th>\n",
       "      <th>AAPL</th>\n",
       "      <th>lag1</th>\n",
       "      <th>diff</th>\n",
       "      <th>pct_change</th>\n",
       "      <th>diff2</th>\n",
       "    </tr>\n",
       "    <tr>\n",
       "      <th>Date</th>\n",
       "      <th></th>\n",
       "      <th></th>\n",
       "      <th></th>\n",
       "      <th></th>\n",
       "      <th></th>\n",
       "    </tr>\n",
       "  </thead>\n",
       "  <tbody>\n",
       "    <tr>\n",
       "      <th>2009-12-31</th>\n",
       "      <td>7.526071</td>\n",
       "      <td>NaN</td>\n",
       "      <td>NaN</td>\n",
       "      <td>NaN</td>\n",
       "      <td>NaN</td>\n",
       "    </tr>\n",
       "    <tr>\n",
       "      <th>2010-01-04</th>\n",
       "      <td>7.643214</td>\n",
       "      <td>7.526071</td>\n",
       "      <td>0.117143</td>\n",
       "      <td>1.556498</td>\n",
       "      <td>0.117143</td>\n",
       "    </tr>\n",
       "    <tr>\n",
       "      <th>2010-01-05</th>\n",
       "      <td>7.656429</td>\n",
       "      <td>7.643214</td>\n",
       "      <td>0.013215</td>\n",
       "      <td>0.172893</td>\n",
       "      <td>0.013215</td>\n",
       "    </tr>\n",
       "    <tr>\n",
       "      <th>2010-01-06</th>\n",
       "      <td>7.534643</td>\n",
       "      <td>7.656429</td>\n",
       "      <td>-0.121786</td>\n",
       "      <td>-1.590632</td>\n",
       "      <td>-0.121786</td>\n",
       "    </tr>\n",
       "    <tr>\n",
       "      <th>2010-01-07</th>\n",
       "      <td>7.520714</td>\n",
       "      <td>7.534643</td>\n",
       "      <td>-0.013929</td>\n",
       "      <td>-0.184871</td>\n",
       "      <td>-0.013929</td>\n",
       "    </tr>\n",
       "  </tbody>\n",
       "</table>\n",
       "</div>"
      ],
      "text/plain": [
       "                AAPL      lag1      diff  pct_change     diff2\n",
       "Date                                                          \n",
       "2009-12-31  7.526071       NaN       NaN         NaN       NaN\n",
       "2010-01-04  7.643214  7.526071  0.117143    1.556498  0.117143\n",
       "2010-01-05  7.656429  7.643214  0.013215    0.172893  0.013215\n",
       "2010-01-06  7.534643  7.656429 -0.121786   -1.590632 -0.121786\n",
       "2010-01-07  7.520714  7.534643 -0.013929   -0.184871 -0.013929"
      ]
     },
     "execution_count": 90,
     "metadata": {},
     "output_type": "execute_result"
    }
   ],
   "source": [
    "aapl.head()"
   ]
  },
  {
   "cell_type": "code",
   "execution_count": 91,
   "id": "9f266206",
   "metadata": {},
   "outputs": [
    {
     "data": {
      "text/html": [
       "<div>\n",
       "<style scoped>\n",
       "    .dataframe tbody tr th:only-of-type {\n",
       "        vertical-align: middle;\n",
       "    }\n",
       "\n",
       "    .dataframe tbody tr th {\n",
       "        vertical-align: top;\n",
       "    }\n",
       "\n",
       "    .dataframe thead th {\n",
       "        text-align: right;\n",
       "    }\n",
       "</style>\n",
       "<table border=\"1\" class=\"dataframe\">\n",
       "  <thead>\n",
       "    <tr style=\"text-align: right;\">\n",
       "      <th></th>\n",
       "      <th>AAPL</th>\n",
       "      <th>lag1</th>\n",
       "      <th>diff</th>\n",
       "      <th>pct_change</th>\n",
       "      <th>diff2</th>\n",
       "      <th>pct_change2</th>\n",
       "    </tr>\n",
       "    <tr>\n",
       "      <th>Date</th>\n",
       "      <th></th>\n",
       "      <th></th>\n",
       "      <th></th>\n",
       "      <th></th>\n",
       "      <th></th>\n",
       "      <th></th>\n",
       "    </tr>\n",
       "  </thead>\n",
       "  <tbody>\n",
       "    <tr>\n",
       "      <th>2009-12-31</th>\n",
       "      <td>7.526071</td>\n",
       "      <td>NaN</td>\n",
       "      <td>NaN</td>\n",
       "      <td>NaN</td>\n",
       "      <td>NaN</td>\n",
       "      <td>NaN</td>\n",
       "    </tr>\n",
       "    <tr>\n",
       "      <th>2010-01-04</th>\n",
       "      <td>7.643214</td>\n",
       "      <td>7.526071</td>\n",
       "      <td>0.117143</td>\n",
       "      <td>1.556498</td>\n",
       "      <td>0.117143</td>\n",
       "      <td>1.556498</td>\n",
       "    </tr>\n",
       "    <tr>\n",
       "      <th>2010-01-05</th>\n",
       "      <td>7.656429</td>\n",
       "      <td>7.643214</td>\n",
       "      <td>0.013215</td>\n",
       "      <td>0.172893</td>\n",
       "      <td>0.013215</td>\n",
       "      <td>0.172893</td>\n",
       "    </tr>\n",
       "    <tr>\n",
       "      <th>2010-01-06</th>\n",
       "      <td>7.534643</td>\n",
       "      <td>7.656429</td>\n",
       "      <td>-0.121786</td>\n",
       "      <td>-1.590632</td>\n",
       "      <td>-0.121786</td>\n",
       "      <td>-1.590632</td>\n",
       "    </tr>\n",
       "    <tr>\n",
       "      <th>2010-01-07</th>\n",
       "      <td>7.520714</td>\n",
       "      <td>7.534643</td>\n",
       "      <td>-0.013929</td>\n",
       "      <td>-0.184871</td>\n",
       "      <td>-0.013929</td>\n",
       "      <td>-0.184871</td>\n",
       "    </tr>\n",
       "  </tbody>\n",
       "</table>\n",
       "</div>"
      ],
      "text/plain": [
       "                AAPL      lag1      diff  pct_change     diff2  pct_change2\n",
       "Date                                                                       \n",
       "2009-12-31  7.526071       NaN       NaN         NaN       NaN          NaN\n",
       "2010-01-04  7.643214  7.526071  0.117143    1.556498  0.117143     1.556498\n",
       "2010-01-05  7.656429  7.643214  0.013215    0.172893  0.013215     0.172893\n",
       "2010-01-06  7.534643  7.656429 -0.121786   -1.590632 -0.121786    -1.590632\n",
       "2010-01-07  7.520714  7.534643 -0.013929   -0.184871 -0.013929    -0.184871"
      ]
     },
     "execution_count": 91,
     "metadata": {},
     "output_type": "execute_result"
    }
   ],
   "source": [
    "aapl[\"pct_change2\"] = aapl[\"AAPL\"].pct_change(periods=1).mul(100)\n",
    "aapl.head()"
   ]
  },
  {
   "cell_type": "markdown",
   "id": "7b9e2d13",
   "metadata": {},
   "source": [
    "# Measuring stock performance with mean and std"
   ]
  },
  {
   "cell_type": "code",
   "execution_count": 92,
   "id": "cd7480d4",
   "metadata": {},
   "outputs": [],
   "source": [
    "apple = close[\"AAPL\"].copy().to_frame()"
   ]
  },
  {
   "cell_type": "code",
   "execution_count": 93,
   "id": "eb383cdc",
   "metadata": {},
   "outputs": [
    {
     "data": {
      "text/html": [
       "<div>\n",
       "<style scoped>\n",
       "    .dataframe tbody tr th:only-of-type {\n",
       "        vertical-align: middle;\n",
       "    }\n",
       "\n",
       "    .dataframe tbody tr th {\n",
       "        vertical-align: top;\n",
       "    }\n",
       "\n",
       "    .dataframe thead th {\n",
       "        text-align: right;\n",
       "    }\n",
       "</style>\n",
       "<table border=\"1\" class=\"dataframe\">\n",
       "  <thead>\n",
       "    <tr style=\"text-align: right;\">\n",
       "      <th></th>\n",
       "      <th>AAPL</th>\n",
       "    </tr>\n",
       "    <tr>\n",
       "      <th>Date</th>\n",
       "      <th></th>\n",
       "    </tr>\n",
       "  </thead>\n",
       "  <tbody>\n",
       "    <tr>\n",
       "      <th>2009-12-31</th>\n",
       "      <td>7.526071</td>\n",
       "    </tr>\n",
       "    <tr>\n",
       "      <th>2010-01-04</th>\n",
       "      <td>7.643214</td>\n",
       "    </tr>\n",
       "    <tr>\n",
       "      <th>2010-01-05</th>\n",
       "      <td>7.656429</td>\n",
       "    </tr>\n",
       "    <tr>\n",
       "      <th>2010-01-06</th>\n",
       "      <td>7.534643</td>\n",
       "    </tr>\n",
       "    <tr>\n",
       "      <th>2010-01-07</th>\n",
       "      <td>7.520714</td>\n",
       "    </tr>\n",
       "  </tbody>\n",
       "</table>\n",
       "</div>"
      ],
      "text/plain": [
       "                AAPL\n",
       "Date                \n",
       "2009-12-31  7.526071\n",
       "2010-01-04  7.643214\n",
       "2010-01-05  7.656429\n",
       "2010-01-06  7.534643\n",
       "2010-01-07  7.520714"
      ]
     },
     "execution_count": 93,
     "metadata": {},
     "output_type": "execute_result"
    }
   ],
   "source": [
    "apple.head()"
   ]
  },
  {
   "cell_type": "code",
   "execution_count": 94,
   "id": "4579492f",
   "metadata": {},
   "outputs": [
    {
     "data": {
      "text/html": [
       "<div>\n",
       "<style scoped>\n",
       "    .dataframe tbody tr th:only-of-type {\n",
       "        vertical-align: middle;\n",
       "    }\n",
       "\n",
       "    .dataframe tbody tr th {\n",
       "        vertical-align: top;\n",
       "    }\n",
       "\n",
       "    .dataframe thead th {\n",
       "        text-align: right;\n",
       "    }\n",
       "</style>\n",
       "<table border=\"1\" class=\"dataframe\">\n",
       "  <thead>\n",
       "    <tr style=\"text-align: right;\">\n",
       "      <th></th>\n",
       "      <th>AAPL</th>\n",
       "    </tr>\n",
       "    <tr>\n",
       "      <th>Date</th>\n",
       "      <th></th>\n",
       "    </tr>\n",
       "  </thead>\n",
       "  <tbody>\n",
       "    <tr>\n",
       "      <th>2010-01-04</th>\n",
       "      <td>0.015565</td>\n",
       "    </tr>\n",
       "    <tr>\n",
       "      <th>2010-01-05</th>\n",
       "      <td>0.001729</td>\n",
       "    </tr>\n",
       "    <tr>\n",
       "      <th>2010-01-06</th>\n",
       "      <td>-0.015906</td>\n",
       "    </tr>\n",
       "    <tr>\n",
       "      <th>2010-01-07</th>\n",
       "      <td>-0.001849</td>\n",
       "    </tr>\n",
       "    <tr>\n",
       "      <th>2010-01-08</th>\n",
       "      <td>0.006648</td>\n",
       "    </tr>\n",
       "  </tbody>\n",
       "</table>\n",
       "</div>"
      ],
      "text/plain": [
       "                AAPL\n",
       "Date                \n",
       "2010-01-04  0.015565\n",
       "2010-01-05  0.001729\n",
       "2010-01-06 -0.015906\n",
       "2010-01-07 -0.001849\n",
       "2010-01-08  0.006648"
      ]
     },
     "execution_count": 94,
     "metadata": {},
     "output_type": "execute_result"
    }
   ],
   "source": [
    "apple = apple.pct_change().dropna()\n",
    "apple.head()"
   ]
  },
  {
   "cell_type": "code",
   "execution_count": 95,
   "id": "ab78940d",
   "metadata": {},
   "outputs": [
    {
     "name": "stdout",
     "output_type": "stream",
     "text": [
      "<class 'pandas.core.frame.DataFrame'>\n",
      "DatetimeIndex: 2288 entries, 2010-01-04 to 2019-02-05\n",
      "Data columns (total 1 columns):\n",
      " #   Column  Non-Null Count  Dtype  \n",
      "---  ------  --------------  -----  \n",
      " 0   AAPL    2288 non-null   float64\n",
      "dtypes: float64(1)\n",
      "memory usage: 35.8 KB\n"
     ]
    }
   ],
   "source": [
    "apple.info()"
   ]
  },
  {
   "cell_type": "code",
   "execution_count": 96,
   "id": "e2c3c53b",
   "metadata": {},
   "outputs": [
    {
     "data": {
      "text/html": [
       "<div>\n",
       "<style scoped>\n",
       "    .dataframe tbody tr th:only-of-type {\n",
       "        vertical-align: middle;\n",
       "    }\n",
       "\n",
       "    .dataframe tbody tr th {\n",
       "        vertical-align: top;\n",
       "    }\n",
       "\n",
       "    .dataframe thead th {\n",
       "        text-align: right;\n",
       "    }\n",
       "</style>\n",
       "<table border=\"1\" class=\"dataframe\">\n",
       "  <thead>\n",
       "    <tr style=\"text-align: right;\">\n",
       "      <th></th>\n",
       "      <th>AAPL</th>\n",
       "    </tr>\n",
       "    <tr>\n",
       "      <th>Date</th>\n",
       "      <th></th>\n",
       "    </tr>\n",
       "  </thead>\n",
       "  <tbody>\n",
       "    <tr>\n",
       "      <th>2010-01-04</th>\n",
       "      <td>0.015565</td>\n",
       "    </tr>\n",
       "    <tr>\n",
       "      <th>2010-01-05</th>\n",
       "      <td>0.001729</td>\n",
       "    </tr>\n",
       "    <tr>\n",
       "      <th>2010-01-06</th>\n",
       "      <td>-0.015906</td>\n",
       "    </tr>\n",
       "    <tr>\n",
       "      <th>2010-01-07</th>\n",
       "      <td>-0.001849</td>\n",
       "    </tr>\n",
       "    <tr>\n",
       "      <th>2010-01-08</th>\n",
       "      <td>0.006648</td>\n",
       "    </tr>\n",
       "    <tr>\n",
       "      <th>...</th>\n",
       "      <td>...</td>\n",
       "    </tr>\n",
       "    <tr>\n",
       "      <th>2019-01-30</th>\n",
       "      <td>0.068335</td>\n",
       "    </tr>\n",
       "    <tr>\n",
       "      <th>2019-01-31</th>\n",
       "      <td>0.007201</td>\n",
       "    </tr>\n",
       "    <tr>\n",
       "      <th>2019-02-01</th>\n",
       "      <td>0.000481</td>\n",
       "    </tr>\n",
       "    <tr>\n",
       "      <th>2019-02-04</th>\n",
       "      <td>0.028405</td>\n",
       "    </tr>\n",
       "    <tr>\n",
       "      <th>2019-02-05</th>\n",
       "      <td>0.017109</td>\n",
       "    </tr>\n",
       "  </tbody>\n",
       "</table>\n",
       "<p>2288 rows × 1 columns</p>\n",
       "</div>"
      ],
      "text/plain": [
       "                AAPL\n",
       "Date                \n",
       "2010-01-04  0.015565\n",
       "2010-01-05  0.001729\n",
       "2010-01-06 -0.015906\n",
       "2010-01-07 -0.001849\n",
       "2010-01-08  0.006648\n",
       "...              ...\n",
       "2019-01-30  0.068335\n",
       "2019-01-31  0.007201\n",
       "2019-02-01  0.000481\n",
       "2019-02-04  0.028405\n",
       "2019-02-05  0.017109\n",
       "\n",
       "[2288 rows x 1 columns]"
      ]
     },
     "execution_count": 96,
     "metadata": {},
     "output_type": "execute_result"
    }
   ],
   "source": [
    "apple"
   ]
  },
  {
   "cell_type": "markdown",
   "id": "ef38ca73",
   "metadata": {},
   "source": [
    "## Distribution of daily returns\n",
    "From plot below, majority of daily returns is around 0%"
   ]
  },
  {
   "cell_type": "code",
   "execution_count": 97,
   "id": "697a728c",
   "metadata": {},
   "outputs": [
    {
     "data": {
      "text/plain": [
       "<AxesSubplot: ylabel='Frequency'>"
      ]
     },
     "execution_count": 97,
     "metadata": {},
     "output_type": "execute_result"
    },
    {
     "data": {
      "image/png": "[encoded data removed]",
      "text/plain": [
       "<Figure size 1000x700 with 1 Axes>"
      ]
     },
     "metadata": {},
     "output_type": "display_data"
    }
   ],
   "source": [
    "apple.plot(kind=\"hist\", figsize=(10,7), bins=100)"
   ]
  },
  {
   "cell_type": "markdown",
   "id": "bef360e7",
   "metadata": {},
   "source": [
    "### Mean return (Daily return)\n",
    "The higher the mean return, the more value investores generate with this investment."
   ]
  },
  {
   "cell_type": "code",
   "execution_count": 98,
   "id": "85f0eda6",
   "metadata": {},
   "outputs": [
    {
     "data": {
      "text/plain": [
       "AAPL    0.000902\n",
       "dtype: float64"
      ]
     },
     "execution_count": 98,
     "metadata": {},
     "output_type": "execute_result"
    }
   ],
   "source": [
    "daily_mean_return = apple.mean()\n",
    "daily_mean_return"
   ]
  },
  {
   "cell_type": "markdown",
   "id": "bd605d28",
   "metadata": {},
   "source": [
    "### Variability (Daily return)\n",
    "Risk of returns as measured as the variance"
   ]
  },
  {
   "cell_type": "code",
   "execution_count": 99,
   "id": "d1ff6f5d",
   "metadata": {},
   "outputs": [
    {
     "data": {
      "text/plain": [
       "AAPL    0.000269\n",
       "dtype: float64"
      ]
     },
     "execution_count": 99,
     "metadata": {},
     "output_type": "execute_result"
    }
   ],
   "source": [
    "var_daily_returns = apple.var()\n",
    "var_daily_returns"
   ]
  },
  {
   "cell_type": "markdown",
   "id": "8fb2616f",
   "metadata": {},
   "source": [
    "### Standard deviation (Daily return)\n",
    "Normally would use standard deviation instead of variance to calculate risk returns"
   ]
  },
  {
   "cell_type": "code",
   "execution_count": 100,
   "id": "5194970d",
   "metadata": {},
   "outputs": [
    {
     "data": {
      "text/plain": [
       "AAPL    0.016394\n",
       "dtype: float64"
      ]
     },
     "execution_count": 100,
     "metadata": {},
     "output_type": "execute_result"
    }
   ],
   "source": [
    "std_daily_returns = np.sqrt(var_daily_returns)\n",
    "std_daily_returns"
   ]
  },
  {
   "cell_type": "markdown",
   "id": "31fe27bf",
   "metadata": {},
   "source": [
    "### Mean return (Annualize return)"
   ]
  },
  {
   "cell_type": "code",
   "execution_count": 40,
   "id": "d48bd051",
   "metadata": {},
   "outputs": [
    {
     "data": {
      "text/plain": [
       "AAPL    0.227324\n",
       "dtype: float64"
      ]
     },
     "execution_count": 40,
     "metadata": {},
     "output_type": "execute_result"
    }
   ],
   "source": [
    "ann_mean_return = apple.mean() * 252\n",
    "ann_mean_return"
   ]
  },
  {
   "cell_type": "markdown",
   "id": "b9d02e6c",
   "metadata": {},
   "source": [
    "### Variance, risk return (Annualize return)"
   ]
  },
  {
   "cell_type": "code",
   "execution_count": 41,
   "id": "262e69df",
   "metadata": {},
   "outputs": [
    {
     "data": {
      "text/plain": [
       "AAPL    0.067726\n",
       "dtype: float64"
      ]
     },
     "execution_count": 41,
     "metadata": {},
     "output_type": "execute_result"
    }
   ],
   "source": [
    "ann_var_returns = apple.var() * 252\n",
    "ann_var_returns"
   ]
  },
  {
   "cell_type": "code",
   "execution_count": 42,
   "id": "5020e05d",
   "metadata": {},
   "outputs": [
    {
     "data": {
      "text/plain": [
       "AAPL    0.260243\n",
       "dtype: float64"
      ]
     },
     "execution_count": 42,
     "metadata": {},
     "output_type": "execute_result"
    }
   ],
   "source": [
    "ann_std_returns = np.sqrt(ann_var_returns)\n",
    "ann_std_returns"
   ]
  },
  {
   "cell_type": "markdown",
   "id": "d8fa4ec6",
   "metadata": {},
   "source": [
    "### Annualized standard deviation"
   ]
  },
  {
   "cell_type": "code",
   "execution_count": 43,
   "id": "ee2de959",
   "metadata": {},
   "outputs": [
    {
     "data": {
      "text/plain": [
       "AAPL    0.260186\n",
       "dtype: float64"
      ]
     },
     "execution_count": 43,
     "metadata": {},
     "output_type": "execute_result"
    }
   ],
   "source": [
    "np.std(apple)*np.sqrt(252)"
   ]
  },
  {
   "cell_type": "markdown",
   "id": "5bca393b",
   "metadata": {},
   "source": [
    "# Returns and risks"
   ]
  },
  {
   "cell_type": "code",
   "execution_count": 44,
   "id": "9f07ee4d",
   "metadata": {},
   "outputs": [
    {
     "data": {
      "text/plain": [
       "<AxesSubplot: xlabel='Date'>"
      ]
     },
     "execution_count": 44,
     "metadata": {},
     "output_type": "execute_result"
    },
    {
     "data": {
      "image/png": "[encoded data removed]",
      "text/plain": [
       "<Figure size 1000x700 with 1 Axes>"
      ]
     },
     "metadata": {},
     "output_type": "display_data"
    }
   ],
   "source": [
    "norm.plot(figsize=(10,7), fontsize=10)"
   ]
  },
  {
   "cell_type": "code",
   "execution_count": 45,
   "id": "63b72131",
   "metadata": {},
   "outputs": [
    {
     "data": {
      "text/html": [
       "<div>\n",
       "<style scoped>\n",
       "    .dataframe tbody tr th:only-of-type {\n",
       "        vertical-align: middle;\n",
       "    }\n",
       "\n",
       "    .dataframe tbody tr th {\n",
       "        vertical-align: top;\n",
       "    }\n",
       "\n",
       "    .dataframe thead th {\n",
       "        text-align: right;\n",
       "    }\n",
       "</style>\n",
       "<table border=\"1\" class=\"dataframe\">\n",
       "  <thead>\n",
       "    <tr style=\"text-align: right;\">\n",
       "      <th></th>\n",
       "      <th>AAPL</th>\n",
       "      <th>BA</th>\n",
       "      <th>DIS</th>\n",
       "      <th>IBM</th>\n",
       "      <th>KO</th>\n",
       "      <th>MSFT</th>\n",
       "    </tr>\n",
       "    <tr>\n",
       "      <th>Date</th>\n",
       "      <th></th>\n",
       "      <th></th>\n",
       "      <th></th>\n",
       "      <th></th>\n",
       "      <th></th>\n",
       "      <th></th>\n",
       "    </tr>\n",
       "  </thead>\n",
       "  <tbody>\n",
       "    <tr>\n",
       "      <th>2009-12-31</th>\n",
       "      <td>7.526071</td>\n",
       "      <td>54.130001</td>\n",
       "      <td>32.25</td>\n",
       "      <td>125.143402</td>\n",
       "      <td>28.500000</td>\n",
       "      <td>30.480000</td>\n",
       "    </tr>\n",
       "    <tr>\n",
       "      <th>2010-01-04</th>\n",
       "      <td>7.643214</td>\n",
       "      <td>56.180000</td>\n",
       "      <td>32.07</td>\n",
       "      <td>126.625237</td>\n",
       "      <td>28.520000</td>\n",
       "      <td>30.950001</td>\n",
       "    </tr>\n",
       "    <tr>\n",
       "      <th>2010-01-05</th>\n",
       "      <td>7.656429</td>\n",
       "      <td>58.020000</td>\n",
       "      <td>31.99</td>\n",
       "      <td>125.095604</td>\n",
       "      <td>28.174999</td>\n",
       "      <td>30.959999</td>\n",
       "    </tr>\n",
       "    <tr>\n",
       "      <th>2010-01-06</th>\n",
       "      <td>7.534643</td>\n",
       "      <td>59.779999</td>\n",
       "      <td>31.82</td>\n",
       "      <td>124.282982</td>\n",
       "      <td>28.165001</td>\n",
       "      <td>30.770000</td>\n",
       "    </tr>\n",
       "    <tr>\n",
       "      <th>2010-01-07</th>\n",
       "      <td>7.520714</td>\n",
       "      <td>62.200001</td>\n",
       "      <td>31.83</td>\n",
       "      <td>123.852776</td>\n",
       "      <td>28.094999</td>\n",
       "      <td>30.450001</td>\n",
       "    </tr>\n",
       "  </tbody>\n",
       "</table>\n",
       "</div>"
      ],
      "text/plain": [
       "                AAPL         BA    DIS         IBM         KO       MSFT\n",
       "Date                                                                    \n",
       "2009-12-31  7.526071  54.130001  32.25  125.143402  28.500000  30.480000\n",
       "2010-01-04  7.643214  56.180000  32.07  126.625237  28.520000  30.950001\n",
       "2010-01-05  7.656429  58.020000  31.99  125.095604  28.174999  30.959999\n",
       "2010-01-06  7.534643  59.779999  31.82  124.282982  28.165001  30.770000\n",
       "2010-01-07  7.520714  62.200001  31.83  123.852776  28.094999  30.450001"
      ]
     },
     "execution_count": 45,
     "metadata": {},
     "output_type": "execute_result"
    }
   ],
   "source": [
    "close.head()"
   ]
  },
  {
   "cell_type": "code",
   "execution_count": 46,
   "id": "3d90305f",
   "metadata": {},
   "outputs": [
    {
     "data": {
      "text/html": [
       "<div>\n",
       "<style scoped>\n",
       "    .dataframe tbody tr th:only-of-type {\n",
       "        vertical-align: middle;\n",
       "    }\n",
       "\n",
       "    .dataframe tbody tr th {\n",
       "        vertical-align: top;\n",
       "    }\n",
       "\n",
       "    .dataframe thead th {\n",
       "        text-align: right;\n",
       "    }\n",
       "</style>\n",
       "<table border=\"1\" class=\"dataframe\">\n",
       "  <thead>\n",
       "    <tr style=\"text-align: right;\">\n",
       "      <th></th>\n",
       "      <th>AAPL</th>\n",
       "      <th>BA</th>\n",
       "      <th>DIS</th>\n",
       "      <th>IBM</th>\n",
       "      <th>KO</th>\n",
       "      <th>MSFT</th>\n",
       "    </tr>\n",
       "    <tr>\n",
       "      <th>Date</th>\n",
       "      <th></th>\n",
       "      <th></th>\n",
       "      <th></th>\n",
       "      <th></th>\n",
       "      <th></th>\n",
       "      <th></th>\n",
       "    </tr>\n",
       "  </thead>\n",
       "  <tbody>\n",
       "    <tr>\n",
       "      <th>2009-12-31</th>\n",
       "      <td>NaN</td>\n",
       "      <td>NaN</td>\n",
       "      <td>NaN</td>\n",
       "      <td>NaN</td>\n",
       "      <td>NaN</td>\n",
       "      <td>NaN</td>\n",
       "    </tr>\n",
       "    <tr>\n",
       "      <th>2010-01-04</th>\n",
       "      <td>0.015565</td>\n",
       "      <td>0.037872</td>\n",
       "      <td>-0.005581</td>\n",
       "      <td>0.011841</td>\n",
       "      <td>0.000702</td>\n",
       "      <td>0.015420</td>\n",
       "    </tr>\n",
       "    <tr>\n",
       "      <th>2010-01-05</th>\n",
       "      <td>0.001729</td>\n",
       "      <td>0.032752</td>\n",
       "      <td>-0.002495</td>\n",
       "      <td>-0.012080</td>\n",
       "      <td>-0.012097</td>\n",
       "      <td>0.000323</td>\n",
       "    </tr>\n",
       "    <tr>\n",
       "      <th>2010-01-06</th>\n",
       "      <td>-0.015906</td>\n",
       "      <td>0.030334</td>\n",
       "      <td>-0.005314</td>\n",
       "      <td>-0.006496</td>\n",
       "      <td>-0.000355</td>\n",
       "      <td>-0.006137</td>\n",
       "    </tr>\n",
       "    <tr>\n",
       "      <th>2010-01-07</th>\n",
       "      <td>-0.001849</td>\n",
       "      <td>0.040482</td>\n",
       "      <td>0.000314</td>\n",
       "      <td>-0.003462</td>\n",
       "      <td>-0.002485</td>\n",
       "      <td>-0.010400</td>\n",
       "    </tr>\n",
       "    <tr>\n",
       "      <th>...</th>\n",
       "      <td>...</td>\n",
       "      <td>...</td>\n",
       "      <td>...</td>\n",
       "      <td>...</td>\n",
       "      <td>...</td>\n",
       "      <td>...</td>\n",
       "    </tr>\n",
       "    <tr>\n",
       "      <th>2019-01-30</th>\n",
       "      <td>0.068335</td>\n",
       "      <td>0.062509</td>\n",
       "      <td>-0.006943</td>\n",
       "      <td>0.000372</td>\n",
       "      <td>0.009705</td>\n",
       "      <td>0.033417</td>\n",
       "    </tr>\n",
       "    <tr>\n",
       "      <th>2019-01-31</th>\n",
       "      <td>0.007201</td>\n",
       "      <td>-0.005416</td>\n",
       "      <td>0.012621</td>\n",
       "      <td>0.000298</td>\n",
       "      <td>0.005641</td>\n",
       "      <td>-0.018330</td>\n",
       "    </tr>\n",
       "    <tr>\n",
       "      <th>2019-02-01</th>\n",
       "      <td>0.000481</td>\n",
       "      <td>0.004694</td>\n",
       "      <td>-0.001973</td>\n",
       "      <td>-0.002381</td>\n",
       "      <td>0.011843</td>\n",
       "      <td>-0.015800</td>\n",
       "    </tr>\n",
       "    <tr>\n",
       "      <th>2019-02-04</th>\n",
       "      <td>0.028405</td>\n",
       "      <td>0.024701</td>\n",
       "      <td>0.004492</td>\n",
       "      <td>0.008128</td>\n",
       "      <td>0.011294</td>\n",
       "      <td>0.028799</td>\n",
       "    </tr>\n",
       "    <tr>\n",
       "      <th>2019-02-05</th>\n",
       "      <td>0.017109</td>\n",
       "      <td>0.033199</td>\n",
       "      <td>0.007692</td>\n",
       "      <td>0.002663</td>\n",
       "      <td>0.000203</td>\n",
       "      <td>0.013997</td>\n",
       "    </tr>\n",
       "  </tbody>\n",
       "</table>\n",
       "<p>2289 rows × 6 columns</p>\n",
       "</div>"
      ],
      "text/plain": [
       "                AAPL        BA       DIS       IBM        KO      MSFT\n",
       "Date                                                                  \n",
       "2009-12-31       NaN       NaN       NaN       NaN       NaN       NaN\n",
       "2010-01-04  0.015565  0.037872 -0.005581  0.011841  0.000702  0.015420\n",
       "2010-01-05  0.001729  0.032752 -0.002495 -0.012080 -0.012097  0.000323\n",
       "2010-01-06 -0.015906  0.030334 -0.005314 -0.006496 -0.000355 -0.006137\n",
       "2010-01-07 -0.001849  0.040482  0.000314 -0.003462 -0.002485 -0.010400\n",
       "...              ...       ...       ...       ...       ...       ...\n",
       "2019-01-30  0.068335  0.062509 -0.006943  0.000372  0.009705  0.033417\n",
       "2019-01-31  0.007201 -0.005416  0.012621  0.000298  0.005641 -0.018330\n",
       "2019-02-01  0.000481  0.004694 -0.001973 -0.002381  0.011843 -0.015800\n",
       "2019-02-04  0.028405  0.024701  0.004492  0.008128  0.011294  0.028799\n",
       "2019-02-05  0.017109  0.033199  0.007692  0.002663  0.000203  0.013997\n",
       "\n",
       "[2289 rows x 6 columns]"
      ]
     },
     "execution_count": 46,
     "metadata": {},
     "output_type": "execute_result"
    }
   ],
   "source": [
    "close.pct_change()"
   ]
  },
  {
   "cell_type": "code",
   "execution_count": 47,
   "id": "58cf59b7",
   "metadata": {},
   "outputs": [],
   "source": [
    "ret = close.pct_change().dropna()"
   ]
  },
  {
   "cell_type": "code",
   "execution_count": 48,
   "id": "1c57da99",
   "metadata": {},
   "outputs": [
    {
     "data": {
      "text/html": [
       "<div>\n",
       "<style scoped>\n",
       "    .dataframe tbody tr th:only-of-type {\n",
       "        vertical-align: middle;\n",
       "    }\n",
       "\n",
       "    .dataframe tbody tr th {\n",
       "        vertical-align: top;\n",
       "    }\n",
       "\n",
       "    .dataframe thead th {\n",
       "        text-align: right;\n",
       "    }\n",
       "</style>\n",
       "<table border=\"1\" class=\"dataframe\">\n",
       "  <thead>\n",
       "    <tr style=\"text-align: right;\">\n",
       "      <th></th>\n",
       "      <th>AAPL</th>\n",
       "      <th>BA</th>\n",
       "      <th>DIS</th>\n",
       "      <th>IBM</th>\n",
       "      <th>KO</th>\n",
       "      <th>MSFT</th>\n",
       "    </tr>\n",
       "    <tr>\n",
       "      <th>Date</th>\n",
       "      <th></th>\n",
       "      <th></th>\n",
       "      <th></th>\n",
       "      <th></th>\n",
       "      <th></th>\n",
       "      <th></th>\n",
       "    </tr>\n",
       "  </thead>\n",
       "  <tbody>\n",
       "    <tr>\n",
       "      <th>2010-01-04</th>\n",
       "      <td>0.015565</td>\n",
       "      <td>0.037872</td>\n",
       "      <td>-0.005581</td>\n",
       "      <td>0.011841</td>\n",
       "      <td>0.000702</td>\n",
       "      <td>0.015420</td>\n",
       "    </tr>\n",
       "    <tr>\n",
       "      <th>2010-01-05</th>\n",
       "      <td>0.001729</td>\n",
       "      <td>0.032752</td>\n",
       "      <td>-0.002495</td>\n",
       "      <td>-0.012080</td>\n",
       "      <td>-0.012097</td>\n",
       "      <td>0.000323</td>\n",
       "    </tr>\n",
       "    <tr>\n",
       "      <th>2010-01-06</th>\n",
       "      <td>-0.015906</td>\n",
       "      <td>0.030334</td>\n",
       "      <td>-0.005314</td>\n",
       "      <td>-0.006496</td>\n",
       "      <td>-0.000355</td>\n",
       "      <td>-0.006137</td>\n",
       "    </tr>\n",
       "    <tr>\n",
       "      <th>2010-01-07</th>\n",
       "      <td>-0.001849</td>\n",
       "      <td>0.040482</td>\n",
       "      <td>0.000314</td>\n",
       "      <td>-0.003462</td>\n",
       "      <td>-0.002485</td>\n",
       "      <td>-0.010400</td>\n",
       "    </tr>\n",
       "    <tr>\n",
       "      <th>2010-01-08</th>\n",
       "      <td>0.006648</td>\n",
       "      <td>-0.009646</td>\n",
       "      <td>0.001571</td>\n",
       "      <td>0.010035</td>\n",
       "      <td>-0.018509</td>\n",
       "      <td>0.006897</td>\n",
       "    </tr>\n",
       "  </tbody>\n",
       "</table>\n",
       "</div>"
      ],
      "text/plain": [
       "                AAPL        BA       DIS       IBM        KO      MSFT\n",
       "Date                                                                  \n",
       "2010-01-04  0.015565  0.037872 -0.005581  0.011841  0.000702  0.015420\n",
       "2010-01-05  0.001729  0.032752 -0.002495 -0.012080 -0.012097  0.000323\n",
       "2010-01-06 -0.015906  0.030334 -0.005314 -0.006496 -0.000355 -0.006137\n",
       "2010-01-07 -0.001849  0.040482  0.000314 -0.003462 -0.002485 -0.010400\n",
       "2010-01-08  0.006648 -0.009646  0.001571  0.010035 -0.018509  0.006897"
      ]
     },
     "execution_count": 48,
     "metadata": {},
     "output_type": "execute_result"
    }
   ],
   "source": [
    "ret.head()"
   ]
  },
  {
   "cell_type": "code",
   "execution_count": 49,
   "id": "7df606a8",
   "metadata": {},
   "outputs": [
    {
     "data": {
      "text/html": [
       "<div>\n",
       "<style scoped>\n",
       "    .dataframe tbody tr th:only-of-type {\n",
       "        vertical-align: middle;\n",
       "    }\n",
       "\n",
       "    .dataframe tbody tr th {\n",
       "        vertical-align: top;\n",
       "    }\n",
       "\n",
       "    .dataframe thead th {\n",
       "        text-align: right;\n",
       "    }\n",
       "</style>\n",
       "<table border=\"1\" class=\"dataframe\">\n",
       "  <thead>\n",
       "    <tr style=\"text-align: right;\">\n",
       "      <th></th>\n",
       "      <th>mean</th>\n",
       "      <th>std</th>\n",
       "    </tr>\n",
       "  </thead>\n",
       "  <tbody>\n",
       "    <tr>\n",
       "      <th>AAPL</th>\n",
       "      <td>0.000902</td>\n",
       "      <td>0.016394</td>\n",
       "    </tr>\n",
       "    <tr>\n",
       "      <th>BA</th>\n",
       "      <td>0.001006</td>\n",
       "      <td>0.015504</td>\n",
       "    </tr>\n",
       "    <tr>\n",
       "      <th>DIS</th>\n",
       "      <td>0.000633</td>\n",
       "      <td>0.013136</td>\n",
       "    </tr>\n",
       "    <tr>\n",
       "      <th>IBM</th>\n",
       "      <td>0.000093</td>\n",
       "      <td>0.012429</td>\n",
       "    </tr>\n",
       "    <tr>\n",
       "      <th>KO</th>\n",
       "      <td>0.000282</td>\n",
       "      <td>0.009205</td>\n",
       "    </tr>\n",
       "    <tr>\n",
       "      <th>MSFT</th>\n",
       "      <td>0.000656</td>\n",
       "      <td>0.014579</td>\n",
       "    </tr>\n",
       "  </tbody>\n",
       "</table>\n",
       "</div>"
      ],
      "text/plain": [
       "          mean       std\n",
       "AAPL  0.000902  0.016394\n",
       "BA    0.001006  0.015504\n",
       "DIS   0.000633  0.013136\n",
       "IBM   0.000093  0.012429\n",
       "KO    0.000282  0.009205\n",
       "MSFT  0.000656  0.014579"
      ]
     },
     "execution_count": 49,
     "metadata": {},
     "output_type": "execute_result"
    }
   ],
   "source": [
    "summary = ret.describe().T.loc[:,[\"mean\",\"std\"]]\n",
    "summary"
   ]
  },
  {
   "cell_type": "code",
   "execution_count": 50,
   "id": "a84ee72b",
   "metadata": {},
   "outputs": [
    {
     "data": {
      "text/html": [
       "<div>\n",
       "<style scoped>\n",
       "    .dataframe tbody tr th:only-of-type {\n",
       "        vertical-align: middle;\n",
       "    }\n",
       "\n",
       "    .dataframe tbody tr th {\n",
       "        vertical-align: top;\n",
       "    }\n",
       "\n",
       "    .dataframe thead th {\n",
       "        text-align: right;\n",
       "    }\n",
       "</style>\n",
       "<table border=\"1\" class=\"dataframe\">\n",
       "  <thead>\n",
       "    <tr style=\"text-align: right;\">\n",
       "      <th></th>\n",
       "      <th>mean</th>\n",
       "      <th>std</th>\n",
       "    </tr>\n",
       "  </thead>\n",
       "  <tbody>\n",
       "    <tr>\n",
       "      <th>AAPL</th>\n",
       "      <td>0.227324</td>\n",
       "      <td>0.260243</td>\n",
       "    </tr>\n",
       "    <tr>\n",
       "      <th>BA</th>\n",
       "      <td>0.253438</td>\n",
       "      <td>0.246122</td>\n",
       "    </tr>\n",
       "    <tr>\n",
       "      <th>DIS</th>\n",
       "      <td>0.159602</td>\n",
       "      <td>0.208534</td>\n",
       "    </tr>\n",
       "    <tr>\n",
       "      <th>IBM</th>\n",
       "      <td>0.023376</td>\n",
       "      <td>0.197305</td>\n",
       "    </tr>\n",
       "    <tr>\n",
       "      <th>KO</th>\n",
       "      <td>0.070970</td>\n",
       "      <td>0.146129</td>\n",
       "    </tr>\n",
       "    <tr>\n",
       "      <th>MSFT</th>\n",
       "      <td>0.165324</td>\n",
       "      <td>0.231441</td>\n",
       "    </tr>\n",
       "  </tbody>\n",
       "</table>\n",
       "</div>"
      ],
      "text/plain": [
       "          mean       std\n",
       "AAPL  0.227324  0.260243\n",
       "BA    0.253438  0.246122\n",
       "DIS   0.159602  0.208534\n",
       "IBM   0.023376  0.197305\n",
       "KO    0.070970  0.146129\n",
       "MSFT  0.165324  0.231441"
      ]
     },
     "execution_count": 50,
     "metadata": {},
     "output_type": "execute_result"
    }
   ],
   "source": [
    "summary[\"mean\"] = summary[\"mean\"]*252\n",
    "summary[\"std\"] = summary[\"std\"]*np.sqrt(252)\n",
    "\n",
    "summary"
   ]
  },
  {
   "cell_type": "code",
   "execution_count": 101,
   "id": "b83c1add",
   "metadata": {},
   "outputs": [
    {
     "name": "stderr",
     "output_type": "stream",
     "text": [
      "No artists with labels found to put in legend.  Note that artists whose label start with an underscore are ignored when legend() is called with no argument.\n"
     ]
    },
    {
     "data": {
      "image/png": "[encoded data removed]",
      "text/plain": [
       "<Figure size 1000x700 with 1 Axes>"
      ]
     },
     "metadata": {},
     "output_type": "display_data"
    }
   ],
   "source": [
    "summary.plot.scatter(x=\"std\", y=\"mean\", figsize=(10,7), size=50)\n",
    "for i in summary.index:\n",
    "    plt.annotate(i, xy=(summary.loc[i,\"std\"]+0.002, summary.loc[i,\"mean\"]+0.002))\n",
    "plt.xlabel(\"ann. Risk(std)\", fontsize=15)\n",
    "plt.ylabel(\"ann. Return\", fontsize=15)\n",
    "plt.title(\"Risk/Return\", fontsize=15)\n",
    "plt.legend();"
   ]
  },
  {
   "cell_type": "markdown",
   "id": "0bb23a75",
   "metadata": {},
   "source": [
    "### Summary - Risk and Return\n",
    "- KO (CocaCola) - Low risk and low return\n",
    "- BA (Boeing) and AAPL (Apple) - High risk and high return\n",
    "- IBM stock showed the weakest performance"
   ]
  },
  {
   "cell_type": "markdown",
   "id": "5f35b39e",
   "metadata": {},
   "source": [
    "# Covariance and Correlation"
   ]
  },
  {
   "cell_type": "code",
   "execution_count": 102,
   "id": "9acae350",
   "metadata": {},
   "outputs": [
    {
     "data": {
      "text/html": [
       "<div>\n",
       "<style scoped>\n",
       "    .dataframe tbody tr th:only-of-type {\n",
       "        vertical-align: middle;\n",
       "    }\n",
       "\n",
       "    .dataframe tbody tr th {\n",
       "        vertical-align: top;\n",
       "    }\n",
       "\n",
       "    .dataframe thead th {\n",
       "        text-align: right;\n",
       "    }\n",
       "</style>\n",
       "<table border=\"1\" class=\"dataframe\">\n",
       "  <thead>\n",
       "    <tr style=\"text-align: right;\">\n",
       "      <th></th>\n",
       "      <th>AAPL</th>\n",
       "      <th>BA</th>\n",
       "      <th>DIS</th>\n",
       "      <th>IBM</th>\n",
       "      <th>KO</th>\n",
       "      <th>MSFT</th>\n",
       "    </tr>\n",
       "    <tr>\n",
       "      <th>Date</th>\n",
       "      <th></th>\n",
       "      <th></th>\n",
       "      <th></th>\n",
       "      <th></th>\n",
       "      <th></th>\n",
       "      <th></th>\n",
       "    </tr>\n",
       "  </thead>\n",
       "  <tbody>\n",
       "    <tr>\n",
       "      <th>2010-01-04</th>\n",
       "      <td>0.015565</td>\n",
       "      <td>0.037872</td>\n",
       "      <td>-0.005581</td>\n",
       "      <td>0.011841</td>\n",
       "      <td>0.000702</td>\n",
       "      <td>0.015420</td>\n",
       "    </tr>\n",
       "    <tr>\n",
       "      <th>2010-01-05</th>\n",
       "      <td>0.001729</td>\n",
       "      <td>0.032752</td>\n",
       "      <td>-0.002495</td>\n",
       "      <td>-0.012080</td>\n",
       "      <td>-0.012097</td>\n",
       "      <td>0.000323</td>\n",
       "    </tr>\n",
       "    <tr>\n",
       "      <th>2010-01-06</th>\n",
       "      <td>-0.015906</td>\n",
       "      <td>0.030334</td>\n",
       "      <td>-0.005314</td>\n",
       "      <td>-0.006496</td>\n",
       "      <td>-0.000355</td>\n",
       "      <td>-0.006137</td>\n",
       "    </tr>\n",
       "    <tr>\n",
       "      <th>2010-01-07</th>\n",
       "      <td>-0.001849</td>\n",
       "      <td>0.040482</td>\n",
       "      <td>0.000314</td>\n",
       "      <td>-0.003462</td>\n",
       "      <td>-0.002485</td>\n",
       "      <td>-0.010400</td>\n",
       "    </tr>\n",
       "    <tr>\n",
       "      <th>2010-01-08</th>\n",
       "      <td>0.006648</td>\n",
       "      <td>-0.009646</td>\n",
       "      <td>0.001571</td>\n",
       "      <td>0.010035</td>\n",
       "      <td>-0.018509</td>\n",
       "      <td>0.006897</td>\n",
       "    </tr>\n",
       "  </tbody>\n",
       "</table>\n",
       "</div>"
      ],
      "text/plain": [
       "                AAPL        BA       DIS       IBM        KO      MSFT\n",
       "Date                                                                  \n",
       "2010-01-04  0.015565  0.037872 -0.005581  0.011841  0.000702  0.015420\n",
       "2010-01-05  0.001729  0.032752 -0.002495 -0.012080 -0.012097  0.000323\n",
       "2010-01-06 -0.015906  0.030334 -0.005314 -0.006496 -0.000355 -0.006137\n",
       "2010-01-07 -0.001849  0.040482  0.000314 -0.003462 -0.002485 -0.010400\n",
       "2010-01-08  0.006648 -0.009646  0.001571  0.010035 -0.018509  0.006897"
      ]
     },
     "execution_count": 102,
     "metadata": {},
     "output_type": "execute_result"
    }
   ],
   "source": [
    "ret.head()"
   ]
  },
  {
   "cell_type": "code",
   "execution_count": 103,
   "id": "33fa3372",
   "metadata": {},
   "outputs": [
    {
     "data": {
      "text/html": [
       "<div>\n",
       "<style scoped>\n",
       "    .dataframe tbody tr th:only-of-type {\n",
       "        vertical-align: middle;\n",
       "    }\n",
       "\n",
       "    .dataframe tbody tr th {\n",
       "        vertical-align: top;\n",
       "    }\n",
       "\n",
       "    .dataframe thead th {\n",
       "        text-align: right;\n",
       "    }\n",
       "</style>\n",
       "<table border=\"1\" class=\"dataframe\">\n",
       "  <thead>\n",
       "    <tr style=\"text-align: right;\">\n",
       "      <th></th>\n",
       "      <th>AAPL</th>\n",
       "      <th>BA</th>\n",
       "      <th>DIS</th>\n",
       "      <th>IBM</th>\n",
       "      <th>KO</th>\n",
       "      <th>MSFT</th>\n",
       "    </tr>\n",
       "  </thead>\n",
       "  <tbody>\n",
       "    <tr>\n",
       "      <th>AAPL</th>\n",
       "      <td>0.000269</td>\n",
       "      <td>0.000104</td>\n",
       "      <td>0.000080</td>\n",
       "      <td>0.000076</td>\n",
       "      <td>0.000040</td>\n",
       "      <td>0.000107</td>\n",
       "    </tr>\n",
       "    <tr>\n",
       "      <th>BA</th>\n",
       "      <td>0.000104</td>\n",
       "      <td>0.000240</td>\n",
       "      <td>0.000105</td>\n",
       "      <td>0.000089</td>\n",
       "      <td>0.000057</td>\n",
       "      <td>0.000101</td>\n",
       "    </tr>\n",
       "    <tr>\n",
       "      <th>DIS</th>\n",
       "      <td>0.000080</td>\n",
       "      <td>0.000105</td>\n",
       "      <td>0.000173</td>\n",
       "      <td>0.000073</td>\n",
       "      <td>0.000052</td>\n",
       "      <td>0.000086</td>\n",
       "    </tr>\n",
       "    <tr>\n",
       "      <th>IBM</th>\n",
       "      <td>0.000076</td>\n",
       "      <td>0.000089</td>\n",
       "      <td>0.000073</td>\n",
       "      <td>0.000154</td>\n",
       "      <td>0.000047</td>\n",
       "      <td>0.000088</td>\n",
       "    </tr>\n",
       "    <tr>\n",
       "      <th>KO</th>\n",
       "      <td>0.000040</td>\n",
       "      <td>0.000057</td>\n",
       "      <td>0.000052</td>\n",
       "      <td>0.000047</td>\n",
       "      <td>0.000085</td>\n",
       "      <td>0.000051</td>\n",
       "    </tr>\n",
       "    <tr>\n",
       "      <th>MSFT</th>\n",
       "      <td>0.000107</td>\n",
       "      <td>0.000101</td>\n",
       "      <td>0.000086</td>\n",
       "      <td>0.000088</td>\n",
       "      <td>0.000051</td>\n",
       "      <td>0.000213</td>\n",
       "    </tr>\n",
       "  </tbody>\n",
       "</table>\n",
       "</div>"
      ],
      "text/plain": [
       "          AAPL        BA       DIS       IBM        KO      MSFT\n",
       "AAPL  0.000269  0.000104  0.000080  0.000076  0.000040  0.000107\n",
       "BA    0.000104  0.000240  0.000105  0.000089  0.000057  0.000101\n",
       "DIS   0.000080  0.000105  0.000173  0.000073  0.000052  0.000086\n",
       "IBM   0.000076  0.000089  0.000073  0.000154  0.000047  0.000088\n",
       "KO    0.000040  0.000057  0.000052  0.000047  0.000085  0.000051\n",
       "MSFT  0.000107  0.000101  0.000086  0.000088  0.000051  0.000213"
      ]
     },
     "execution_count": 103,
     "metadata": {},
     "output_type": "execute_result"
    }
   ],
   "source": [
    "ret.cov()"
   ]
  },
  {
   "cell_type": "code",
   "execution_count": 104,
   "id": "d8d887f5",
   "metadata": {},
   "outputs": [
    {
     "data": {
      "text/html": [
       "<div>\n",
       "<style scoped>\n",
       "    .dataframe tbody tr th:only-of-type {\n",
       "        vertical-align: middle;\n",
       "    }\n",
       "\n",
       "    .dataframe tbody tr th {\n",
       "        vertical-align: top;\n",
       "    }\n",
       "\n",
       "    .dataframe thead th {\n",
       "        text-align: right;\n",
       "    }\n",
       "</style>\n",
       "<table border=\"1\" class=\"dataframe\">\n",
       "  <thead>\n",
       "    <tr style=\"text-align: right;\">\n",
       "      <th></th>\n",
       "      <th>AAPL</th>\n",
       "      <th>BA</th>\n",
       "      <th>DIS</th>\n",
       "      <th>IBM</th>\n",
       "      <th>KO</th>\n",
       "      <th>MSFT</th>\n",
       "    </tr>\n",
       "  </thead>\n",
       "  <tbody>\n",
       "    <tr>\n",
       "      <th>AAPL</th>\n",
       "      <td>1.000000</td>\n",
       "      <td>0.410269</td>\n",
       "      <td>0.372869</td>\n",
       "      <td>0.374978</td>\n",
       "      <td>0.266914</td>\n",
       "      <td>0.447375</td>\n",
       "    </tr>\n",
       "    <tr>\n",
       "      <th>BA</th>\n",
       "      <td>0.410269</td>\n",
       "      <td>1.000000</td>\n",
       "      <td>0.517183</td>\n",
       "      <td>0.459619</td>\n",
       "      <td>0.400967</td>\n",
       "      <td>0.447268</td>\n",
       "    </tr>\n",
       "    <tr>\n",
       "      <th>DIS</th>\n",
       "      <td>0.372869</td>\n",
       "      <td>0.517183</td>\n",
       "      <td>1.000000</td>\n",
       "      <td>0.448426</td>\n",
       "      <td>0.432642</td>\n",
       "      <td>0.450547</td>\n",
       "    </tr>\n",
       "    <tr>\n",
       "      <th>IBM</th>\n",
       "      <td>0.374978</td>\n",
       "      <td>0.459619</td>\n",
       "      <td>0.448426</td>\n",
       "      <td>1.000000</td>\n",
       "      <td>0.407340</td>\n",
       "      <td>0.486098</td>\n",
       "    </tr>\n",
       "    <tr>\n",
       "      <th>KO</th>\n",
       "      <td>0.266914</td>\n",
       "      <td>0.400967</td>\n",
       "      <td>0.432642</td>\n",
       "      <td>0.407340</td>\n",
       "      <td>1.000000</td>\n",
       "      <td>0.378116</td>\n",
       "    </tr>\n",
       "    <tr>\n",
       "      <th>MSFT</th>\n",
       "      <td>0.447375</td>\n",
       "      <td>0.447268</td>\n",
       "      <td>0.450547</td>\n",
       "      <td>0.486098</td>\n",
       "      <td>0.378116</td>\n",
       "      <td>1.000000</td>\n",
       "    </tr>\n",
       "  </tbody>\n",
       "</table>\n",
       "</div>"
      ],
      "text/plain": [
       "          AAPL        BA       DIS       IBM        KO      MSFT\n",
       "AAPL  1.000000  0.410269  0.372869  0.374978  0.266914  0.447375\n",
       "BA    0.410269  1.000000  0.517183  0.459619  0.400967  0.447268\n",
       "DIS   0.372869  0.517183  1.000000  0.448426  0.432642  0.450547\n",
       "IBM   0.374978  0.459619  0.448426  1.000000  0.407340  0.486098\n",
       "KO    0.266914  0.400967  0.432642  0.407340  1.000000  0.378116\n",
       "MSFT  0.447375  0.447268  0.450547  0.486098  0.378116  1.000000"
      ]
     },
     "execution_count": 104,
     "metadata": {},
     "output_type": "execute_result"
    }
   ],
   "source": [
    "ret.corr()"
   ]
  },
  {
   "cell_type": "code",
   "execution_count": 108,
   "id": "fbc5e843",
   "metadata": {},
   "outputs": [
    {
     "data": {
      "image/png": "[encoded data removed]",
      "text/plain": [
       "<Figure size 1000x700 with 2 Axes>"
      ]
     },
     "metadata": {},
     "output_type": "display_data"
    }
   ],
   "source": [
    "import seaborn as sns\n",
    "\n",
    "plt.figure(figsize=(10,7))\n",
    "sns.set(font_scale=1.4)\n",
    "sns.heatmap(ret.corr(), annot=True, vmax=0.6)\n",
    "plt.show()"
   ]
  },
  {
   "cell_type": "markdown",
   "id": "d08b8e69",
   "metadata": {},
   "source": [
    "# Simple Returns vs Log Returns"
   ]
  },
  {
   "cell_type": "code",
   "execution_count": 52,
   "id": "3d66d401",
   "metadata": {},
   "outputs": [],
   "source": [
    "df = pd.DataFrame(index=[2016,2017,2018], data=[100,50,95], columns=[\"Price\"])"
   ]
  },
  {
   "cell_type": "code",
   "execution_count": 53,
   "id": "9e316ab6",
   "metadata": {},
   "outputs": [
    {
     "data": {
      "text/html": [
       "<div>\n",
       "<style scoped>\n",
       "    .dataframe tbody tr th:only-of-type {\n",
       "        vertical-align: middle;\n",
       "    }\n",
       "\n",
       "    .dataframe tbody tr th {\n",
       "        vertical-align: top;\n",
       "    }\n",
       "\n",
       "    .dataframe thead th {\n",
       "        text-align: right;\n",
       "    }\n",
       "</style>\n",
       "<table border=\"1\" class=\"dataframe\">\n",
       "  <thead>\n",
       "    <tr style=\"text-align: right;\">\n",
       "      <th></th>\n",
       "      <th>Price</th>\n",
       "    </tr>\n",
       "  </thead>\n",
       "  <tbody>\n",
       "    <tr>\n",
       "      <th>2016</th>\n",
       "      <td>100</td>\n",
       "    </tr>\n",
       "    <tr>\n",
       "      <th>2017</th>\n",
       "      <td>50</td>\n",
       "    </tr>\n",
       "    <tr>\n",
       "      <th>2018</th>\n",
       "      <td>95</td>\n",
       "    </tr>\n",
       "  </tbody>\n",
       "</table>\n",
       "</div>"
      ],
      "text/plain": [
       "      Price\n",
       "2016    100\n",
       "2017     50\n",
       "2018     95"
      ]
     },
     "execution_count": 53,
     "metadata": {},
     "output_type": "execute_result"
    }
   ],
   "source": [
    "df.head()"
   ]
  },
  {
   "cell_type": "code",
   "execution_count": 54,
   "id": "9f5f79fc",
   "metadata": {},
   "outputs": [
    {
     "data": {
      "text/html": [
       "<div>\n",
       "<style scoped>\n",
       "    .dataframe tbody tr th:only-of-type {\n",
       "        vertical-align: middle;\n",
       "    }\n",
       "\n",
       "    .dataframe tbody tr th {\n",
       "        vertical-align: top;\n",
       "    }\n",
       "\n",
       "    .dataframe thead th {\n",
       "        text-align: right;\n",
       "    }\n",
       "</style>\n",
       "<table border=\"1\" class=\"dataframe\">\n",
       "  <thead>\n",
       "    <tr style=\"text-align: right;\">\n",
       "      <th></th>\n",
       "      <th>Price</th>\n",
       "    </tr>\n",
       "  </thead>\n",
       "  <tbody>\n",
       "    <tr>\n",
       "      <th>2017</th>\n",
       "      <td>-0.5</td>\n",
       "    </tr>\n",
       "    <tr>\n",
       "      <th>2018</th>\n",
       "      <td>0.9</td>\n",
       "    </tr>\n",
       "  </tbody>\n",
       "</table>\n",
       "</div>"
      ],
      "text/plain": [
       "      Price\n",
       "2017   -0.5\n",
       "2018    0.9"
      ]
     },
     "execution_count": 54,
     "metadata": {},
     "output_type": "execute_result"
    }
   ],
   "source": [
    "simple_returns = df.pct_change().dropna()\n",
    "simple_returns"
   ]
  },
  {
   "cell_type": "markdown",
   "id": "5bfbdca0",
   "metadata": {},
   "source": [
    "## Mean annual return \n",
    "Mean annual return is 20 percent"
   ]
  },
  {
   "cell_type": "code",
   "execution_count": 55,
   "id": "baedba70",
   "metadata": {},
   "outputs": [
    {
     "data": {
      "text/plain": [
       "Price    0.2\n",
       "dtype: float64"
      ]
     },
     "execution_count": 55,
     "metadata": {},
     "output_type": "execute_result"
    }
   ],
   "source": [
    "simple_returns.mean()"
   ]
  },
  {
   "cell_type": "markdown",
   "id": "159df596",
   "metadata": {},
   "source": [
    "Today stock price expected should be around 144 however it ends up at 95"
   ]
  },
  {
   "cell_type": "code",
   "execution_count": 56,
   "id": "0cd284b2",
   "metadata": {},
   "outputs": [
    {
     "data": {
      "text/plain": [
       "144.0"
      ]
     },
     "execution_count": 56,
     "metadata": {},
     "output_type": "execute_result"
    }
   ],
   "source": [
    "100*1.2*1.2"
   ]
  },
  {
   "cell_type": "markdown",
   "id": "ae432726",
   "metadata": {},
   "source": [
    "### Conclusion of mean return\n",
    "Average of simple returns does not give us the information that will increase our investment. Consequently mean of simple return can be **very misleading.** We have a positive return, but actually lost the money.\n",
    "\n",
    "We can overcome this problem by using logarithmic returns."
   ]
  },
  {
   "cell_type": "code",
   "execution_count": 57,
   "id": "ca1cbf8c",
   "metadata": {},
   "outputs": [
    {
     "data": {
      "text/html": [
       "<div>\n",
       "<style scoped>\n",
       "    .dataframe tbody tr th:only-of-type {\n",
       "        vertical-align: middle;\n",
       "    }\n",
       "\n",
       "    .dataframe tbody tr th {\n",
       "        vertical-align: top;\n",
       "    }\n",
       "\n",
       "    .dataframe thead th {\n",
       "        text-align: right;\n",
       "    }\n",
       "</style>\n",
       "<table border=\"1\" class=\"dataframe\">\n",
       "  <thead>\n",
       "    <tr style=\"text-align: right;\">\n",
       "      <th></th>\n",
       "      <th>Price</th>\n",
       "    </tr>\n",
       "  </thead>\n",
       "  <tbody>\n",
       "    <tr>\n",
       "      <th>2016</th>\n",
       "      <td>100</td>\n",
       "    </tr>\n",
       "    <tr>\n",
       "      <th>2017</th>\n",
       "      <td>50</td>\n",
       "    </tr>\n",
       "    <tr>\n",
       "      <th>2018</th>\n",
       "      <td>95</td>\n",
       "    </tr>\n",
       "  </tbody>\n",
       "</table>\n",
       "</div>"
      ],
      "text/plain": [
       "      Price\n",
       "2016    100\n",
       "2017     50\n",
       "2018     95"
      ]
     },
     "execution_count": 57,
     "metadata": {},
     "output_type": "execute_result"
    }
   ],
   "source": [
    "df"
   ]
  },
  {
   "cell_type": "markdown",
   "id": "4cb76550",
   "metadata": {},
   "source": [
    "## Calculate algorithmic returns"
   ]
  },
  {
   "cell_type": "code",
   "execution_count": 58,
   "id": "5f1267a9",
   "metadata": {},
   "outputs": [
    {
     "data": {
      "text/html": [
       "<div>\n",
       "<style scoped>\n",
       "    .dataframe tbody tr th:only-of-type {\n",
       "        vertical-align: middle;\n",
       "    }\n",
       "\n",
       "    .dataframe tbody tr th {\n",
       "        vertical-align: top;\n",
       "    }\n",
       "\n",
       "    .dataframe thead th {\n",
       "        text-align: right;\n",
       "    }\n",
       "</style>\n",
       "<table border=\"1\" class=\"dataframe\">\n",
       "  <thead>\n",
       "    <tr style=\"text-align: right;\">\n",
       "      <th></th>\n",
       "      <th>Price</th>\n",
       "    </tr>\n",
       "  </thead>\n",
       "  <tbody>\n",
       "    <tr>\n",
       "      <th>2016</th>\n",
       "      <td>NaN</td>\n",
       "    </tr>\n",
       "    <tr>\n",
       "      <th>2017</th>\n",
       "      <td>-0.693147</td>\n",
       "    </tr>\n",
       "    <tr>\n",
       "      <th>2018</th>\n",
       "      <td>0.641854</td>\n",
       "    </tr>\n",
       "  </tbody>\n",
       "</table>\n",
       "</div>"
      ],
      "text/plain": [
       "         Price\n",
       "2016       NaN\n",
       "2017 -0.693147\n",
       "2018  0.641854"
      ]
     },
     "execution_count": 58,
     "metadata": {},
     "output_type": "execute_result"
    }
   ],
   "source": [
    "np.log((df/df.shift(1)))"
   ]
  },
  {
   "cell_type": "code",
   "execution_count": 59,
   "id": "311cc741",
   "metadata": {},
   "outputs": [
    {
     "data": {
      "text/html": [
       "<div>\n",
       "<style scoped>\n",
       "    .dataframe tbody tr th:only-of-type {\n",
       "        vertical-align: middle;\n",
       "    }\n",
       "\n",
       "    .dataframe tbody tr th {\n",
       "        vertical-align: top;\n",
       "    }\n",
       "\n",
       "    .dataframe thead th {\n",
       "        text-align: right;\n",
       "    }\n",
       "</style>\n",
       "<table border=\"1\" class=\"dataframe\">\n",
       "  <thead>\n",
       "    <tr style=\"text-align: right;\">\n",
       "      <th></th>\n",
       "      <th>Price</th>\n",
       "    </tr>\n",
       "  </thead>\n",
       "  <tbody>\n",
       "    <tr>\n",
       "      <th>2017</th>\n",
       "      <td>-0.693147</td>\n",
       "    </tr>\n",
       "    <tr>\n",
       "      <th>2018</th>\n",
       "      <td>0.641854</td>\n",
       "    </tr>\n",
       "  </tbody>\n",
       "</table>\n",
       "</div>"
      ],
      "text/plain": [
       "         Price\n",
       "2017 -0.693147\n",
       "2018  0.641854"
      ]
     },
     "execution_count": 59,
     "metadata": {},
     "output_type": "execute_result"
    }
   ],
   "source": [
    "log_returns = np.log((df/df.shift(1))).dropna()\n",
    "log_returns"
   ]
  },
  {
   "cell_type": "code",
   "execution_count": 60,
   "id": "6e8ae75d",
   "metadata": {},
   "outputs": [
    {
     "data": {
      "text/plain": [
       "Price   -0.025647\n",
       "dtype: float64"
      ]
     },
     "execution_count": 60,
     "metadata": {},
     "output_type": "execute_result"
    }
   ],
   "source": [
    "log_returns.mean()"
   ]
  },
  {
   "cell_type": "code",
   "execution_count": 61,
   "id": "21d705fd",
   "metadata": {},
   "outputs": [
    {
     "data": {
      "text/plain": [
       "Price    95.0\n",
       "dtype: float64"
      ]
     },
     "execution_count": 61,
     "metadata": {},
     "output_type": "execute_result"
    }
   ],
   "source": [
    "100 * np.exp(2*log_returns.mean())"
   ]
  },
  {
   "cell_type": "code",
   "execution_count": null,
   "id": "f1bca006",
   "metadata": {},
   "outputs": [],
   "source": []
  }
 ],
 "metadata": {
  "kernelspec": {
   "display_name": "Python 3.10.4 ('time_series_trade')",
   "language": "python",
   "name": "python3"
  },
  "language_info": {
   "codemirror_mode": {
    "name": "ipython",
    "version": 3
   },
   "file_extension": ".py",
   "mimetype": "text/x-python",
   "name": "python",
   "nbconvert_exporter": "python",
   "pygments_lexer": "ipython3",
   "version": "3.10.4"
  },
  "toc": {
   "base_numbering": 1,
   "nav_menu": {},
   "number_sections": true,
   "sideBar": true,
   "skip_h1_title": false,
   "title_cell": "Table of Contents",
   "title_sidebar": "Contents",
   "toc_cell": false,
   "toc_position": {},
   "toc_section_display": true,
   "toc_window_display": false
  },
  "vscode": {
   "interpreter": {
    "hash": "b9918468c7db46b8f6d092d97f0c6ca59890ca3e17ae0eb5a9ccedf573a9d9e6"
   }
  }
 },
 "nbformat": 4,
 "nbformat_minor": 5
}
